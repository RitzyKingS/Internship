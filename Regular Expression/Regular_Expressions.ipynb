{
  "nbformat": 4,
  "nbformat_minor": 0,
  "metadata": {
    "colab": {
      "provenance": []
    },
    "kernelspec": {
      "name": "python3",
      "display_name": "Python 3"
    },
    "language_info": {
      "name": "python"
    }
  },
  "cells": [
    {
      "cell_type": "markdown",
      "source": [
        "# Regular Expressions Assignment"
      ],
      "metadata": {
        "id": "v2biz6p6ofmQ"
      }
    },
    {
      "cell_type": "markdown",
      "source": [
        "Question 1- Write a Python program to check that a string contains only a certain set of characters (in this case a-z, A-Z and 0-9)."
      ],
      "metadata": {
        "id": "9PIiXTZlopPj"
      }
    },
    {
      "cell_type": "code",
      "source": [
        "def check_string(string):\n",
        "  allowed_characters = set(\"abcdefghijklmnopqrstuvwxyzABCDEFGHIJKLMNOPQRSTUVWXYZ0123456789\")\n",
        "  for character in string:\n",
        "    if character not in allowed_characters:\n",
        "      return False\n",
        "  return True\n",
        "\n",
        "def main():\n",
        "  string = input(\"Enter a string: \")\n",
        "  if check_string(string):\n",
        "    print(\"The string contains only a-z, A-Z and 0-9 characters.\")\n",
        "  else:\n",
        "    print(\"The string contains characters other than a-z, A-Z and 0-9.\")\n",
        "\n",
        "if __name__ == \"__main__\":\n",
        "  main()\n",
        "\n"
      ],
      "metadata": {
        "colab": {
          "base_uri": "https://localhost:8080/"
        },
        "id": "5RxeQPbpowXt",
        "outputId": "4e99d521-2bc9-4665-bdf6-cb245f698867"
      },
      "execution_count": null,
      "outputs": [
        {
          "output_type": "stream",
          "name": "stdout",
          "text": [
            "Enter a string: @#@#$\n",
            "The string contains characters other than a-z, A-Z and 0-9.\n"
          ]
        }
      ]
    },
    {
      "cell_type": "markdown",
      "source": [
        "Question 2- Create a function in python that matches a string that has an a followed by zero or more b's"
      ],
      "metadata": {
        "id": "PuLgd552pbIE"
      }
    },
    {
      "cell_type": "code",
      "source": [
        "import re\n",
        "\n",
        "def match_ab(string):\n",
        "  pattern = r\"a(b)*\"\n",
        "  match = re.search(pattern, string)\n",
        "  if match:\n",
        "    return True\n",
        "  else:\n",
        "    return False\n",
        "\n",
        "if __name__ == \"__main__\":\n",
        "  string = \"ab\"\n",
        "  print(match_ab(string))\n",
        "  string = \"a\"\n",
        "  print(match_ab(string))\n",
        "  string = \"abbbb\"\n",
        "  print(match_ab(string))"
      ],
      "metadata": {
        "colab": {
          "base_uri": "https://localhost:8080/"
        },
        "id": "fpudk3jCpPW2",
        "outputId": "f80d603f-7fec-45fe-cc35-831265df7cca"
      },
      "execution_count": null,
      "outputs": [
        {
          "output_type": "stream",
          "name": "stdout",
          "text": [
            "True\n",
            "True\n",
            "True\n"
          ]
        }
      ]
    },
    {
      "cell_type": "markdown",
      "source": [
        "Question 3-  Create a function in python that matches a string that has an a followed by one or more b's"
      ],
      "metadata": {
        "id": "TeF0sijdrJRv"
      }
    },
    {
      "cell_type": "code",
      "source": [
        "import re\n",
        "\n",
        "def match_ab(string):\n",
        "  pattern = r\"a(b)+\"\n",
        "  match = re.search(pattern, string)\n",
        "  if match:\n",
        "    return True\n",
        "  else:\n",
        "    return False\n",
        "\n",
        "if __name__ == \"__main__\":\n",
        "  string = \"ab\"\n",
        "  print(match_ab(string))\n",
        "  string = \"a\"\n",
        "  print(match_ab(string))\n",
        "  string = \"abbbb\"\n",
        "  print(match_ab(string))\n"
      ],
      "metadata": {
        "colab": {
          "base_uri": "https://localhost:8080/"
        },
        "id": "cTBaXZUepjZc",
        "outputId": "1e40ea5c-d3d8-4bca-c908-307e3bc84c88"
      },
      "execution_count": null,
      "outputs": [
        {
          "output_type": "stream",
          "name": "stdout",
          "text": [
            "True\n",
            "False\n",
            "True\n"
          ]
        }
      ]
    },
    {
      "cell_type": "markdown",
      "source": [
        "Question 4- Create a function in Python and use RegEx that matches a string that has an a followed by zero or one 'b'."
      ],
      "metadata": {
        "id": "sMeW2B12sGWp"
      }
    },
    {
      "cell_type": "code",
      "source": [
        "import re\n",
        "\n",
        "def match_ab(string):\n",
        "  pattern = r\"a(b)?\"\n",
        "  match = re.search(pattern, string)\n",
        "  if match:\n",
        "    return True\n",
        "  else:\n",
        "    return False\n",
        "\n",
        "if __name__ == \"__main__\":\n",
        "  string = \"ab\"\n",
        "  print(match_ab(string))\n",
        "  string = \"a\"\n",
        "  print(match_ab(string))\n",
        "  string = \"abb\"\n",
        "  print(match_ab(string))\n"
      ],
      "metadata": {
        "colab": {
          "base_uri": "https://localhost:8080/"
        },
        "id": "Yf4k7TGksP05",
        "outputId": "35f70640-badc-412b-913c-eed647dbf323"
      },
      "execution_count": 1,
      "outputs": [
        {
          "output_type": "stream",
          "name": "stdout",
          "text": [
            "True\n",
            "True\n",
            "True\n"
          ]
        }
      ]
    },
    {
      "cell_type": "markdown",
      "source": [
        "Question 5- Write a Python program that matches a string that has an a followed by three 'b'."
      ],
      "metadata": {
        "id": "WTaqeedx-wwN"
      }
    },
    {
      "cell_type": "code",
      "source": [
        "import re\n",
        "\n",
        "def match_ab(string):\n",
        "    pattern = r\"ab{3}\"\n",
        "    match = re.search(pattern, string)\n",
        "    if match:\n",
        "        return True\n",
        "    else:\n",
        "        return False\n",
        "\n",
        "if __name__ == \"__main__\":\n",
        "    string = \"abbbb\"\n",
        "    print(match_ab(string))\n",
        "    string = \"ab\"\n",
        "    print(match_ab(string))\n",
        "    string = \"abb\"\n",
        "    print(match_ab(string))\n",
        "    string = \"a\"\n",
        "    print(match_ab(string))\n"
      ],
      "metadata": {
        "id": "AnAPcr5xtKUA",
        "colab": {
          "base_uri": "https://localhost:8080/"
        },
        "outputId": "ef2c3693-7bad-4ac6-cb4e-95032cdd994a"
      },
      "execution_count": 5,
      "outputs": [
        {
          "output_type": "stream",
          "name": "stdout",
          "text": [
            "True\n",
            "False\n",
            "False\n",
            "False\n"
          ]
        }
      ]
    },
    {
      "cell_type": "markdown",
      "source": [
        "Question 6- Write a regular expression in Python to split a string into uppercase letters.\n",
        "Sample text: “ImportanceOfRegularExpressionsInPython”\n",
        "Output: [‘Importance’, ‘Of’, ‘Regular’, ‘Expression’, ‘In’, ‘Python’]\n"
      ],
      "metadata": {
        "id": "Tbb6DflAAZQf"
      }
    },
    {
      "cell_type": "code",
      "source": [
        "import re\n",
        "\n",
        "def split_string(string):\n",
        "    pattern = r\"[A-Z][a-z]*\"\n",
        "    matches = re.findall(pattern, string)\n",
        "    return matches\n",
        "\n",
        "if __name__ == \"__main__\":\n",
        "    string = \"ImportanceOfRegularExpressionsInPython\"\n",
        "    print(split_string(string))\n"
      ],
      "metadata": {
        "colab": {
          "base_uri": "https://localhost:8080/"
        },
        "id": "h2xtxgUq-yKl",
        "outputId": "a5cbbe9c-2330-482e-abe3-285061af54b4"
      },
      "execution_count": 8,
      "outputs": [
        {
          "output_type": "stream",
          "name": "stdout",
          "text": [
            "['Importance', 'Of', 'Regular', 'Expressions', 'In', 'Python']\n"
          ]
        }
      ]
    },
    {
      "cell_type": "markdown",
      "source": [
        "Question 7- Write a Python program that matches a string that has an a followed by two to three 'b'."
      ],
      "metadata": {
        "id": "nCMUNCaVBSZQ"
      }
    },
    {
      "cell_type": "code",
      "source": [
        "import re\n",
        "\n",
        "def match_ab(string):\n",
        "    pattern = r\"a(b{2,3})\"\n",
        "    match = re.search(pattern, string)\n",
        "    if match:\n",
        "        return True\n",
        "    else:\n",
        "        return False\n",
        "\n",
        "if __name__ == \"__main__\":\n",
        "    string = \"abbbb\"\n",
        "    print(match_ab(string))\n",
        "    string = \"ab\"\n",
        "    print(match_ab(string))\n",
        "    string = \"ab\" * 3\n",
        "    print(match_ab(string))\n"
      ],
      "metadata": {
        "colab": {
          "base_uri": "https://localhost:8080/"
        },
        "id": "rBrG47FDAXPf",
        "outputId": "ec7f6bc6-9442-494c-b773-73bf8c672c20"
      },
      "execution_count": 10,
      "outputs": [
        {
          "output_type": "stream",
          "name": "stdout",
          "text": [
            "True\n",
            "False\n",
            "False\n"
          ]
        }
      ]
    },
    {
      "cell_type": "markdown",
      "source": [
        "Question 8- Write a Python program to find sequences of lowercase letters joined with a underscore."
      ],
      "metadata": {
        "id": "Koay2XOuBX3L"
      }
    },
    {
      "cell_type": "code",
      "source": [
        "import re\n",
        "\n",
        "def find_sequences(string):\n",
        "  pattern = r\"[a-z]+_[a-z]+\"\n",
        "  matches = re.findall(pattern, string)\n",
        "  return matches\n",
        "\n",
        "if __name__ == \"__main__\":\n",
        "  string = \"this_is_a_sequence\"\n",
        "  print(find_sequences(string))\n"
      ],
      "metadata": {
        "colab": {
          "base_uri": "https://localhost:8080/"
        },
        "id": "kj7Xvp9CA75j",
        "outputId": "02a19b33-ec48-42d4-ac6a-7a3d2aed4097"
      },
      "execution_count": 11,
      "outputs": [
        {
          "output_type": "stream",
          "name": "stdout",
          "text": [
            "['this_is', 'a_sequence']\n"
          ]
        }
      ]
    },
    {
      "cell_type": "markdown",
      "source": [
        "Question 9- Write a Python program that matches a string that has an 'a' followed by anything, ending in 'b'."
      ],
      "metadata": {
        "id": "U6t3tnbnCuvJ"
      }
    },
    {
      "cell_type": "code",
      "source": [
        "import re\n",
        "\n",
        "def match_ab(string):\n",
        "  pattern = r\"a.*b\"\n",
        "  match = re.search(pattern, string)\n",
        "  if match:\n",
        "    return True\n",
        "  else:\n",
        "    return False\n",
        "\n",
        "if __name__ == \"__main__\":\n",
        "  string = \"abab\"\n",
        "  print(match_ab(string))\n",
        "  string = \"abb\"\n",
        "  print(match_ab(string))\n",
        "  string = \"a\"\n",
        "  print(match_ab(string))\n"
      ],
      "metadata": {
        "colab": {
          "base_uri": "https://localhost:8080/"
        },
        "id": "-D1TdcWdCHI7",
        "outputId": "7787987b-0d3d-4a94-cefb-9f002d0463e4"
      },
      "execution_count": 12,
      "outputs": [
        {
          "output_type": "stream",
          "name": "stdout",
          "text": [
            "True\n",
            "True\n",
            "False\n"
          ]
        }
      ]
    },
    {
      "cell_type": "markdown",
      "source": [
        "Question 10- Write a Python program that matches a word at the beginning of a string."
      ],
      "metadata": {
        "id": "1SdTHgt_C3LD"
      }
    },
    {
      "cell_type": "code",
      "source": [
        "import re\n",
        "\n",
        "def match_word_at_beginning(string):\n",
        "  pattern = r\"^\\w+\"\n",
        "  match = re.match(pattern, string)\n",
        "  if match:\n",
        "    return True\n",
        "  else:\n",
        "    return False\n",
        "\n",
        "if __name__ == \"__main__\":\n",
        "  string = \"This is a word\"\n",
        "  print(match_word_at_beginning(string))\n",
        "  string = \"is a word\"\n",
        "  print(match_word_at_beginning(string))\n",
        "  string = \"12345\"\n",
        "  print(match_word_at_beginning(string))\n"
      ],
      "metadata": {
        "colab": {
          "base_uri": "https://localhost:8080/"
        },
        "id": "CLf2ekdtCr3Z",
        "outputId": "88ff45f6-a6af-4e60-a7eb-d1bf90dad723"
      },
      "execution_count": 13,
      "outputs": [
        {
          "output_type": "stream",
          "name": "stdout",
          "text": [
            "True\n",
            "True\n",
            "True\n"
          ]
        }
      ]
    },
    {
      "cell_type": "markdown",
      "source": [
        "Question 11- Write a Python program to match a string that contains only upper and lowercase letters, numbers, and underscores."
      ],
      "metadata": {
        "id": "OGm03DOpDCsz"
      }
    },
    {
      "cell_type": "code",
      "source": [
        "import re\n",
        "\n",
        "def match_only_alphanum_underscore(string):\n",
        "  pattern = r\"^[a-zA-Z0-9_]+$\"\n",
        "  match = re.match(pattern, string)\n",
        "  if match:\n",
        "    return True\n",
        "  else:\n",
        "    return False\n",
        "\n",
        "if __name__ == \"__main__\":\n",
        "  string = \"This_is_a_word\"\n",
        "  print(match_only_alphanum_underscore(string))\n",
        "  string = \"This is a word\"\n",
        "  print(match_only_alphanum_underscore(string))\n",
        "  string = \"12345\"\n",
        "  print(match_only_alphanum_underscore(string))\n"
      ],
      "metadata": {
        "colab": {
          "base_uri": "https://localhost:8080/"
        },
        "id": "STDVUzT4C6Gi",
        "outputId": "46f668cc-3af7-4ffa-d0fe-45e68a4098ba"
      },
      "execution_count": 14,
      "outputs": [
        {
          "output_type": "stream",
          "name": "stdout",
          "text": [
            "True\n",
            "False\n",
            "True\n"
          ]
        }
      ]
    },
    {
      "cell_type": "markdown",
      "source": [
        "Question 12- Write a Python program where a string will start with a specific number."
      ],
      "metadata": {
        "id": "dG3Ohz45DHFr"
      }
    },
    {
      "cell_type": "code",
      "source": [
        "import re\n",
        "\n",
        "def match_string_starting_with_number(string):\n",
        "  pattern = r\"^\\d+\\w+\"\n",
        "  match = re.match(pattern, string)\n",
        "  if match:\n",
        "    return True\n",
        "  else:\n",
        "    return False\n",
        "\n",
        "if __name__ == \"__main__\":\n",
        "  string = \"123This is a word\"\n",
        "  print(match_string_starting_with_number(string))\n",
        "  string = \"This is a word\"\n",
        "  print(match_string_starting_with_number(string))\n",
        "  string = \"12345\"\n",
        "  print(match_string_starting_with_number(string))\n"
      ],
      "metadata": {
        "colab": {
          "base_uri": "https://localhost:8080/"
        },
        "id": "xtiqhA11DElq",
        "outputId": "c6697ae8-111b-409d-f3a3-df487ea503e7"
      },
      "execution_count": 15,
      "outputs": [
        {
          "output_type": "stream",
          "name": "stdout",
          "text": [
            "True\n",
            "False\n",
            "True\n"
          ]
        }
      ]
    },
    {
      "cell_type": "markdown",
      "source": [
        "Question 13- Write a Python program to remove leading zeros from an IP address"
      ],
      "metadata": {
        "id": "a9nbML-6DLqb"
      }
    },
    {
      "cell_type": "code",
      "source": [
        "import re\n",
        "\n",
        "def remove_leading_zeros_from_ip_address(ip_address):\n",
        "  pattern = r\"^0*\"\n",
        "  new_ip_address = re.sub(pattern, \"\", ip_address)\n",
        "  return new_ip_address\n",
        "\n",
        "if __name__ == \"__main__\":\n",
        "  ip_address = \"001.123.45.67\"\n",
        "  print(remove_leading_zeros_from_ip_address(ip_address))\n",
        "  ip_address = \"123.45.67\"\n",
        "  print(remove_leading_zeros_from_ip_address(ip_address))\n"
      ],
      "metadata": {
        "colab": {
          "base_uri": "https://localhost:8080/"
        },
        "id": "tzRe6LLuDJyK",
        "outputId": "c65eea54-8ee1-40f0-c271-f19e1b751d64"
      },
      "execution_count": 16,
      "outputs": [
        {
          "output_type": "stream",
          "name": "stdout",
          "text": [
            "1.123.45.67\n",
            "123.45.67\n"
          ]
        }
      ]
    },
    {
      "cell_type": "markdown",
      "source": [
        "Question 14- Write a regular expression in python to match a date string in the form of Month name followed by day number and year stored in a text file.\n",
        "Sample text : ' On August 15th 1947 that India was declared independent from British colonialism, and the reins of control were handed over to the leaders of the Country’.\n",
        "Output- August 15th 1947"
      ],
      "metadata": {
        "id": "VVDZTNuNDXg8"
      }
    },
    {
      "cell_type": "code",
      "source": [
        "import re\n",
        "\n",
        "def match_date_string(string):\n",
        "    pattern = r\"\\b\\w+ \\d{1,2}(?:st|nd|rd|th)? \\d{4}\\b\"\n",
        "    match = re.search(pattern, string)\n",
        "    if match:\n",
        "        return match.group()\n",
        "    else:\n",
        "        return None\n",
        "\n",
        "if __name__ == \"__main__\":\n",
        "    string = \"On August 15th 1947 that India was declared independent from British colonialism, and tdsfhjkhfjskd.\"\n",
        "    print(match_date_string(string))\n"
      ],
      "metadata": {
        "colab": {
          "base_uri": "https://localhost:8080/"
        },
        "id": "Nfdk5B28DQmD",
        "outputId": "e15b8693-73b3-4217-d9b4-5d25151c5225"
      },
      "execution_count": 23,
      "outputs": [
        {
          "output_type": "stream",
          "name": "stdout",
          "text": [
            "August 15th 1947\n"
          ]
        }
      ]
    },
    {
      "cell_type": "markdown",
      "source": [
        "Question 15- Write a Python program to search some literals strings in a string. Go to the editor\n",
        "Sample text : 'The quick brown fox jumps over the lazy dog.'\n",
        "Searched words : 'fox', 'dog', 'horse'"
      ],
      "metadata": {
        "id": "pc24L4z3EkS8"
      }
    },
    {
      "cell_type": "code",
      "source": [
        "import re\n",
        "\n",
        "def search_literal_strings(string, patterns):\n",
        "    for pattern in patterns:\n",
        "        matches = re.findall(pattern, string)\n",
        "        if matches:\n",
        "            print(f\" '{pattern}': {matches}\")\n",
        "\n",
        "if __name__ == \"__main__\":\n",
        "    string = \"The quick brown fox jumps over the lazy dog.\"\n",
        "    patterns = [\"fox\", \"dog\", \"horse\"]\n",
        "    search_literal_strings(string, patterns)\n"
      ],
      "metadata": {
        "colab": {
          "base_uri": "https://localhost:8080/"
        },
        "id": "OVPgoFbDDbp6",
        "outputId": "f1a1fa55-be00-4ed5-e94e-76245c28692a"
      },
      "execution_count": 28,
      "outputs": [
        {
          "output_type": "stream",
          "name": "stdout",
          "text": [
            " 'fox': ['fox']\n",
            " 'dog': ['dog']\n"
          ]
        }
      ]
    },
    {
      "cell_type": "markdown",
      "source": [
        "Question 16- Write a Python program to search a literals string in a string and also find the location within the original string where the pattern occurs\n",
        "Sample text : 'The quick brown fox jumps over the lazy dog.'\n",
        "Searched words : 'fox'\n"
      ],
      "metadata": {
        "id": "Llz-nY-7Firv"
      }
    },
    {
      "cell_type": "code",
      "source": [
        "def search_literal_string_and_location(string, pattern):\n",
        "  match = re.search(pattern, string)\n",
        "  if match:\n",
        "    print(match.group())\n",
        "    print(match.start())\n",
        "    print(match.end())\n",
        "\n",
        "if __name__ == \"__main__\":\n",
        "  string = \"The quick brown fox jumps over the lazy dog.\"\n",
        "  pattern = \"fox\"\n",
        "  search_literal_string_and_location(string, pattern)\n"
      ],
      "metadata": {
        "colab": {
          "base_uri": "https://localhost:8080/"
        },
        "id": "wfZ2GPqbEoWX",
        "outputId": "8cb3006c-cb19-4932-c1df-e71a6af9cec1"
      },
      "execution_count": 29,
      "outputs": [
        {
          "output_type": "stream",
          "name": "stdout",
          "text": [
            "fox\n",
            "16\n",
            "19\n"
          ]
        }
      ]
    },
    {
      "cell_type": "markdown",
      "source": [
        "Question 17- Write a Python program to find the substrings within a string.\n",
        "Sample text : 'Python exercises, PHP exercises, C# exercises'\n",
        "Pattern : 'exercises'.\n"
      ],
      "metadata": {
        "id": "4uB0gb_oFxJo"
      }
    },
    {
      "cell_type": "code",
      "source": [
        "def find_substrings(string, pattern):\n",
        "  matches = re.findall(pattern, string)\n",
        "  return matches\n",
        "\n",
        "if __name__ == \"__main__\":\n",
        "  string = \"Python exercises, PHP exercises, C# exercises\"\n",
        "  pattern = \"exercises\"\n",
        "  print(find_substrings(string, pattern))\n"
      ],
      "metadata": {
        "colab": {
          "base_uri": "https://localhost:8080/"
        },
        "id": "QIoR78kZFmlJ",
        "outputId": "a354d03b-9b9a-44a7-eefb-0f2fc84e7d13"
      },
      "execution_count": 30,
      "outputs": [
        {
          "output_type": "stream",
          "name": "stdout",
          "text": [
            "['exercises', 'exercises', 'exercises']\n"
          ]
        }
      ]
    },
    {
      "cell_type": "markdown",
      "source": [
        "Question 18- Write a Python program to find the occurrence and position of the substrings within a string."
      ],
      "metadata": {
        "id": "nS7M3NdCF64v"
      }
    },
    {
      "cell_type": "code",
      "source": [
        "def find_occurrence_and_position_of_substrings(string, pattern):\n",
        "  matches = re.finditer(pattern, string)\n",
        "  for match in matches:\n",
        "    print(match.group())\n",
        "    print(match.start())\n",
        "    print(match.end())\n",
        "\n",
        "if __name__ == \"__main__\":\n",
        "  string = \"Python exercises, PHP exercises, C# exercises\"\n",
        "  pattern = \"exercises\"\n",
        "  find_occurrence_and_position_of_substrings(string, pattern)\n"
      ],
      "metadata": {
        "colab": {
          "base_uri": "https://localhost:8080/"
        },
        "id": "XDfg1CHmF0Uv",
        "outputId": "c7d7d70c-f213-4be3-ff82-9b42c8b79f30"
      },
      "execution_count": 31,
      "outputs": [
        {
          "output_type": "stream",
          "name": "stdout",
          "text": [
            "exercises\n",
            "7\n",
            "16\n",
            "exercises\n",
            "22\n",
            "31\n",
            "exercises\n",
            "36\n",
            "45\n"
          ]
        }
      ]
    },
    {
      "cell_type": "markdown",
      "source": [
        "Question 19- Write a Python program to convert a date of yyyy-mm-dd format to dd-mm-yyyy format."
      ],
      "metadata": {
        "id": "2-4r8u7JGAzw"
      }
    },
    {
      "cell_type": "code",
      "source": [
        "def convert_date_format(date):\n",
        "    if len(date) == 10 and date[4] == '-' and date[7] == '-':\n",
        "        return date[8:10] + '-' + date[5:7] + '-' + date[0:4]\n",
        "    else:\n",
        "        return \"Invalid date format. Please provide date in yyyy-mm-dd format.\"\n",
        "\n",
        "print(\"Date: 2023-07-14\")\n",
        "print(\"\\n Converted Date\")\n",
        "\n",
        "if __name__ == \"__main__\":\n",
        "    date = \"2023-07-14\"\n",
        "    print(convert_date_format(date))\n"
      ],
      "metadata": {
        "colab": {
          "base_uri": "https://localhost:8080/"
        },
        "id": "fJ0Pzp1RF7dn",
        "outputId": "903c96c1-49e1-4a5f-9d86-c9bd6c49f978"
      },
      "execution_count": 37,
      "outputs": [
        {
          "output_type": "stream",
          "name": "stdout",
          "text": [
            "Date: 2023-07-14\n",
            "\n",
            " Converted Date\n",
            "14-07-2023\n"
          ]
        }
      ]
    },
    {
      "cell_type": "markdown",
      "source": [
        "Question 20- Write a Python program to find all words starting with 'a' or 'e' in a given string."
      ],
      "metadata": {
        "id": "RMgimOI4GGIg"
      }
    },
    {
      "cell_type": "code",
      "source": [
        "import re\n",
        "\n",
        "def find_words_starting_with_a_or_e(text):\n",
        "    pattern = r'\\b[aAeE]\\w+\\b'\n",
        "    matches = re.findall(pattern, text)\n",
        "    return matches\n",
        "\n",
        "if __name__ == \"__main__\":\n",
        "    text = \"An apple and dsfs jklsadl  sk alskj  ksldj aed .\"\n",
        "    result = find_words_starting_with_a_or_e(text)\n",
        "    print(result)\n"
      ],
      "metadata": {
        "colab": {
          "base_uri": "https://localhost:8080/"
        },
        "id": "huWnk7KxGC7g",
        "outputId": "bbb043fb-dfa9-4318-8957-ea8d16a2c2cd"
      },
      "execution_count": 39,
      "outputs": [
        {
          "output_type": "stream",
          "name": "stdout",
          "text": [
            "['An', 'apple', 'and', 'alskj', 'aed']\n"
          ]
        }
      ]
    },
    {
      "cell_type": "markdown",
      "source": [
        "Question 21- Write a Python program to separate and print the numbers and their position of a given string."
      ],
      "metadata": {
        "id": "vCZOL87iG7Zy"
      }
    },
    {
      "cell_type": "code",
      "source": [
        "def separate_and_print_numbers_and_their_position(string):\n",
        "  pattern = r\"\\d+\"\n",
        "  matches = re.finditer(pattern, string)\n",
        "  for match in matches:\n",
        "    print(match.group(), match.start())\n",
        "\n",
        "if __name__ == \"__main__\":\n",
        "  string = \"Tsdfjk hkd dha jkhdsk og. 123 456 789\"\n",
        "  separate_and_print_numbers_and_their_position(string)\n"
      ],
      "metadata": {
        "colab": {
          "base_uri": "https://localhost:8080/"
        },
        "id": "gzloQ3uWGIdv",
        "outputId": "ced29308-1de1-4ff3-fa94-2cba12a3475b"
      },
      "execution_count": 42,
      "outputs": [
        {
          "output_type": "stream",
          "name": "stdout",
          "text": [
            "123 26\n",
            "456 30\n",
            "789 34\n"
          ]
        }
      ]
    },
    {
      "cell_type": "markdown",
      "source": [
        "Question 22- Write a regular expression in python program to extract maximum numeric value from a string"
      ],
      "metadata": {
        "id": "6t1Q-0yGHXba"
      }
    },
    {
      "cell_type": "code",
      "source": [
        "import re\n",
        "\n",
        "def extract_maximum_numeric_value(string):\n",
        "    numbers = re.findall(r'\\d+', string)\n",
        "    if numbers:\n",
        "        return max(map(int, numbers))\n",
        "    else:\n",
        "        return None\n",
        "\n",
        "print(\"The maximum value is 12345 and the minimum value is 42.\")\n",
        "\n",
        "if __name__ == \"__main__\":\n",
        "    string = \"The maximum value is 12345 and the minimum value is 42.\"\n",
        "    print(extract_maximum_numeric_value(string))\n"
      ],
      "metadata": {
        "colab": {
          "base_uri": "https://localhost:8080/"
        },
        "id": "585Ae7WFHCLz",
        "outputId": "319ea3b0-7053-4d63-dc3f-cce4d4bab02a"
      },
      "execution_count": 45,
      "outputs": [
        {
          "output_type": "stream",
          "name": "stdout",
          "text": [
            "The maximum value is 12345 and the minimum value is 42.\n",
            "12345\n"
          ]
        }
      ]
    },
    {
      "cell_type": "markdown",
      "source": [
        "Question 23- Write a Regex in Python to put spaces between words starting with capital letters"
      ],
      "metadata": {
        "id": "o3OGRljVHwAL"
      }
    },
    {
      "cell_type": "code",
      "source": [
        "import re\n",
        "\n",
        "def add_spaces_between_capitals(string):\n",
        "    pattern = r'(?<=[a-z])(?=[A-Z])'\n",
        "    modified_string = re.sub(pattern, ' ', string)\n",
        "    return modified_string\n",
        "\n",
        "if __name__ == \"__main__\":\n",
        "    string = \"ImportanceOfRegularExpressionsInPython\"\n",
        "    print(add_spaces_between_capitals(string))\n"
      ],
      "metadata": {
        "colab": {
          "base_uri": "https://localhost:8080/"
        },
        "id": "xsPUz6saHZ_y",
        "outputId": "41887b7e-e8ef-435d-ac6e-46b3af9792d4"
      },
      "execution_count": 47,
      "outputs": [
        {
          "output_type": "stream",
          "name": "stdout",
          "text": [
            "Importance Of Regular Expressions In Python\n"
          ]
        }
      ]
    },
    {
      "cell_type": "markdown",
      "source": [
        "Question 24- Python regex to find sequences of one upper case letter followed by lower case letters"
      ],
      "metadata": {
        "id": "uaGC59rYLMaY"
      }
    },
    {
      "cell_type": "code",
      "source": [
        "import re\n",
        "\n",
        "def find_uppercase_lowercase_sequence(string):\n",
        "    pattern = r'[A-Z][a-z]+'\n",
        "    sequences = re.findall(pattern, string)\n",
        "    return sequences\n",
        "\n",
        "if __name__ == \"__main__\":\n",
        "    string = \"The Quick brown fox Jumps Over the Lazy Dog\"\n",
        "    sequences = find_uppercase_lowercase_sequence(string)\n",
        "    print(sequences)\n"
      ],
      "metadata": {
        "colab": {
          "base_uri": "https://localhost:8080/"
        },
        "id": "tjCX6_jxKmjC",
        "outputId": "bf517d36-4a62-4cfe-9146-cd2eb32a408e"
      },
      "execution_count": 48,
      "outputs": [
        {
          "output_type": "stream",
          "name": "stdout",
          "text": [
            "['The', 'Quick', 'Jumps', 'Over', 'Lazy', 'Dog']\n"
          ]
        }
      ]
    },
    {
      "cell_type": "markdown",
      "source": [
        "Question 25- Write a Python program to remove duplicate words from Sentence using Regular Expression"
      ],
      "metadata": {
        "id": "d5tYGfzTL3Mr"
      }
    },
    {
      "cell_type": "code",
      "source": [
        "import re\n",
        "\n",
        "def remove_duplicate_words(sentence):\n",
        "  pattern = r\"\\b(\\w+)(?:\\b\\W+\\b\\1)+\\b\"\n",
        "  new_sentence = re.sub(pattern, r\"\\1\", sentence)\n",
        "  return new_sentence\n",
        "\n",
        "if __name__ == \"__main__\":\n",
        "  sentence = \"The quick quick brown brown fox jumps over the lazy dog. The dog is brown.\"\n",
        "  new_sentence = remove_duplicate_words(sentence)\n",
        "  print(new_sentence)\n"
      ],
      "metadata": {
        "colab": {
          "base_uri": "https://localhost:8080/"
        },
        "id": "8tyjopnPLNH3",
        "outputId": "6b2f1c1c-cc91-494a-dfe5-bacd4b22a305"
      },
      "execution_count": 56,
      "outputs": [
        {
          "output_type": "stream",
          "name": "stdout",
          "text": [
            "The quick brown fox jumps over the lazy dog. The dog is brown.\n"
          ]
        }
      ]
    },
    {
      "cell_type": "markdown",
      "source": [
        "Question 27-Write a python program using RegEx to extract the hashtags.\n",
        "Sample Text: text = \"\"\"RT @kapil_kausik: #Doltiwal I mean #xyzabc is \"hurt\" by #Demonetization as the same has rendered USELESS <ed><U+00A0><U+00BD><ed><U+00B1><U+0089> \"acquired funds\" No wo\"\"\"\n",
        "Output: ['#Doltiwal', '#xyzabc', '#Demonetization']\n"
      ],
      "metadata": {
        "id": "AlLQmKbzN8Qm"
      }
    },
    {
      "cell_type": "code",
      "source": [
        "import re\n",
        "\n",
        "def extract_hashtags(text):\n",
        "  pattern = r\"#\\w+\"\n",
        "  matches = re.findall(pattern, text)\n",
        "  return matches\n",
        "\n",
        "if __name__ == \"__main__\":\n",
        "  text = \"\"\"RT @kapil_kausik: #Doltiwal I mean #xyzabc is \"hurt\" by #Demonetization as the same has rendered USELESS <ed><U+00A0><U+00BD><ed><U+00B1><U+0089> \"acquired funds\" No wo\"\"\"\n",
        "  hashtags = extract_hashtags(text)\n",
        "  print(hashtags)\n"
      ],
      "metadata": {
        "colab": {
          "base_uri": "https://localhost:8080/"
        },
        "id": "W6-MpOiaLy4y",
        "outputId": "267a766f-b701-4052-e3ee-c3cd2ddef961"
      },
      "execution_count": 57,
      "outputs": [
        {
          "output_type": "stream",
          "name": "stdout",
          "text": [
            "['#Doltiwal', '#xyzabc', '#Demonetization']\n"
          ]
        }
      ]
    },
    {
      "cell_type": "markdown",
      "source": [
        "Question 28- Write a python program using RegEx to remove <U+..> like symbols\n",
        "Check the below sample text, there are strange symbols something of the sort <U+..> all over the place. You need to come up with a general Regex expression that will cover all such symbols.\n",
        "Sample Text: \"@Jags123456 Bharat band on 28??<ed><U+00A0><U+00BD><ed><U+00B8><U+0082>Those who  are protesting #demonetization  are all different party leaders\"\n",
        "Output: @Jags123456 Bharat band on 28??<ed><ed>Those who  are protesting #demonetization  are all different party leaders\n"
      ],
      "metadata": {
        "id": "lndCuLOUOR23"
      }
    },
    {
      "cell_type": "code",
      "source": [
        "import re\n",
        "\n",
        "def remove_unicode_symbols(text):\n",
        "  pattern = r\"<U\\+[0-9A-F]{4}>\"\n",
        "  new_text = re.sub(pattern, \"\", text)\n",
        "  return new_text\n",
        "\n",
        "if __name__ == \"__main__\":\n",
        "  text = \"\"\"@Jags123456 Bharat band on 28??<ed><U+00A0><U+00BD><ed><U+00B8><U+0082>Those who  are protesting #demonetization  are all different party leaders\"\"\"\n",
        "  new_text = remove_unicode_symbols(text)\n",
        "  print(new_text)\n"
      ],
      "metadata": {
        "colab": {
          "base_uri": "https://localhost:8080/"
        },
        "id": "BRQP1kCyN_Du",
        "outputId": "eb54b2a9-1b81-4930-e391-0d521052ad3b"
      },
      "execution_count": 58,
      "outputs": [
        {
          "output_type": "stream",
          "name": "stdout",
          "text": [
            "@Jags123456 Bharat band on 28??<ed><ed>Those who  are protesting #demonetization  are all different party leaders\n"
          ]
        }
      ]
    },
    {
      "cell_type": "markdown",
      "source": [
        "Question 29- Write a python program to extract dates from the text stored in the text file.\n",
        "Sample Text: Ron was born on 12-09-1992 and he was admitted to school 15-12-1999.\n",
        "Store this sample text in the file and then extract dates.\n"
      ],
      "metadata": {
        "id": "K_xCW29MOhik"
      }
    },
    {
      "cell_type": "code",
      "source": [
        "import re\n",
        "\n",
        "def extract_dates_from_file(filename):\n",
        "    with open(filename, 'r') as file:\n",
        "        text = file.read()\n",
        "\n",
        "    pattern = r'\\b\\d{2}-\\d{2}-\\d{4}\\b'\n",
        "    dates = re.findall(pattern, text)\n",
        "    return dates\n",
        "\n",
        "if __name__ == \"__main__\":\n",
        "    sample_text = \"Ron was born on 12-09-1992 and he was admitted to school 15-12-1999.\"\n",
        "    filename = \"sample_text.txt\"\n",
        "\n",
        "    with open(filename, 'w') as file:\n",
        "        file.write(sample_text)\n",
        "\n",
        "    extracted_dates = extract_dates_from_file(filename)\n",
        "    print(extracted_dates)\n"
      ],
      "metadata": {
        "colab": {
          "base_uri": "https://localhost:8080/"
        },
        "id": "ELPVwbkgOS3k",
        "outputId": "99a18052-8b05-4d0f-f3f3-ad35714e6c5d"
      },
      "execution_count": 60,
      "outputs": [
        {
          "output_type": "stream",
          "name": "stdout",
          "text": [
            "['12-09-1992', '15-12-1999']\n"
          ]
        }
      ]
    },
    {
      "cell_type": "markdown",
      "source": [
        "Question 30- Write a Python program to replace all occurrences of a space, comma, or dot with a colon.\n",
        "Sample Text- 'Python Exercises, PHP exercises.'\n",
        "Output: Python:Exercises::PHP:exercises:\n"
      ],
      "metadata": {
        "id": "5WfJQ_f2O-cl"
      }
    },
    {
      "cell_type": "code",
      "source": [
        "def replace_characters_with_colon(text):\n",
        "    characters_to_replace = [' ', ',', '.']\n",
        "    for char in characters_to_replace:\n",
        "        text = text.replace(char, ':')\n",
        "    return text\n",
        "\n",
        "if __name__ == \"__main__\":\n",
        "    sample_text = 'Python Exercises, PHP exercises.'\n",
        "    modified_text = replace_characters_with_colon(sample_text)\n",
        "    print(modified_text)\n"
      ],
      "metadata": {
        "colab": {
          "base_uri": "https://localhost:8080/"
        },
        "id": "FEmLFvb4OiND",
        "outputId": "b003e85b-0dde-4e00-e040-5c739e61156b"
      },
      "execution_count": 61,
      "outputs": [
        {
          "output_type": "stream",
          "name": "stdout",
          "text": [
            "Python:Exercises::PHP:exercises:\n"
          ]
        }
      ]
    },
    {
      "cell_type": "code",
      "source": [],
      "metadata": {
        "id": "Jc7OBqH5O_EV"
      },
      "execution_count": null,
      "outputs": []
    }
  ]
}