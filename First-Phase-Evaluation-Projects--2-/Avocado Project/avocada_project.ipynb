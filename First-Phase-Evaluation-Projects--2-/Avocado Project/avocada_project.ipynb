{
  "cells": [
    {
      "cell_type": "markdown",
      "id": "a41004cd",
      "metadata": {
        "id": "a41004cd"
      },
      "source": [
        "# AVOCADA PROJECT"
      ]
    },
    {
      "cell_type": "markdown",
      "id": "08c6f3b6",
      "metadata": {
        "id": "08c6f3b6"
      },
      "source": [
        "IMPORT LIBRARIES"
      ]
    },
    {
      "cell_type": "code",
      "execution_count": 33,
      "id": "b583b191",
      "metadata": {
        "id": "b583b191"
      },
      "outputs": [],
      "source": [
        "import numpy as np\n",
        "from sklearn.preprocessing import StandardScaler\n",
        "import pandas as pd\n",
        "from sklearn.linear_model import LinearRegression\n",
        "from sklearn.metrics import confusion_matrix, classification_report, accuracy_score,roc_auc_score,roc_curve\n",
        "from sklearn.linear_model import LogisticRegression\n",
        "from sklearn.tree import DecisionTreeClassifier\n",
        "from sklearn.model_selection import train_test_split\n",
        "from sklearn.linear_model import Ridge,Lasso,RidgeCV,LassoCV\n",
        "import matplotlib.pyplot as plt\n",
        "from statsmodels.stats.outliers_influence import variance_inflation_factor\n",
        "from sklearn.metrics import mean_squared_error, mean_absolute_error\n",
        "import seaborn as sns\n",
        "import pickle\n",
        "from scipy.stats import zscore\n",
        "import warnings\n",
        "warnings.filterwarnings ('ignore')"
      ]
    },
    {
      "cell_type": "markdown",
      "id": "a7799fe9",
      "metadata": {
        "id": "a7799fe9"
      },
      "source": [
        "# Data collection"
      ]
    },
    {
      "cell_type": "code",
      "execution_count": 34,
      "id": "b32ab473",
      "metadata": {
        "colab": {
          "base_uri": "https://localhost:8080/",
          "height": 614
        },
        "id": "b32ab473",
        "outputId": "8160c42b-93be-42a0-f291-0bc6c4098258"
      },
      "outputs": [
        {
          "output_type": "execute_result",
          "data": {
            "text/plain": [
              "       Unnamed: 0        Date  AveragePrice  Total Volume     4046       4225  \\\n",
              "0               0  2015-12-27          1.33      64236.62  1036.74   54454.85   \n",
              "1               1  2015-12-20          1.35      54876.98   674.28   44638.81   \n",
              "2               2  2015-12-13          0.93     118220.22   794.70  109149.67   \n",
              "3               3  2015-12-06          1.08      78992.15  1132.00   71976.41   \n",
              "4               4  2015-11-29          1.28      51039.60   941.48   43838.39   \n",
              "...           ...         ...           ...           ...      ...        ...   \n",
              "18244           7  2018-02-04          1.63      17074.83  2046.96    1529.20   \n",
              "18245           8  2018-01-28          1.71      13888.04  1191.70    3431.50   \n",
              "18246           9  2018-01-21          1.87      13766.76  1191.92    2452.79   \n",
              "18247          10  2018-01-14          1.93      16205.22  1527.63    2981.04   \n",
              "18248          11  2018-01-07          1.62      17489.58  2894.77    2356.13   \n",
              "\n",
              "         4770  Total Bags  Small Bags  Large Bags  XLarge Bags          type  \\\n",
              "0       48.16     8696.87     8603.62       93.25          0.0  conventional   \n",
              "1       58.33     9505.56     9408.07       97.49          0.0  conventional   \n",
              "2      130.50     8145.35     8042.21      103.14          0.0  conventional   \n",
              "3       72.58     5811.16     5677.40      133.76          0.0  conventional   \n",
              "4       75.78     6183.95     5986.26      197.69          0.0  conventional   \n",
              "...       ...         ...         ...         ...          ...           ...   \n",
              "18244    0.00    13498.67    13066.82      431.85          0.0       organic   \n",
              "18245    0.00     9264.84     8940.04      324.80          0.0       organic   \n",
              "18246  727.94     9394.11     9351.80       42.31          0.0       organic   \n",
              "18247  727.01    10969.54    10919.54       50.00          0.0       organic   \n",
              "18248  224.53    12014.15    11988.14       26.01          0.0       organic   \n",
              "\n",
              "       year            region  \n",
              "0      2015            Albany  \n",
              "1      2015            Albany  \n",
              "2      2015            Albany  \n",
              "3      2015            Albany  \n",
              "4      2015            Albany  \n",
              "...     ...               ...  \n",
              "18244  2018  WestTexNewMexico  \n",
              "18245  2018  WestTexNewMexico  \n",
              "18246  2018  WestTexNewMexico  \n",
              "18247  2018  WestTexNewMexico  \n",
              "18248  2018  WestTexNewMexico  \n",
              "\n",
              "[18249 rows x 14 columns]"
            ],
            "text/html": [
              "\n",
              "  <div id=\"df-8bfaaf35-dfd1-4d51-b7ac-60f951d12228\" class=\"colab-df-container\">\n",
              "    <div>\n",
              "<style scoped>\n",
              "    .dataframe tbody tr th:only-of-type {\n",
              "        vertical-align: middle;\n",
              "    }\n",
              "\n",
              "    .dataframe tbody tr th {\n",
              "        vertical-align: top;\n",
              "    }\n",
              "\n",
              "    .dataframe thead th {\n",
              "        text-align: right;\n",
              "    }\n",
              "</style>\n",
              "<table border=\"1\" class=\"dataframe\">\n",
              "  <thead>\n",
              "    <tr style=\"text-align: right;\">\n",
              "      <th></th>\n",
              "      <th>Unnamed: 0</th>\n",
              "      <th>Date</th>\n",
              "      <th>AveragePrice</th>\n",
              "      <th>Total Volume</th>\n",
              "      <th>4046</th>\n",
              "      <th>4225</th>\n",
              "      <th>4770</th>\n",
              "      <th>Total Bags</th>\n",
              "      <th>Small Bags</th>\n",
              "      <th>Large Bags</th>\n",
              "      <th>XLarge Bags</th>\n",
              "      <th>type</th>\n",
              "      <th>year</th>\n",
              "      <th>region</th>\n",
              "    </tr>\n",
              "  </thead>\n",
              "  <tbody>\n",
              "    <tr>\n",
              "      <th>0</th>\n",
              "      <td>0</td>\n",
              "      <td>2015-12-27</td>\n",
              "      <td>1.33</td>\n",
              "      <td>64236.62</td>\n",
              "      <td>1036.74</td>\n",
              "      <td>54454.85</td>\n",
              "      <td>48.16</td>\n",
              "      <td>8696.87</td>\n",
              "      <td>8603.62</td>\n",
              "      <td>93.25</td>\n",
              "      <td>0.0</td>\n",
              "      <td>conventional</td>\n",
              "      <td>2015</td>\n",
              "      <td>Albany</td>\n",
              "    </tr>\n",
              "    <tr>\n",
              "      <th>1</th>\n",
              "      <td>1</td>\n",
              "      <td>2015-12-20</td>\n",
              "      <td>1.35</td>\n",
              "      <td>54876.98</td>\n",
              "      <td>674.28</td>\n",
              "      <td>44638.81</td>\n",
              "      <td>58.33</td>\n",
              "      <td>9505.56</td>\n",
              "      <td>9408.07</td>\n",
              "      <td>97.49</td>\n",
              "      <td>0.0</td>\n",
              "      <td>conventional</td>\n",
              "      <td>2015</td>\n",
              "      <td>Albany</td>\n",
              "    </tr>\n",
              "    <tr>\n",
              "      <th>2</th>\n",
              "      <td>2</td>\n",
              "      <td>2015-12-13</td>\n",
              "      <td>0.93</td>\n",
              "      <td>118220.22</td>\n",
              "      <td>794.70</td>\n",
              "      <td>109149.67</td>\n",
              "      <td>130.50</td>\n",
              "      <td>8145.35</td>\n",
              "      <td>8042.21</td>\n",
              "      <td>103.14</td>\n",
              "      <td>0.0</td>\n",
              "      <td>conventional</td>\n",
              "      <td>2015</td>\n",
              "      <td>Albany</td>\n",
              "    </tr>\n",
              "    <tr>\n",
              "      <th>3</th>\n",
              "      <td>3</td>\n",
              "      <td>2015-12-06</td>\n",
              "      <td>1.08</td>\n",
              "      <td>78992.15</td>\n",
              "      <td>1132.00</td>\n",
              "      <td>71976.41</td>\n",
              "      <td>72.58</td>\n",
              "      <td>5811.16</td>\n",
              "      <td>5677.40</td>\n",
              "      <td>133.76</td>\n",
              "      <td>0.0</td>\n",
              "      <td>conventional</td>\n",
              "      <td>2015</td>\n",
              "      <td>Albany</td>\n",
              "    </tr>\n",
              "    <tr>\n",
              "      <th>4</th>\n",
              "      <td>4</td>\n",
              "      <td>2015-11-29</td>\n",
              "      <td>1.28</td>\n",
              "      <td>51039.60</td>\n",
              "      <td>941.48</td>\n",
              "      <td>43838.39</td>\n",
              "      <td>75.78</td>\n",
              "      <td>6183.95</td>\n",
              "      <td>5986.26</td>\n",
              "      <td>197.69</td>\n",
              "      <td>0.0</td>\n",
              "      <td>conventional</td>\n",
              "      <td>2015</td>\n",
              "      <td>Albany</td>\n",
              "    </tr>\n",
              "    <tr>\n",
              "      <th>...</th>\n",
              "      <td>...</td>\n",
              "      <td>...</td>\n",
              "      <td>...</td>\n",
              "      <td>...</td>\n",
              "      <td>...</td>\n",
              "      <td>...</td>\n",
              "      <td>...</td>\n",
              "      <td>...</td>\n",
              "      <td>...</td>\n",
              "      <td>...</td>\n",
              "      <td>...</td>\n",
              "      <td>...</td>\n",
              "      <td>...</td>\n",
              "      <td>...</td>\n",
              "    </tr>\n",
              "    <tr>\n",
              "      <th>18244</th>\n",
              "      <td>7</td>\n",
              "      <td>2018-02-04</td>\n",
              "      <td>1.63</td>\n",
              "      <td>17074.83</td>\n",
              "      <td>2046.96</td>\n",
              "      <td>1529.20</td>\n",
              "      <td>0.00</td>\n",
              "      <td>13498.67</td>\n",
              "      <td>13066.82</td>\n",
              "      <td>431.85</td>\n",
              "      <td>0.0</td>\n",
              "      <td>organic</td>\n",
              "      <td>2018</td>\n",
              "      <td>WestTexNewMexico</td>\n",
              "    </tr>\n",
              "    <tr>\n",
              "      <th>18245</th>\n",
              "      <td>8</td>\n",
              "      <td>2018-01-28</td>\n",
              "      <td>1.71</td>\n",
              "      <td>13888.04</td>\n",
              "      <td>1191.70</td>\n",
              "      <td>3431.50</td>\n",
              "      <td>0.00</td>\n",
              "      <td>9264.84</td>\n",
              "      <td>8940.04</td>\n",
              "      <td>324.80</td>\n",
              "      <td>0.0</td>\n",
              "      <td>organic</td>\n",
              "      <td>2018</td>\n",
              "      <td>WestTexNewMexico</td>\n",
              "    </tr>\n",
              "    <tr>\n",
              "      <th>18246</th>\n",
              "      <td>9</td>\n",
              "      <td>2018-01-21</td>\n",
              "      <td>1.87</td>\n",
              "      <td>13766.76</td>\n",
              "      <td>1191.92</td>\n",
              "      <td>2452.79</td>\n",
              "      <td>727.94</td>\n",
              "      <td>9394.11</td>\n",
              "      <td>9351.80</td>\n",
              "      <td>42.31</td>\n",
              "      <td>0.0</td>\n",
              "      <td>organic</td>\n",
              "      <td>2018</td>\n",
              "      <td>WestTexNewMexico</td>\n",
              "    </tr>\n",
              "    <tr>\n",
              "      <th>18247</th>\n",
              "      <td>10</td>\n",
              "      <td>2018-01-14</td>\n",
              "      <td>1.93</td>\n",
              "      <td>16205.22</td>\n",
              "      <td>1527.63</td>\n",
              "      <td>2981.04</td>\n",
              "      <td>727.01</td>\n",
              "      <td>10969.54</td>\n",
              "      <td>10919.54</td>\n",
              "      <td>50.00</td>\n",
              "      <td>0.0</td>\n",
              "      <td>organic</td>\n",
              "      <td>2018</td>\n",
              "      <td>WestTexNewMexico</td>\n",
              "    </tr>\n",
              "    <tr>\n",
              "      <th>18248</th>\n",
              "      <td>11</td>\n",
              "      <td>2018-01-07</td>\n",
              "      <td>1.62</td>\n",
              "      <td>17489.58</td>\n",
              "      <td>2894.77</td>\n",
              "      <td>2356.13</td>\n",
              "      <td>224.53</td>\n",
              "      <td>12014.15</td>\n",
              "      <td>11988.14</td>\n",
              "      <td>26.01</td>\n",
              "      <td>0.0</td>\n",
              "      <td>organic</td>\n",
              "      <td>2018</td>\n",
              "      <td>WestTexNewMexico</td>\n",
              "    </tr>\n",
              "  </tbody>\n",
              "</table>\n",
              "<p>18249 rows × 14 columns</p>\n",
              "</div>\n",
              "    <div class=\"colab-df-buttons\">\n",
              "\n",
              "  <div class=\"colab-df-container\">\n",
              "    <button class=\"colab-df-convert\" onclick=\"convertToInteractive('df-8bfaaf35-dfd1-4d51-b7ac-60f951d12228')\"\n",
              "            title=\"Convert this dataframe to an interactive table.\"\n",
              "            style=\"display:none;\">\n",
              "\n",
              "  <svg xmlns=\"http://www.w3.org/2000/svg\" height=\"24px\" viewBox=\"0 -960 960 960\">\n",
              "    <path d=\"M120-120v-720h720v720H120Zm60-500h600v-160H180v160Zm220 220h160v-160H400v160Zm0 220h160v-160H400v160ZM180-400h160v-160H180v160Zm440 0h160v-160H620v160ZM180-180h160v-160H180v160Zm440 0h160v-160H620v160Z\"/>\n",
              "  </svg>\n",
              "    </button>\n",
              "\n",
              "  <style>\n",
              "    .colab-df-container {\n",
              "      display:flex;\n",
              "      gap: 12px;\n",
              "    }\n",
              "\n",
              "    .colab-df-convert {\n",
              "      background-color: #E8F0FE;\n",
              "      border: none;\n",
              "      border-radius: 50%;\n",
              "      cursor: pointer;\n",
              "      display: none;\n",
              "      fill: #1967D2;\n",
              "      height: 32px;\n",
              "      padding: 0 0 0 0;\n",
              "      width: 32px;\n",
              "    }\n",
              "\n",
              "    .colab-df-convert:hover {\n",
              "      background-color: #E2EBFA;\n",
              "      box-shadow: 0px 1px 2px rgba(60, 64, 67, 0.3), 0px 1px 3px 1px rgba(60, 64, 67, 0.15);\n",
              "      fill: #174EA6;\n",
              "    }\n",
              "\n",
              "    .colab-df-buttons div {\n",
              "      margin-bottom: 4px;\n",
              "    }\n",
              "\n",
              "    [theme=dark] .colab-df-convert {\n",
              "      background-color: #3B4455;\n",
              "      fill: #D2E3FC;\n",
              "    }\n",
              "\n",
              "    [theme=dark] .colab-df-convert:hover {\n",
              "      background-color: #434B5C;\n",
              "      box-shadow: 0px 1px 3px 1px rgba(0, 0, 0, 0.15);\n",
              "      filter: drop-shadow(0px 1px 2px rgba(0, 0, 0, 0.3));\n",
              "      fill: #FFFFFF;\n",
              "    }\n",
              "  </style>\n",
              "\n",
              "    <script>\n",
              "      const buttonEl =\n",
              "        document.querySelector('#df-8bfaaf35-dfd1-4d51-b7ac-60f951d12228 button.colab-df-convert');\n",
              "      buttonEl.style.display =\n",
              "        google.colab.kernel.accessAllowed ? 'block' : 'none';\n",
              "\n",
              "      async function convertToInteractive(key) {\n",
              "        const element = document.querySelector('#df-8bfaaf35-dfd1-4d51-b7ac-60f951d12228');\n",
              "        const dataTable =\n",
              "          await google.colab.kernel.invokeFunction('convertToInteractive',\n",
              "                                                    [key], {});\n",
              "        if (!dataTable) return;\n",
              "\n",
              "        const docLinkHtml = 'Like what you see? Visit the ' +\n",
              "          '<a target=\"_blank\" href=https://colab.research.google.com/notebooks/data_table.ipynb>data table notebook</a>'\n",
              "          + ' to learn more about interactive tables.';\n",
              "        element.innerHTML = '';\n",
              "        dataTable['output_type'] = 'display_data';\n",
              "        await google.colab.output.renderOutput(dataTable, element);\n",
              "        const docLink = document.createElement('div');\n",
              "        docLink.innerHTML = docLinkHtml;\n",
              "        element.appendChild(docLink);\n",
              "      }\n",
              "    </script>\n",
              "  </div>\n",
              "\n",
              "\n",
              "<div id=\"df-9bbaf3af-f6c1-4481-8d7d-3f770004ceee\">\n",
              "  <button class=\"colab-df-quickchart\" onclick=\"quickchart('df-9bbaf3af-f6c1-4481-8d7d-3f770004ceee')\"\n",
              "            title=\"Suggest charts\"\n",
              "            style=\"display:none;\">\n",
              "\n",
              "<svg xmlns=\"http://www.w3.org/2000/svg\" height=\"24px\"viewBox=\"0 0 24 24\"\n",
              "     width=\"24px\">\n",
              "    <g>\n",
              "        <path d=\"M19 3H5c-1.1 0-2 .9-2 2v14c0 1.1.9 2 2 2h14c1.1 0 2-.9 2-2V5c0-1.1-.9-2-2-2zM9 17H7v-7h2v7zm4 0h-2V7h2v10zm4 0h-2v-4h2v4z\"/>\n",
              "    </g>\n",
              "</svg>\n",
              "  </button>\n",
              "\n",
              "<style>\n",
              "  .colab-df-quickchart {\n",
              "      --bg-color: #E8F0FE;\n",
              "      --fill-color: #1967D2;\n",
              "      --hover-bg-color: #E2EBFA;\n",
              "      --hover-fill-color: #174EA6;\n",
              "      --disabled-fill-color: #AAA;\n",
              "      --disabled-bg-color: #DDD;\n",
              "  }\n",
              "\n",
              "  [theme=dark] .colab-df-quickchart {\n",
              "      --bg-color: #3B4455;\n",
              "      --fill-color: #D2E3FC;\n",
              "      --hover-bg-color: #434B5C;\n",
              "      --hover-fill-color: #FFFFFF;\n",
              "      --disabled-bg-color: #3B4455;\n",
              "      --disabled-fill-color: #666;\n",
              "  }\n",
              "\n",
              "  .colab-df-quickchart {\n",
              "    background-color: var(--bg-color);\n",
              "    border: none;\n",
              "    border-radius: 50%;\n",
              "    cursor: pointer;\n",
              "    display: none;\n",
              "    fill: var(--fill-color);\n",
              "    height: 32px;\n",
              "    padding: 0;\n",
              "    width: 32px;\n",
              "  }\n",
              "\n",
              "  .colab-df-quickchart:hover {\n",
              "    background-color: var(--hover-bg-color);\n",
              "    box-shadow: 0 1px 2px rgba(60, 64, 67, 0.3), 0 1px 3px 1px rgba(60, 64, 67, 0.15);\n",
              "    fill: var(--button-hover-fill-color);\n",
              "  }\n",
              "\n",
              "  .colab-df-quickchart-complete:disabled,\n",
              "  .colab-df-quickchart-complete:disabled:hover {\n",
              "    background-color: var(--disabled-bg-color);\n",
              "    fill: var(--disabled-fill-color);\n",
              "    box-shadow: none;\n",
              "  }\n",
              "\n",
              "  .colab-df-spinner {\n",
              "    border: 2px solid var(--fill-color);\n",
              "    border-color: transparent;\n",
              "    border-bottom-color: var(--fill-color);\n",
              "    animation:\n",
              "      spin 1s steps(1) infinite;\n",
              "  }\n",
              "\n",
              "  @keyframes spin {\n",
              "    0% {\n",
              "      border-color: transparent;\n",
              "      border-bottom-color: var(--fill-color);\n",
              "      border-left-color: var(--fill-color);\n",
              "    }\n",
              "    20% {\n",
              "      border-color: transparent;\n",
              "      border-left-color: var(--fill-color);\n",
              "      border-top-color: var(--fill-color);\n",
              "    }\n",
              "    30% {\n",
              "      border-color: transparent;\n",
              "      border-left-color: var(--fill-color);\n",
              "      border-top-color: var(--fill-color);\n",
              "      border-right-color: var(--fill-color);\n",
              "    }\n",
              "    40% {\n",
              "      border-color: transparent;\n",
              "      border-right-color: var(--fill-color);\n",
              "      border-top-color: var(--fill-color);\n",
              "    }\n",
              "    60% {\n",
              "      border-color: transparent;\n",
              "      border-right-color: var(--fill-color);\n",
              "    }\n",
              "    80% {\n",
              "      border-color: transparent;\n",
              "      border-right-color: var(--fill-color);\n",
              "      border-bottom-color: var(--fill-color);\n",
              "    }\n",
              "    90% {\n",
              "      border-color: transparent;\n",
              "      border-bottom-color: var(--fill-color);\n",
              "    }\n",
              "  }\n",
              "</style>\n",
              "\n",
              "  <script>\n",
              "    async function quickchart(key) {\n",
              "      const quickchartButtonEl =\n",
              "        document.querySelector('#' + key + ' button');\n",
              "      quickchartButtonEl.disabled = true;  // To prevent multiple clicks.\n",
              "      quickchartButtonEl.classList.add('colab-df-spinner');\n",
              "      try {\n",
              "        const charts = await google.colab.kernel.invokeFunction(\n",
              "            'suggestCharts', [key], {});\n",
              "      } catch (error) {\n",
              "        console.error('Error during call to suggestCharts:', error);\n",
              "      }\n",
              "      quickchartButtonEl.classList.remove('colab-df-spinner');\n",
              "      quickchartButtonEl.classList.add('colab-df-quickchart-complete');\n",
              "    }\n",
              "    (() => {\n",
              "      let quickchartButtonEl =\n",
              "        document.querySelector('#df-9bbaf3af-f6c1-4481-8d7d-3f770004ceee button');\n",
              "      quickchartButtonEl.style.display =\n",
              "        google.colab.kernel.accessAllowed ? 'block' : 'none';\n",
              "    })();\n",
              "  </script>\n",
              "</div>\n",
              "    </div>\n",
              "  </div>\n"
            ]
          },
          "metadata": {},
          "execution_count": 34
        }
      ],
      "source": [
        "# loading the data set\n",
        "df = pd.read_csv('avocado.csv')\n",
        "df"
      ]
    },
    {
      "cell_type": "code",
      "execution_count": 35,
      "id": "f18865c5",
      "metadata": {
        "id": "f18865c5"
      },
      "outputs": [],
      "source": [
        "# drop unnessary column\n",
        "df.drop('Unnamed: 0',inplace=True,axis=1)"
      ]
    },
    {
      "cell_type": "code",
      "execution_count": 36,
      "id": "8d185491",
      "metadata": {
        "colab": {
          "base_uri": "https://localhost:8080/"
        },
        "id": "8d185491",
        "outputId": "e5c64005-0733-46c2-f85d-b7179f75a2b5"
      },
      "outputs": [
        {
          "output_type": "execute_result",
          "data": {
            "text/plain": [
              "(18249, 13)"
            ]
          },
          "metadata": {},
          "execution_count": 36
        }
      ],
      "source": [
        "# check the n0. of rows and columns in the data set\n",
        "df.shape"
      ]
    },
    {
      "cell_type": "code",
      "execution_count": 37,
      "id": "0ff3d099",
      "metadata": {
        "colab": {
          "base_uri": "https://localhost:8080/"
        },
        "id": "0ff3d099",
        "outputId": "a66f2ecb-3515-4b10-cd71-11dfef00d3da"
      },
      "outputs": [
        {
          "output_type": "execute_result",
          "data": {
            "text/plain": [
              "Index(['Date', 'AveragePrice', 'Total Volume', '4046', '4225', '4770',\n",
              "       'Total Bags', 'Small Bags', 'Large Bags', 'XLarge Bags', 'type', 'year',\n",
              "       'region'],\n",
              "      dtype='object')"
            ]
          },
          "metadata": {},
          "execution_count": 37
        }
      ],
      "source": [
        "df.columns"
      ]
    },
    {
      "cell_type": "code",
      "execution_count": 38,
      "id": "7880d7f5",
      "metadata": {
        "colab": {
          "base_uri": "https://localhost:8080/"
        },
        "id": "7880d7f5",
        "outputId": "9892bbd0-bb4b-4e6f-a7da-d1be894db923"
      },
      "outputs": [
        {
          "output_type": "execute_result",
          "data": {
            "text/plain": [
              "Date             object\n",
              "AveragePrice    float64\n",
              "Total Volume    float64\n",
              "4046            float64\n",
              "4225            float64\n",
              "4770            float64\n",
              "Total Bags      float64\n",
              "Small Bags      float64\n",
              "Large Bags      float64\n",
              "XLarge Bags     float64\n",
              "type             object\n",
              "year              int64\n",
              "region           object\n",
              "dtype: object"
            ]
          },
          "metadata": {},
          "execution_count": 38
        }
      ],
      "source": [
        "df.dtypes"
      ]
    },
    {
      "cell_type": "markdown",
      "id": "ab08e39e",
      "metadata": {
        "id": "ab08e39e"
      },
      "source": [
        "we have a column which has date so we will change date into month ,date,year."
      ]
    },
    {
      "cell_type": "code",
      "execution_count": 39,
      "id": "c1124cea",
      "metadata": {
        "id": "c1124cea"
      },
      "outputs": [],
      "source": [
        "df['Date']=pd.to_datetime(df['Date'])\n",
        "df['Month']=df['Date'].apply(lambda x:x.month)\n",
        "df['Day']=df['Date'].apply(lambda x:x.day)"
      ]
    },
    {
      "cell_type": "code",
      "execution_count": 40,
      "id": "7929d711",
      "metadata": {
        "colab": {
          "base_uri": "https://localhost:8080/"
        },
        "id": "7929d711",
        "outputId": "17b54b86-2a68-4d13-9312-c6d3aca21487"
      },
      "outputs": [
        {
          "output_type": "execute_result",
          "data": {
            "text/plain": [
              "Date            0\n",
              "AveragePrice    0\n",
              "Total Volume    0\n",
              "4046            0\n",
              "4225            0\n",
              "4770            0\n",
              "Total Bags      0\n",
              "Small Bags      0\n",
              "Large Bags      0\n",
              "XLarge Bags     0\n",
              "type            0\n",
              "year            0\n",
              "region          0\n",
              "Month           0\n",
              "Day             0\n",
              "dtype: int64"
            ]
          },
          "metadata": {},
          "execution_count": 40
        }
      ],
      "source": [
        "# checking for missing values\n",
        "df.isna().sum()"
      ]
    },
    {
      "cell_type": "markdown",
      "id": "acaed150",
      "metadata": {
        "id": "acaed150"
      },
      "source": [
        "as we see that we have not any null value in my data so i will continue without any change"
      ]
    },
    {
      "cell_type": "markdown",
      "id": "21620b09",
      "metadata": {
        "id": "21620b09"
      },
      "source": [
        "# Data analysis¶"
      ]
    },
    {
      "cell_type": "code",
      "execution_count": 41,
      "id": "9d1b0812",
      "metadata": {
        "colab": {
          "base_uri": "https://localhost:8080/",
          "height": 337
        },
        "id": "9d1b0812",
        "outputId": "d79fa497-32dd-4e83-de3e-07f2ce9f4256"
      },
      "outputs": [
        {
          "output_type": "execute_result",
          "data": {
            "text/plain": [
              "       AveragePrice  Total Volume          4046          4225          4770  \\\n",
              "count  18249.000000  1.824900e+04  1.824900e+04  1.824900e+04  1.824900e+04   \n",
              "mean       1.405978  8.506440e+05  2.930084e+05  2.951546e+05  2.283974e+04   \n",
              "std        0.402677  3.453545e+06  1.264989e+06  1.204120e+06  1.074641e+05   \n",
              "min        0.440000  8.456000e+01  0.000000e+00  0.000000e+00  0.000000e+00   \n",
              "25%        1.100000  1.083858e+04  8.540700e+02  3.008780e+03  0.000000e+00   \n",
              "50%        1.370000  1.073768e+05  8.645300e+03  2.906102e+04  1.849900e+02   \n",
              "75%        1.660000  4.329623e+05  1.110202e+05  1.502069e+05  6.243420e+03   \n",
              "max        3.250000  6.250565e+07  2.274362e+07  2.047057e+07  2.546439e+06   \n",
              "\n",
              "         Total Bags    Small Bags    Large Bags    XLarge Bags          year  \\\n",
              "count  1.824900e+04  1.824900e+04  1.824900e+04   18249.000000  18249.000000   \n",
              "mean   2.396392e+05  1.821947e+05  5.433809e+04    3106.426507   2016.147899   \n",
              "std    9.862424e+05  7.461785e+05  2.439660e+05   17692.894652      0.939938   \n",
              "min    0.000000e+00  0.000000e+00  0.000000e+00       0.000000   2015.000000   \n",
              "25%    5.088640e+03  2.849420e+03  1.274700e+02       0.000000   2015.000000   \n",
              "50%    3.974383e+04  2.636282e+04  2.647710e+03       0.000000   2016.000000   \n",
              "75%    1.107834e+05  8.333767e+04  2.202925e+04     132.500000   2017.000000   \n",
              "max    1.937313e+07  1.338459e+07  5.719097e+06  551693.650000   2018.000000   \n",
              "\n",
              "              Month           Day  \n",
              "count  18249.000000  18249.000000  \n",
              "mean       6.177215     15.662612  \n",
              "std        3.534130      8.776281  \n",
              "min        1.000000      1.000000  \n",
              "25%        3.000000      8.000000  \n",
              "50%        6.000000     16.000000  \n",
              "75%        9.000000     23.000000  \n",
              "max       12.000000     31.000000  "
            ],
            "text/html": [
              "\n",
              "  <div id=\"df-6d30e356-2dbb-42bd-9569-27c26a257d8c\" class=\"colab-df-container\">\n",
              "    <div>\n",
              "<style scoped>\n",
              "    .dataframe tbody tr th:only-of-type {\n",
              "        vertical-align: middle;\n",
              "    }\n",
              "\n",
              "    .dataframe tbody tr th {\n",
              "        vertical-align: top;\n",
              "    }\n",
              "\n",
              "    .dataframe thead th {\n",
              "        text-align: right;\n",
              "    }\n",
              "</style>\n",
              "<table border=\"1\" class=\"dataframe\">\n",
              "  <thead>\n",
              "    <tr style=\"text-align: right;\">\n",
              "      <th></th>\n",
              "      <th>AveragePrice</th>\n",
              "      <th>Total Volume</th>\n",
              "      <th>4046</th>\n",
              "      <th>4225</th>\n",
              "      <th>4770</th>\n",
              "      <th>Total Bags</th>\n",
              "      <th>Small Bags</th>\n",
              "      <th>Large Bags</th>\n",
              "      <th>XLarge Bags</th>\n",
              "      <th>year</th>\n",
              "      <th>Month</th>\n",
              "      <th>Day</th>\n",
              "    </tr>\n",
              "  </thead>\n",
              "  <tbody>\n",
              "    <tr>\n",
              "      <th>count</th>\n",
              "      <td>18249.000000</td>\n",
              "      <td>1.824900e+04</td>\n",
              "      <td>1.824900e+04</td>\n",
              "      <td>1.824900e+04</td>\n",
              "      <td>1.824900e+04</td>\n",
              "      <td>1.824900e+04</td>\n",
              "      <td>1.824900e+04</td>\n",
              "      <td>1.824900e+04</td>\n",
              "      <td>18249.000000</td>\n",
              "      <td>18249.000000</td>\n",
              "      <td>18249.000000</td>\n",
              "      <td>18249.000000</td>\n",
              "    </tr>\n",
              "    <tr>\n",
              "      <th>mean</th>\n",
              "      <td>1.405978</td>\n",
              "      <td>8.506440e+05</td>\n",
              "      <td>2.930084e+05</td>\n",
              "      <td>2.951546e+05</td>\n",
              "      <td>2.283974e+04</td>\n",
              "      <td>2.396392e+05</td>\n",
              "      <td>1.821947e+05</td>\n",
              "      <td>5.433809e+04</td>\n",
              "      <td>3106.426507</td>\n",
              "      <td>2016.147899</td>\n",
              "      <td>6.177215</td>\n",
              "      <td>15.662612</td>\n",
              "    </tr>\n",
              "    <tr>\n",
              "      <th>std</th>\n",
              "      <td>0.402677</td>\n",
              "      <td>3.453545e+06</td>\n",
              "      <td>1.264989e+06</td>\n",
              "      <td>1.204120e+06</td>\n",
              "      <td>1.074641e+05</td>\n",
              "      <td>9.862424e+05</td>\n",
              "      <td>7.461785e+05</td>\n",
              "      <td>2.439660e+05</td>\n",
              "      <td>17692.894652</td>\n",
              "      <td>0.939938</td>\n",
              "      <td>3.534130</td>\n",
              "      <td>8.776281</td>\n",
              "    </tr>\n",
              "    <tr>\n",
              "      <th>min</th>\n",
              "      <td>0.440000</td>\n",
              "      <td>8.456000e+01</td>\n",
              "      <td>0.000000e+00</td>\n",
              "      <td>0.000000e+00</td>\n",
              "      <td>0.000000e+00</td>\n",
              "      <td>0.000000e+00</td>\n",
              "      <td>0.000000e+00</td>\n",
              "      <td>0.000000e+00</td>\n",
              "      <td>0.000000</td>\n",
              "      <td>2015.000000</td>\n",
              "      <td>1.000000</td>\n",
              "      <td>1.000000</td>\n",
              "    </tr>\n",
              "    <tr>\n",
              "      <th>25%</th>\n",
              "      <td>1.100000</td>\n",
              "      <td>1.083858e+04</td>\n",
              "      <td>8.540700e+02</td>\n",
              "      <td>3.008780e+03</td>\n",
              "      <td>0.000000e+00</td>\n",
              "      <td>5.088640e+03</td>\n",
              "      <td>2.849420e+03</td>\n",
              "      <td>1.274700e+02</td>\n",
              "      <td>0.000000</td>\n",
              "      <td>2015.000000</td>\n",
              "      <td>3.000000</td>\n",
              "      <td>8.000000</td>\n",
              "    </tr>\n",
              "    <tr>\n",
              "      <th>50%</th>\n",
              "      <td>1.370000</td>\n",
              "      <td>1.073768e+05</td>\n",
              "      <td>8.645300e+03</td>\n",
              "      <td>2.906102e+04</td>\n",
              "      <td>1.849900e+02</td>\n",
              "      <td>3.974383e+04</td>\n",
              "      <td>2.636282e+04</td>\n",
              "      <td>2.647710e+03</td>\n",
              "      <td>0.000000</td>\n",
              "      <td>2016.000000</td>\n",
              "      <td>6.000000</td>\n",
              "      <td>16.000000</td>\n",
              "    </tr>\n",
              "    <tr>\n",
              "      <th>75%</th>\n",
              "      <td>1.660000</td>\n",
              "      <td>4.329623e+05</td>\n",
              "      <td>1.110202e+05</td>\n",
              "      <td>1.502069e+05</td>\n",
              "      <td>6.243420e+03</td>\n",
              "      <td>1.107834e+05</td>\n",
              "      <td>8.333767e+04</td>\n",
              "      <td>2.202925e+04</td>\n",
              "      <td>132.500000</td>\n",
              "      <td>2017.000000</td>\n",
              "      <td>9.000000</td>\n",
              "      <td>23.000000</td>\n",
              "    </tr>\n",
              "    <tr>\n",
              "      <th>max</th>\n",
              "      <td>3.250000</td>\n",
              "      <td>6.250565e+07</td>\n",
              "      <td>2.274362e+07</td>\n",
              "      <td>2.047057e+07</td>\n",
              "      <td>2.546439e+06</td>\n",
              "      <td>1.937313e+07</td>\n",
              "      <td>1.338459e+07</td>\n",
              "      <td>5.719097e+06</td>\n",
              "      <td>551693.650000</td>\n",
              "      <td>2018.000000</td>\n",
              "      <td>12.000000</td>\n",
              "      <td>31.000000</td>\n",
              "    </tr>\n",
              "  </tbody>\n",
              "</table>\n",
              "</div>\n",
              "    <div class=\"colab-df-buttons\">\n",
              "\n",
              "  <div class=\"colab-df-container\">\n",
              "    <button class=\"colab-df-convert\" onclick=\"convertToInteractive('df-6d30e356-2dbb-42bd-9569-27c26a257d8c')\"\n",
              "            title=\"Convert this dataframe to an interactive table.\"\n",
              "            style=\"display:none;\">\n",
              "\n",
              "  <svg xmlns=\"http://www.w3.org/2000/svg\" height=\"24px\" viewBox=\"0 -960 960 960\">\n",
              "    <path d=\"M120-120v-720h720v720H120Zm60-500h600v-160H180v160Zm220 220h160v-160H400v160Zm0 220h160v-160H400v160ZM180-400h160v-160H180v160Zm440 0h160v-160H620v160ZM180-180h160v-160H180v160Zm440 0h160v-160H620v160Z\"/>\n",
              "  </svg>\n",
              "    </button>\n",
              "\n",
              "  <style>\n",
              "    .colab-df-container {\n",
              "      display:flex;\n",
              "      gap: 12px;\n",
              "    }\n",
              "\n",
              "    .colab-df-convert {\n",
              "      background-color: #E8F0FE;\n",
              "      border: none;\n",
              "      border-radius: 50%;\n",
              "      cursor: pointer;\n",
              "      display: none;\n",
              "      fill: #1967D2;\n",
              "      height: 32px;\n",
              "      padding: 0 0 0 0;\n",
              "      width: 32px;\n",
              "    }\n",
              "\n",
              "    .colab-df-convert:hover {\n",
              "      background-color: #E2EBFA;\n",
              "      box-shadow: 0px 1px 2px rgba(60, 64, 67, 0.3), 0px 1px 3px 1px rgba(60, 64, 67, 0.15);\n",
              "      fill: #174EA6;\n",
              "    }\n",
              "\n",
              "    .colab-df-buttons div {\n",
              "      margin-bottom: 4px;\n",
              "    }\n",
              "\n",
              "    [theme=dark] .colab-df-convert {\n",
              "      background-color: #3B4455;\n",
              "      fill: #D2E3FC;\n",
              "    }\n",
              "\n",
              "    [theme=dark] .colab-df-convert:hover {\n",
              "      background-color: #434B5C;\n",
              "      box-shadow: 0px 1px 3px 1px rgba(0, 0, 0, 0.15);\n",
              "      filter: drop-shadow(0px 1px 2px rgba(0, 0, 0, 0.3));\n",
              "      fill: #FFFFFF;\n",
              "    }\n",
              "  </style>\n",
              "\n",
              "    <script>\n",
              "      const buttonEl =\n",
              "        document.querySelector('#df-6d30e356-2dbb-42bd-9569-27c26a257d8c button.colab-df-convert');\n",
              "      buttonEl.style.display =\n",
              "        google.colab.kernel.accessAllowed ? 'block' : 'none';\n",
              "\n",
              "      async function convertToInteractive(key) {\n",
              "        const element = document.querySelector('#df-6d30e356-2dbb-42bd-9569-27c26a257d8c');\n",
              "        const dataTable =\n",
              "          await google.colab.kernel.invokeFunction('convertToInteractive',\n",
              "                                                    [key], {});\n",
              "        if (!dataTable) return;\n",
              "\n",
              "        const docLinkHtml = 'Like what you see? Visit the ' +\n",
              "          '<a target=\"_blank\" href=https://colab.research.google.com/notebooks/data_table.ipynb>data table notebook</a>'\n",
              "          + ' to learn more about interactive tables.';\n",
              "        element.innerHTML = '';\n",
              "        dataTable['output_type'] = 'display_data';\n",
              "        await google.colab.output.renderOutput(dataTable, element);\n",
              "        const docLink = document.createElement('div');\n",
              "        docLink.innerHTML = docLinkHtml;\n",
              "        element.appendChild(docLink);\n",
              "      }\n",
              "    </script>\n",
              "  </div>\n",
              "\n",
              "\n",
              "<div id=\"df-c27bc4a8-18a7-4ae1-af88-f68d8fd4efec\">\n",
              "  <button class=\"colab-df-quickchart\" onclick=\"quickchart('df-c27bc4a8-18a7-4ae1-af88-f68d8fd4efec')\"\n",
              "            title=\"Suggest charts\"\n",
              "            style=\"display:none;\">\n",
              "\n",
              "<svg xmlns=\"http://www.w3.org/2000/svg\" height=\"24px\"viewBox=\"0 0 24 24\"\n",
              "     width=\"24px\">\n",
              "    <g>\n",
              "        <path d=\"M19 3H5c-1.1 0-2 .9-2 2v14c0 1.1.9 2 2 2h14c1.1 0 2-.9 2-2V5c0-1.1-.9-2-2-2zM9 17H7v-7h2v7zm4 0h-2V7h2v10zm4 0h-2v-4h2v4z\"/>\n",
              "    </g>\n",
              "</svg>\n",
              "  </button>\n",
              "\n",
              "<style>\n",
              "  .colab-df-quickchart {\n",
              "      --bg-color: #E8F0FE;\n",
              "      --fill-color: #1967D2;\n",
              "      --hover-bg-color: #E2EBFA;\n",
              "      --hover-fill-color: #174EA6;\n",
              "      --disabled-fill-color: #AAA;\n",
              "      --disabled-bg-color: #DDD;\n",
              "  }\n",
              "\n",
              "  [theme=dark] .colab-df-quickchart {\n",
              "      --bg-color: #3B4455;\n",
              "      --fill-color: #D2E3FC;\n",
              "      --hover-bg-color: #434B5C;\n",
              "      --hover-fill-color: #FFFFFF;\n",
              "      --disabled-bg-color: #3B4455;\n",
              "      --disabled-fill-color: #666;\n",
              "  }\n",
              "\n",
              "  .colab-df-quickchart {\n",
              "    background-color: var(--bg-color);\n",
              "    border: none;\n",
              "    border-radius: 50%;\n",
              "    cursor: pointer;\n",
              "    display: none;\n",
              "    fill: var(--fill-color);\n",
              "    height: 32px;\n",
              "    padding: 0;\n",
              "    width: 32px;\n",
              "  }\n",
              "\n",
              "  .colab-df-quickchart:hover {\n",
              "    background-color: var(--hover-bg-color);\n",
              "    box-shadow: 0 1px 2px rgba(60, 64, 67, 0.3), 0 1px 3px 1px rgba(60, 64, 67, 0.15);\n",
              "    fill: var(--button-hover-fill-color);\n",
              "  }\n",
              "\n",
              "  .colab-df-quickchart-complete:disabled,\n",
              "  .colab-df-quickchart-complete:disabled:hover {\n",
              "    background-color: var(--disabled-bg-color);\n",
              "    fill: var(--disabled-fill-color);\n",
              "    box-shadow: none;\n",
              "  }\n",
              "\n",
              "  .colab-df-spinner {\n",
              "    border: 2px solid var(--fill-color);\n",
              "    border-color: transparent;\n",
              "    border-bottom-color: var(--fill-color);\n",
              "    animation:\n",
              "      spin 1s steps(1) infinite;\n",
              "  }\n",
              "\n",
              "  @keyframes spin {\n",
              "    0% {\n",
              "      border-color: transparent;\n",
              "      border-bottom-color: var(--fill-color);\n",
              "      border-left-color: var(--fill-color);\n",
              "    }\n",
              "    20% {\n",
              "      border-color: transparent;\n",
              "      border-left-color: var(--fill-color);\n",
              "      border-top-color: var(--fill-color);\n",
              "    }\n",
              "    30% {\n",
              "      border-color: transparent;\n",
              "      border-left-color: var(--fill-color);\n",
              "      border-top-color: var(--fill-color);\n",
              "      border-right-color: var(--fill-color);\n",
              "    }\n",
              "    40% {\n",
              "      border-color: transparent;\n",
              "      border-right-color: var(--fill-color);\n",
              "      border-top-color: var(--fill-color);\n",
              "    }\n",
              "    60% {\n",
              "      border-color: transparent;\n",
              "      border-right-color: var(--fill-color);\n",
              "    }\n",
              "    80% {\n",
              "      border-color: transparent;\n",
              "      border-right-color: var(--fill-color);\n",
              "      border-bottom-color: var(--fill-color);\n",
              "    }\n",
              "    90% {\n",
              "      border-color: transparent;\n",
              "      border-bottom-color: var(--fill-color);\n",
              "    }\n",
              "  }\n",
              "</style>\n",
              "\n",
              "  <script>\n",
              "    async function quickchart(key) {\n",
              "      const quickchartButtonEl =\n",
              "        document.querySelector('#' + key + ' button');\n",
              "      quickchartButtonEl.disabled = true;  // To prevent multiple clicks.\n",
              "      quickchartButtonEl.classList.add('colab-df-spinner');\n",
              "      try {\n",
              "        const charts = await google.colab.kernel.invokeFunction(\n",
              "            'suggestCharts', [key], {});\n",
              "      } catch (error) {\n",
              "        console.error('Error during call to suggestCharts:', error);\n",
              "      }\n",
              "      quickchartButtonEl.classList.remove('colab-df-spinner');\n",
              "      quickchartButtonEl.classList.add('colab-df-quickchart-complete');\n",
              "    }\n",
              "    (() => {\n",
              "      let quickchartButtonEl =\n",
              "        document.querySelector('#df-c27bc4a8-18a7-4ae1-af88-f68d8fd4efec button');\n",
              "      quickchartButtonEl.style.display =\n",
              "        google.colab.kernel.accessAllowed ? 'block' : 'none';\n",
              "    })();\n",
              "  </script>\n",
              "</div>\n",
              "    </div>\n",
              "  </div>\n"
            ]
          },
          "metadata": {},
          "execution_count": 41
        }
      ],
      "source": [
        "# statical measure of data set\n",
        "df.describe()"
      ]
    },
    {
      "cell_type": "markdown",
      "id": "753fc37e",
      "metadata": {
        "id": "753fc37e"
      },
      "source": [
        "till now we analyize the data, data seems good but we will check skewness of data through EDA"
      ]
    },
    {
      "cell_type": "code",
      "execution_count": 42,
      "id": "ea4c53d6",
      "metadata": {
        "colab": {
          "base_uri": "https://localhost:8080/"
        },
        "id": "ea4c53d6",
        "outputId": "e4b5fd06-3aaa-4d50-e319-fc8b84f01020"
      },
      "outputs": [
        {
          "output_type": "execute_result",
          "data": {
            "text/plain": [
              "conventional    9126\n",
              "organic         9123\n",
              "Name: type, dtype: int64"
            ]
          },
          "metadata": {},
          "execution_count": 42
        }
      ],
      "source": [
        "# now check type .\n",
        "df.type.value_counts()"
      ]
    },
    {
      "cell_type": "code",
      "execution_count": 43,
      "id": "0f7127de",
      "metadata": {
        "colab": {
          "base_uri": "https://localhost:8080/",
          "height": 449
        },
        "id": "0f7127de",
        "outputId": "331d2666-2c53-44c6-8eba-1c6a5a8b4ff2"
      },
      "outputs": [
        {
          "output_type": "display_data",
          "data": {
            "text/plain": [
              "<Figure size 640x480 with 1 Axes>"
            ],
            "image/png": "[encoded data removed]"
          },
          "metadata": {}
        }
      ],
      "source": [
        "# so now plot frequency\n",
        "sns.countplot(x='type',data=df)\n",
        "plt.show()"
      ]
    },
    {
      "cell_type": "code",
      "execution_count": 44,
      "id": "6e6a128a",
      "metadata": {
        "colab": {
          "base_uri": "https://localhost:8080/"
        },
        "id": "6e6a128a",
        "outputId": "c46aee36-5cde-403b-c71c-05439302cde4"
      },
      "outputs": [
        {
          "output_type": "execute_result",
          "data": {
            "text/plain": [
              "Albany                 338\n",
              "Sacramento             338\n",
              "Northeast              338\n",
              "NorthernNewEngland     338\n",
              "Orlando                338\n",
              "Philadelphia           338\n",
              "PhoenixTucson          338\n",
              "Pittsburgh             338\n",
              "Plains                 338\n",
              "Portland               338\n",
              "RaleighGreensboro      338\n",
              "RichmondNorfolk        338\n",
              "Roanoke                338\n",
              "SanDiego               338\n",
              "Atlanta                338\n",
              "SanFrancisco           338\n",
              "Seattle                338\n",
              "SouthCarolina          338\n",
              "SouthCentral           338\n",
              "Southeast              338\n",
              "Spokane                338\n",
              "StLouis                338\n",
              "Syracuse               338\n",
              "Tampa                  338\n",
              "TotalUS                338\n",
              "West                   338\n",
              "NewYork                338\n",
              "NewOrleansMobile       338\n",
              "Nashville              338\n",
              "Midsouth               338\n",
              "BaltimoreWashington    338\n",
              "Boise                  338\n",
              "Boston                 338\n",
              "BuffaloRochester       338\n",
              "California             338\n",
              "Charlotte              338\n",
              "Chicago                338\n",
              "CincinnatiDayton       338\n",
              "Columbus               338\n",
              "DallasFtWorth          338\n",
              "Denver                 338\n",
              "Detroit                338\n",
              "GrandRapids            338\n",
              "GreatLakes             338\n",
              "HarrisburgScranton     338\n",
              "HartfordSpringfield    338\n",
              "Houston                338\n",
              "Indianapolis           338\n",
              "Jacksonville           338\n",
              "LasVegas               338\n",
              "LosAngeles             338\n",
              "Louisville             338\n",
              "MiamiFtLauderdale      338\n",
              "WestTexNewMexico       335\n",
              "Name: region, dtype: int64"
            ]
          },
          "metadata": {},
          "execution_count": 44
        }
      ],
      "source": [
        "# now check region\n",
        "df.region.value_counts()"
      ]
    },
    {
      "cell_type": "markdown",
      "id": "8418c335",
      "metadata": {
        "id": "8418c335"
      },
      "source": [
        "# DATA VISULIZATION"
      ]
    },
    {
      "cell_type": "code",
      "execution_count": 45,
      "id": "26854dfa",
      "metadata": {
        "colab": {
          "base_uri": "https://localhost:8080/",
          "height": 472
        },
        "id": "26854dfa",
        "outputId": "3e29bb11-8b25-492c-841d-69da36c17e60"
      },
      "outputs": [
        {
          "output_type": "execute_result",
          "data": {
            "text/plain": [
              "<Axes: xlabel='year', ylabel='AveragePrice'>"
            ]
          },
          "metadata": {},
          "execution_count": 45
        },
        {
          "output_type": "display_data",
          "data": {
            "text/plain": [
              "<Figure size 640x480 with 1 Axes>"
            ],
            "image/png": "[encoded data removed]"
          },
          "metadata": {}
        }
      ],
      "source": [
        "# checking ratio of year and price that which year had max average price\n",
        "sns.barplot(x =\"year\", y= \"AveragePrice\" ,data=df)"
      ]
    },
    {
      "cell_type": "markdown",
      "id": "4b1a5dfe",
      "metadata": {
        "id": "4b1a5dfe"
      },
      "source": [
        "SO 2017 IS THE YEAR WHERE AVG PRICE WAS MAX"
      ]
    },
    {
      "cell_type": "code",
      "execution_count": 46,
      "id": "8a8b2d23",
      "metadata": {
        "colab": {
          "base_uri": "https://localhost:8080/",
          "height": 467
        },
        "id": "8a8b2d23",
        "outputId": "6700a2fb-9c2f-49d1-d1bc-344ccb698ed9"
      },
      "outputs": [
        {
          "output_type": "execute_result",
          "data": {
            "text/plain": [
              "<Axes: xlabel='Month', ylabel='AveragePrice'>"
            ]
          },
          "metadata": {},
          "execution_count": 46
        },
        {
          "output_type": "display_data",
          "data": {
            "text/plain": [
              "<Figure size 640x480 with 1 Axes>"
            ],
            "image/png": "[encoded data removed]"
          },
          "metadata": {}
        }
      ],
      "source": [
        "#checking ratio of month and price that which year had max average price\n",
        "sns.barplot(x=\"Month\",y=\"AveragePrice\" ,data=df)\n"
      ]
    },
    {
      "cell_type": "code",
      "execution_count": 47,
      "id": "ac650a7a",
      "metadata": {
        "colab": {
          "base_uri": "https://localhost:8080/",
          "height": 696
        },
        "id": "ac650a7a",
        "outputId": "5a58d7f6-71f7-4119-eadc-2e8e076b8458"
      },
      "outputs": [
        {
          "output_type": "display_data",
          "data": {
            "text/plain": [
              "<Figure size 1600x800 with 1 Axes>"
            ],
            "image/png": "[encoded data removed]"
          },
          "metadata": {}
        }
      ],
      "source": [
        "# How Average price is distributed over the months for Conventional and Organic Types?\n",
        "plt.figure (figsize=(16, 8))\n",
        "sns.lineplot(x=\"Month\", y=\"AveragePrice\", hue=\"type\", data=df)\n",
        "plt.show()"
      ]
    },
    {
      "cell_type": "code",
      "execution_count": 48,
      "id": "66327977",
      "metadata": {
        "colab": {
          "base_uri": "https://localhost:8080/",
          "height": 1000
        },
        "id": "66327977",
        "outputId": "2d3d0705-7e2e-4c33-8fa8-299a48647d5e"
      },
      "outputs": [
        {
          "output_type": "execute_result",
          "data": {
            "text/plain": [
              "array([[<Axes: title={'center': 'Date'}>,\n",
              "        <Axes: title={'center': 'AveragePrice'}>,\n",
              "        <Axes: title={'center': 'Total Volume'}>,\n",
              "        <Axes: title={'center': '4046'}>],\n",
              "       [<Axes: title={'center': '4225'}>,\n",
              "        <Axes: title={'center': '4770'}>,\n",
              "        <Axes: title={'center': 'Total Bags'}>,\n",
              "        <Axes: title={'center': 'Small Bags'}>],\n",
              "       [<Axes: title={'center': 'Large Bags'}>,\n",
              "        <Axes: title={'center': 'XLarge Bags'}>,\n",
              "        <Axes: title={'center': 'year'}>,\n",
              "        <Axes: title={'center': 'Month'}>],\n",
              "       [<Axes: title={'center': 'Day'}>, <Axes: >, <Axes: >, <Axes: >]],\n",
              "      dtype=object)"
            ]
          },
          "metadata": {},
          "execution_count": 48
        },
        {
          "output_type": "display_data",
          "data": {
            "text/plain": [
              "<Figure size 2000x2000 with 16 Axes>"
            ],
            "image/png": "[encoded data removed]"
          },
          "metadata": {}
        }
      ],
      "source": [
        "#plotting histogram for uni variate analysis and checking the Normal Distribution\n",
        "df.hist(figsize= (20, 20), grid=True, layout = (4,4), bins =40)"
      ]
    },
    {
      "cell_type": "markdown",
      "id": "9821672d",
      "metadata": {
        "id": "9821672d"
      },
      "source": [
        "encode catogorical columns"
      ]
    },
    {
      "cell_type": "code",
      "execution_count": 49,
      "id": "7a4e6585",
      "metadata": {
        "id": "7a4e6585"
      },
      "outputs": [],
      "source": [
        "from sklearn.preprocessing import LabelEncoder"
      ]
    },
    {
      "cell_type": "code",
      "execution_count": 50,
      "id": "e28bfb5b",
      "metadata": {
        "id": "e28bfb5b"
      },
      "outputs": [],
      "source": [
        "lab_enc = LabelEncoder()"
      ]
    },
    {
      "cell_type": "code",
      "execution_count": 51,
      "id": "df6ca17f",
      "metadata": {
        "colab": {
          "base_uri": "https://localhost:8080/"
        },
        "id": "df6ca17f",
        "outputId": "eff8a580-2d41-4331-9ad9-7ce6f8e0d6bd"
      },
      "outputs": [
        {
          "output_type": "execute_result",
          "data": {
            "text/plain": [
              "array([ 0,  0,  0, ..., 53, 53, 53])"
            ]
          },
          "metadata": {},
          "execution_count": 51
        }
      ],
      "source": [
        "df2 = lab_enc.fit_transform(df['region'])\n",
        "df2"
      ]
    },
    {
      "cell_type": "code",
      "execution_count": 52,
      "id": "d2226ad6",
      "metadata": {
        "colab": {
          "base_uri": "https://localhost:8080/",
          "height": 423
        },
        "id": "d2226ad6",
        "outputId": "292c5a98-17fd-4e23-b9d5-0f238d4e4fca"
      },
      "outputs": [
        {
          "output_type": "execute_result",
          "data": {
            "text/plain": [
              "            Date  AveragePrice  Total Volume     4046       4225    4770  \\\n",
              "0     2015-12-27          1.33      64236.62  1036.74   54454.85   48.16   \n",
              "1     2015-12-20          1.35      54876.98   674.28   44638.81   58.33   \n",
              "2     2015-12-13          0.93     118220.22   794.70  109149.67  130.50   \n",
              "3     2015-12-06          1.08      78992.15  1132.00   71976.41   72.58   \n",
              "4     2015-11-29          1.28      51039.60   941.48   43838.39   75.78   \n",
              "...          ...           ...           ...      ...        ...     ...   \n",
              "18244 2018-02-04          1.63      17074.83  2046.96    1529.20    0.00   \n",
              "18245 2018-01-28          1.71      13888.04  1191.70    3431.50    0.00   \n",
              "18246 2018-01-21          1.87      13766.76  1191.92    2452.79  727.94   \n",
              "18247 2018-01-14          1.93      16205.22  1527.63    2981.04  727.01   \n",
              "18248 2018-01-07          1.62      17489.58  2894.77    2356.13  224.53   \n",
              "\n",
              "       Total Bags  Small Bags  Large Bags  XLarge Bags          type  year  \\\n",
              "0         8696.87     8603.62       93.25          0.0  conventional  2015   \n",
              "1         9505.56     9408.07       97.49          0.0  conventional  2015   \n",
              "2         8145.35     8042.21      103.14          0.0  conventional  2015   \n",
              "3         5811.16     5677.40      133.76          0.0  conventional  2015   \n",
              "4         6183.95     5986.26      197.69          0.0  conventional  2015   \n",
              "...           ...         ...         ...          ...           ...   ...   \n",
              "18244    13498.67    13066.82      431.85          0.0       organic  2018   \n",
              "18245     9264.84     8940.04      324.80          0.0       organic  2018   \n",
              "18246     9394.11     9351.80       42.31          0.0       organic  2018   \n",
              "18247    10969.54    10919.54       50.00          0.0       organic  2018   \n",
              "18248    12014.15    11988.14       26.01          0.0       organic  2018   \n",
              "\n",
              "       region  Month  Day  \n",
              "0           0     12   27  \n",
              "1           0     12   20  \n",
              "2           0     12   13  \n",
              "3           0     12    6  \n",
              "4           0     11   29  \n",
              "...       ...    ...  ...  \n",
              "18244      53      2    4  \n",
              "18245      53      1   28  \n",
              "18246      53      1   21  \n",
              "18247      53      1   14  \n",
              "18248      53      1    7  \n",
              "\n",
              "[18249 rows x 15 columns]"
            ],
            "text/html": [
              "\n",
              "  <div id=\"df-a8adf6f9-b857-4efe-9d63-ddbe473d84f5\" class=\"colab-df-container\">\n",
              "    <div>\n",
              "<style scoped>\n",
              "    .dataframe tbody tr th:only-of-type {\n",
              "        vertical-align: middle;\n",
              "    }\n",
              "\n",
              "    .dataframe tbody tr th {\n",
              "        vertical-align: top;\n",
              "    }\n",
              "\n",
              "    .dataframe thead th {\n",
              "        text-align: right;\n",
              "    }\n",
              "</style>\n",
              "<table border=\"1\" class=\"dataframe\">\n",
              "  <thead>\n",
              "    <tr style=\"text-align: right;\">\n",
              "      <th></th>\n",
              "      <th>Date</th>\n",
              "      <th>AveragePrice</th>\n",
              "      <th>Total Volume</th>\n",
              "      <th>4046</th>\n",
              "      <th>4225</th>\n",
              "      <th>4770</th>\n",
              "      <th>Total Bags</th>\n",
              "      <th>Small Bags</th>\n",
              "      <th>Large Bags</th>\n",
              "      <th>XLarge Bags</th>\n",
              "      <th>type</th>\n",
              "      <th>year</th>\n",
              "      <th>region</th>\n",
              "      <th>Month</th>\n",
              "      <th>Day</th>\n",
              "    </tr>\n",
              "  </thead>\n",
              "  <tbody>\n",
              "    <tr>\n",
              "      <th>0</th>\n",
              "      <td>2015-12-27</td>\n",
              "      <td>1.33</td>\n",
              "      <td>64236.62</td>\n",
              "      <td>1036.74</td>\n",
              "      <td>54454.85</td>\n",
              "      <td>48.16</td>\n",
              "      <td>8696.87</td>\n",
              "      <td>8603.62</td>\n",
              "      <td>93.25</td>\n",
              "      <td>0.0</td>\n",
              "      <td>conventional</td>\n",
              "      <td>2015</td>\n",
              "      <td>0</td>\n",
              "      <td>12</td>\n",
              "      <td>27</td>\n",
              "    </tr>\n",
              "    <tr>\n",
              "      <th>1</th>\n",
              "      <td>2015-12-20</td>\n",
              "      <td>1.35</td>\n",
              "      <td>54876.98</td>\n",
              "      <td>674.28</td>\n",
              "      <td>44638.81</td>\n",
              "      <td>58.33</td>\n",
              "      <td>9505.56</td>\n",
              "      <td>9408.07</td>\n",
              "      <td>97.49</td>\n",
              "      <td>0.0</td>\n",
              "      <td>conventional</td>\n",
              "      <td>2015</td>\n",
              "      <td>0</td>\n",
              "      <td>12</td>\n",
              "      <td>20</td>\n",
              "    </tr>\n",
              "    <tr>\n",
              "      <th>2</th>\n",
              "      <td>2015-12-13</td>\n",
              "      <td>0.93</td>\n",
              "      <td>118220.22</td>\n",
              "      <td>794.70</td>\n",
              "      <td>109149.67</td>\n",
              "      <td>130.50</td>\n",
              "      <td>8145.35</td>\n",
              "      <td>8042.21</td>\n",
              "      <td>103.14</td>\n",
              "      <td>0.0</td>\n",
              "      <td>conventional</td>\n",
              "      <td>2015</td>\n",
              "      <td>0</td>\n",
              "      <td>12</td>\n",
              "      <td>13</td>\n",
              "    </tr>\n",
              "    <tr>\n",
              "      <th>3</th>\n",
              "      <td>2015-12-06</td>\n",
              "      <td>1.08</td>\n",
              "      <td>78992.15</td>\n",
              "      <td>1132.00</td>\n",
              "      <td>71976.41</td>\n",
              "      <td>72.58</td>\n",
              "      <td>5811.16</td>\n",
              "      <td>5677.40</td>\n",
              "      <td>133.76</td>\n",
              "      <td>0.0</td>\n",
              "      <td>conventional</td>\n",
              "      <td>2015</td>\n",
              "      <td>0</td>\n",
              "      <td>12</td>\n",
              "      <td>6</td>\n",
              "    </tr>\n",
              "    <tr>\n",
              "      <th>4</th>\n",
              "      <td>2015-11-29</td>\n",
              "      <td>1.28</td>\n",
              "      <td>51039.60</td>\n",
              "      <td>941.48</td>\n",
              "      <td>43838.39</td>\n",
              "      <td>75.78</td>\n",
              "      <td>6183.95</td>\n",
              "      <td>5986.26</td>\n",
              "      <td>197.69</td>\n",
              "      <td>0.0</td>\n",
              "      <td>conventional</td>\n",
              "      <td>2015</td>\n",
              "      <td>0</td>\n",
              "      <td>11</td>\n",
              "      <td>29</td>\n",
              "    </tr>\n",
              "    <tr>\n",
              "      <th>...</th>\n",
              "      <td>...</td>\n",
              "      <td>...</td>\n",
              "      <td>...</td>\n",
              "      <td>...</td>\n",
              "      <td>...</td>\n",
              "      <td>...</td>\n",
              "      <td>...</td>\n",
              "      <td>...</td>\n",
              "      <td>...</td>\n",
              "      <td>...</td>\n",
              "      <td>...</td>\n",
              "      <td>...</td>\n",
              "      <td>...</td>\n",
              "      <td>...</td>\n",
              "      <td>...</td>\n",
              "    </tr>\n",
              "    <tr>\n",
              "      <th>18244</th>\n",
              "      <td>2018-02-04</td>\n",
              "      <td>1.63</td>\n",
              "      <td>17074.83</td>\n",
              "      <td>2046.96</td>\n",
              "      <td>1529.20</td>\n",
              "      <td>0.00</td>\n",
              "      <td>13498.67</td>\n",
              "      <td>13066.82</td>\n",
              "      <td>431.85</td>\n",
              "      <td>0.0</td>\n",
              "      <td>organic</td>\n",
              "      <td>2018</td>\n",
              "      <td>53</td>\n",
              "      <td>2</td>\n",
              "      <td>4</td>\n",
              "    </tr>\n",
              "    <tr>\n",
              "      <th>18245</th>\n",
              "      <td>2018-01-28</td>\n",
              "      <td>1.71</td>\n",
              "      <td>13888.04</td>\n",
              "      <td>1191.70</td>\n",
              "      <td>3431.50</td>\n",
              "      <td>0.00</td>\n",
              "      <td>9264.84</td>\n",
              "      <td>8940.04</td>\n",
              "      <td>324.80</td>\n",
              "      <td>0.0</td>\n",
              "      <td>organic</td>\n",
              "      <td>2018</td>\n",
              "      <td>53</td>\n",
              "      <td>1</td>\n",
              "      <td>28</td>\n",
              "    </tr>\n",
              "    <tr>\n",
              "      <th>18246</th>\n",
              "      <td>2018-01-21</td>\n",
              "      <td>1.87</td>\n",
              "      <td>13766.76</td>\n",
              "      <td>1191.92</td>\n",
              "      <td>2452.79</td>\n",
              "      <td>727.94</td>\n",
              "      <td>9394.11</td>\n",
              "      <td>9351.80</td>\n",
              "      <td>42.31</td>\n",
              "      <td>0.0</td>\n",
              "      <td>organic</td>\n",
              "      <td>2018</td>\n",
              "      <td>53</td>\n",
              "      <td>1</td>\n",
              "      <td>21</td>\n",
              "    </tr>\n",
              "    <tr>\n",
              "      <th>18247</th>\n",
              "      <td>2018-01-14</td>\n",
              "      <td>1.93</td>\n",
              "      <td>16205.22</td>\n",
              "      <td>1527.63</td>\n",
              "      <td>2981.04</td>\n",
              "      <td>727.01</td>\n",
              "      <td>10969.54</td>\n",
              "      <td>10919.54</td>\n",
              "      <td>50.00</td>\n",
              "      <td>0.0</td>\n",
              "      <td>organic</td>\n",
              "      <td>2018</td>\n",
              "      <td>53</td>\n",
              "      <td>1</td>\n",
              "      <td>14</td>\n",
              "    </tr>\n",
              "    <tr>\n",
              "      <th>18248</th>\n",
              "      <td>2018-01-07</td>\n",
              "      <td>1.62</td>\n",
              "      <td>17489.58</td>\n",
              "      <td>2894.77</td>\n",
              "      <td>2356.13</td>\n",
              "      <td>224.53</td>\n",
              "      <td>12014.15</td>\n",
              "      <td>11988.14</td>\n",
              "      <td>26.01</td>\n",
              "      <td>0.0</td>\n",
              "      <td>organic</td>\n",
              "      <td>2018</td>\n",
              "      <td>53</td>\n",
              "      <td>1</td>\n",
              "      <td>7</td>\n",
              "    </tr>\n",
              "  </tbody>\n",
              "</table>\n",
              "<p>18249 rows × 15 columns</p>\n",
              "</div>\n",
              "    <div class=\"colab-df-buttons\">\n",
              "\n",
              "  <div class=\"colab-df-container\">\n",
              "    <button class=\"colab-df-convert\" onclick=\"convertToInteractive('df-a8adf6f9-b857-4efe-9d63-ddbe473d84f5')\"\n",
              "            title=\"Convert this dataframe to an interactive table.\"\n",
              "            style=\"display:none;\">\n",
              "\n",
              "  <svg xmlns=\"http://www.w3.org/2000/svg\" height=\"24px\" viewBox=\"0 -960 960 960\">\n",
              "    <path d=\"M120-120v-720h720v720H120Zm60-500h600v-160H180v160Zm220 220h160v-160H400v160Zm0 220h160v-160H400v160ZM180-400h160v-160H180v160Zm440 0h160v-160H620v160ZM180-180h160v-160H180v160Zm440 0h160v-160H620v160Z\"/>\n",
              "  </svg>\n",
              "    </button>\n",
              "\n",
              "  <style>\n",
              "    .colab-df-container {\n",
              "      display:flex;\n",
              "      gap: 12px;\n",
              "    }\n",
              "\n",
              "    .colab-df-convert {\n",
              "      background-color: #E8F0FE;\n",
              "      border: none;\n",
              "      border-radius: 50%;\n",
              "      cursor: pointer;\n",
              "      display: none;\n",
              "      fill: #1967D2;\n",
              "      height: 32px;\n",
              "      padding: 0 0 0 0;\n",
              "      width: 32px;\n",
              "    }\n",
              "\n",
              "    .colab-df-convert:hover {\n",
              "      background-color: #E2EBFA;\n",
              "      box-shadow: 0px 1px 2px rgba(60, 64, 67, 0.3), 0px 1px 3px 1px rgba(60, 64, 67, 0.15);\n",
              "      fill: #174EA6;\n",
              "    }\n",
              "\n",
              "    .colab-df-buttons div {\n",
              "      margin-bottom: 4px;\n",
              "    }\n",
              "\n",
              "    [theme=dark] .colab-df-convert {\n",
              "      background-color: #3B4455;\n",
              "      fill: #D2E3FC;\n",
              "    }\n",
              "\n",
              "    [theme=dark] .colab-df-convert:hover {\n",
              "      background-color: #434B5C;\n",
              "      box-shadow: 0px 1px 3px 1px rgba(0, 0, 0, 0.15);\n",
              "      filter: drop-shadow(0px 1px 2px rgba(0, 0, 0, 0.3));\n",
              "      fill: #FFFFFF;\n",
              "    }\n",
              "  </style>\n",
              "\n",
              "    <script>\n",
              "      const buttonEl =\n",
              "        document.querySelector('#df-a8adf6f9-b857-4efe-9d63-ddbe473d84f5 button.colab-df-convert');\n",
              "      buttonEl.style.display =\n",
              "        google.colab.kernel.accessAllowed ? 'block' : 'none';\n",
              "\n",
              "      async function convertToInteractive(key) {\n",
              "        const element = document.querySelector('#df-a8adf6f9-b857-4efe-9d63-ddbe473d84f5');\n",
              "        const dataTable =\n",
              "          await google.colab.kernel.invokeFunction('convertToInteractive',\n",
              "                                                    [key], {});\n",
              "        if (!dataTable) return;\n",
              "\n",
              "        const docLinkHtml = 'Like what you see? Visit the ' +\n",
              "          '<a target=\"_blank\" href=https://colab.research.google.com/notebooks/data_table.ipynb>data table notebook</a>'\n",
              "          + ' to learn more about interactive tables.';\n",
              "        element.innerHTML = '';\n",
              "        dataTable['output_type'] = 'display_data';\n",
              "        await google.colab.output.renderOutput(dataTable, element);\n",
              "        const docLink = document.createElement('div');\n",
              "        docLink.innerHTML = docLinkHtml;\n",
              "        element.appendChild(docLink);\n",
              "      }\n",
              "    </script>\n",
              "  </div>\n",
              "\n",
              "\n",
              "<div id=\"df-0f4c9153-eb68-4fc2-b934-b1899444ae24\">\n",
              "  <button class=\"colab-df-quickchart\" onclick=\"quickchart('df-0f4c9153-eb68-4fc2-b934-b1899444ae24')\"\n",
              "            title=\"Suggest charts\"\n",
              "            style=\"display:none;\">\n",
              "\n",
              "<svg xmlns=\"http://www.w3.org/2000/svg\" height=\"24px\"viewBox=\"0 0 24 24\"\n",
              "     width=\"24px\">\n",
              "    <g>\n",
              "        <path d=\"M19 3H5c-1.1 0-2 .9-2 2v14c0 1.1.9 2 2 2h14c1.1 0 2-.9 2-2V5c0-1.1-.9-2-2-2zM9 17H7v-7h2v7zm4 0h-2V7h2v10zm4 0h-2v-4h2v4z\"/>\n",
              "    </g>\n",
              "</svg>\n",
              "  </button>\n",
              "\n",
              "<style>\n",
              "  .colab-df-quickchart {\n",
              "      --bg-color: #E8F0FE;\n",
              "      --fill-color: #1967D2;\n",
              "      --hover-bg-color: #E2EBFA;\n",
              "      --hover-fill-color: #174EA6;\n",
              "      --disabled-fill-color: #AAA;\n",
              "      --disabled-bg-color: #DDD;\n",
              "  }\n",
              "\n",
              "  [theme=dark] .colab-df-quickchart {\n",
              "      --bg-color: #3B4455;\n",
              "      --fill-color: #D2E3FC;\n",
              "      --hover-bg-color: #434B5C;\n",
              "      --hover-fill-color: #FFFFFF;\n",
              "      --disabled-bg-color: #3B4455;\n",
              "      --disabled-fill-color: #666;\n",
              "  }\n",
              "\n",
              "  .colab-df-quickchart {\n",
              "    background-color: var(--bg-color);\n",
              "    border: none;\n",
              "    border-radius: 50%;\n",
              "    cursor: pointer;\n",
              "    display: none;\n",
              "    fill: var(--fill-color);\n",
              "    height: 32px;\n",
              "    padding: 0;\n",
              "    width: 32px;\n",
              "  }\n",
              "\n",
              "  .colab-df-quickchart:hover {\n",
              "    background-color: var(--hover-bg-color);\n",
              "    box-shadow: 0 1px 2px rgba(60, 64, 67, 0.3), 0 1px 3px 1px rgba(60, 64, 67, 0.15);\n",
              "    fill: var(--button-hover-fill-color);\n",
              "  }\n",
              "\n",
              "  .colab-df-quickchart-complete:disabled,\n",
              "  .colab-df-quickchart-complete:disabled:hover {\n",
              "    background-color: var(--disabled-bg-color);\n",
              "    fill: var(--disabled-fill-color);\n",
              "    box-shadow: none;\n",
              "  }\n",
              "\n",
              "  .colab-df-spinner {\n",
              "    border: 2px solid var(--fill-color);\n",
              "    border-color: transparent;\n",
              "    border-bottom-color: var(--fill-color);\n",
              "    animation:\n",
              "      spin 1s steps(1) infinite;\n",
              "  }\n",
              "\n",
              "  @keyframes spin {\n",
              "    0% {\n",
              "      border-color: transparent;\n",
              "      border-bottom-color: var(--fill-color);\n",
              "      border-left-color: var(--fill-color);\n",
              "    }\n",
              "    20% {\n",
              "      border-color: transparent;\n",
              "      border-left-color: var(--fill-color);\n",
              "      border-top-color: var(--fill-color);\n",
              "    }\n",
              "    30% {\n",
              "      border-color: transparent;\n",
              "      border-left-color: var(--fill-color);\n",
              "      border-top-color: var(--fill-color);\n",
              "      border-right-color: var(--fill-color);\n",
              "    }\n",
              "    40% {\n",
              "      border-color: transparent;\n",
              "      border-right-color: var(--fill-color);\n",
              "      border-top-color: var(--fill-color);\n",
              "    }\n",
              "    60% {\n",
              "      border-color: transparent;\n",
              "      border-right-color: var(--fill-color);\n",
              "    }\n",
              "    80% {\n",
              "      border-color: transparent;\n",
              "      border-right-color: var(--fill-color);\n",
              "      border-bottom-color: var(--fill-color);\n",
              "    }\n",
              "    90% {\n",
              "      border-color: transparent;\n",
              "      border-bottom-color: var(--fill-color);\n",
              "    }\n",
              "  }\n",
              "</style>\n",
              "\n",
              "  <script>\n",
              "    async function quickchart(key) {\n",
              "      const quickchartButtonEl =\n",
              "        document.querySelector('#' + key + ' button');\n",
              "      quickchartButtonEl.disabled = true;  // To prevent multiple clicks.\n",
              "      quickchartButtonEl.classList.add('colab-df-spinner');\n",
              "      try {\n",
              "        const charts = await google.colab.kernel.invokeFunction(\n",
              "            'suggestCharts', [key], {});\n",
              "      } catch (error) {\n",
              "        console.error('Error during call to suggestCharts:', error);\n",
              "      }\n",
              "      quickchartButtonEl.classList.remove('colab-df-spinner');\n",
              "      quickchartButtonEl.classList.add('colab-df-quickchart-complete');\n",
              "    }\n",
              "    (() => {\n",
              "      let quickchartButtonEl =\n",
              "        document.querySelector('#df-0f4c9153-eb68-4fc2-b934-b1899444ae24 button');\n",
              "      quickchartButtonEl.style.display =\n",
              "        google.colab.kernel.accessAllowed ? 'block' : 'none';\n",
              "    })();\n",
              "  </script>\n",
              "</div>\n",
              "    </div>\n",
              "  </div>\n"
            ]
          },
          "metadata": {},
          "execution_count": 52
        }
      ],
      "source": [
        "df['region']=df2\n",
        "df"
      ]
    },
    {
      "cell_type": "code",
      "execution_count": 53,
      "id": "517a5d65",
      "metadata": {
        "colab": {
          "base_uri": "https://localhost:8080/"
        },
        "id": "517a5d65",
        "outputId": "3d98125a-4852-4228-8987-e6bd7b62199d"
      },
      "outputs": [
        {
          "output_type": "execute_result",
          "data": {
            "text/plain": [
              "array([0, 0, 0, ..., 1, 1, 1])"
            ]
          },
          "metadata": {},
          "execution_count": 53
        }
      ],
      "source": [
        "df2 = lab_enc.fit_transform(df['type'])\n",
        "df2"
      ]
    },
    {
      "cell_type": "code",
      "execution_count": 54,
      "id": "eec125cc",
      "metadata": {
        "colab": {
          "base_uri": "https://localhost:8080/",
          "height": 423
        },
        "id": "eec125cc",
        "outputId": "21917e85-a27b-454f-82c6-7f155e2d1dc6"
      },
      "outputs": [
        {
          "output_type": "execute_result",
          "data": {
            "text/plain": [
              "            Date  AveragePrice  Total Volume     4046       4225    4770  \\\n",
              "0     2015-12-27          1.33      64236.62  1036.74   54454.85   48.16   \n",
              "1     2015-12-20          1.35      54876.98   674.28   44638.81   58.33   \n",
              "2     2015-12-13          0.93     118220.22   794.70  109149.67  130.50   \n",
              "3     2015-12-06          1.08      78992.15  1132.00   71976.41   72.58   \n",
              "4     2015-11-29          1.28      51039.60   941.48   43838.39   75.78   \n",
              "...          ...           ...           ...      ...        ...     ...   \n",
              "18244 2018-02-04          1.63      17074.83  2046.96    1529.20    0.00   \n",
              "18245 2018-01-28          1.71      13888.04  1191.70    3431.50    0.00   \n",
              "18246 2018-01-21          1.87      13766.76  1191.92    2452.79  727.94   \n",
              "18247 2018-01-14          1.93      16205.22  1527.63    2981.04  727.01   \n",
              "18248 2018-01-07          1.62      17489.58  2894.77    2356.13  224.53   \n",
              "\n",
              "       Total Bags  Small Bags  Large Bags  XLarge Bags  type  year  region  \\\n",
              "0         8696.87     8603.62       93.25          0.0     0  2015       0   \n",
              "1         9505.56     9408.07       97.49          0.0     0  2015       0   \n",
              "2         8145.35     8042.21      103.14          0.0     0  2015       0   \n",
              "3         5811.16     5677.40      133.76          0.0     0  2015       0   \n",
              "4         6183.95     5986.26      197.69          0.0     0  2015       0   \n",
              "...           ...         ...         ...          ...   ...   ...     ...   \n",
              "18244    13498.67    13066.82      431.85          0.0     1  2018      53   \n",
              "18245     9264.84     8940.04      324.80          0.0     1  2018      53   \n",
              "18246     9394.11     9351.80       42.31          0.0     1  2018      53   \n",
              "18247    10969.54    10919.54       50.00          0.0     1  2018      53   \n",
              "18248    12014.15    11988.14       26.01          0.0     1  2018      53   \n",
              "\n",
              "       Month  Day  \n",
              "0         12   27  \n",
              "1         12   20  \n",
              "2         12   13  \n",
              "3         12    6  \n",
              "4         11   29  \n",
              "...      ...  ...  \n",
              "18244      2    4  \n",
              "18245      1   28  \n",
              "18246      1   21  \n",
              "18247      1   14  \n",
              "18248      1    7  \n",
              "\n",
              "[18249 rows x 15 columns]"
            ],
            "text/html": [
              "\n",
              "  <div id=\"df-10a5beb6-c2ef-4f11-8709-b89c2b879215\" class=\"colab-df-container\">\n",
              "    <div>\n",
              "<style scoped>\n",
              "    .dataframe tbody tr th:only-of-type {\n",
              "        vertical-align: middle;\n",
              "    }\n",
              "\n",
              "    .dataframe tbody tr th {\n",
              "        vertical-align: top;\n",
              "    }\n",
              "\n",
              "    .dataframe thead th {\n",
              "        text-align: right;\n",
              "    }\n",
              "</style>\n",
              "<table border=\"1\" class=\"dataframe\">\n",
              "  <thead>\n",
              "    <tr style=\"text-align: right;\">\n",
              "      <th></th>\n",
              "      <th>Date</th>\n",
              "      <th>AveragePrice</th>\n",
              "      <th>Total Volume</th>\n",
              "      <th>4046</th>\n",
              "      <th>4225</th>\n",
              "      <th>4770</th>\n",
              "      <th>Total Bags</th>\n",
              "      <th>Small Bags</th>\n",
              "      <th>Large Bags</th>\n",
              "      <th>XLarge Bags</th>\n",
              "      <th>type</th>\n",
              "      <th>year</th>\n",
              "      <th>region</th>\n",
              "      <th>Month</th>\n",
              "      <th>Day</th>\n",
              "    </tr>\n",
              "  </thead>\n",
              "  <tbody>\n",
              "    <tr>\n",
              "      <th>0</th>\n",
              "      <td>2015-12-27</td>\n",
              "      <td>1.33</td>\n",
              "      <td>64236.62</td>\n",
              "      <td>1036.74</td>\n",
              "      <td>54454.85</td>\n",
              "      <td>48.16</td>\n",
              "      <td>8696.87</td>\n",
              "      <td>8603.62</td>\n",
              "      <td>93.25</td>\n",
              "      <td>0.0</td>\n",
              "      <td>0</td>\n",
              "      <td>2015</td>\n",
              "      <td>0</td>\n",
              "      <td>12</td>\n",
              "      <td>27</td>\n",
              "    </tr>\n",
              "    <tr>\n",
              "      <th>1</th>\n",
              "      <td>2015-12-20</td>\n",
              "      <td>1.35</td>\n",
              "      <td>54876.98</td>\n",
              "      <td>674.28</td>\n",
              "      <td>44638.81</td>\n",
              "      <td>58.33</td>\n",
              "      <td>9505.56</td>\n",
              "      <td>9408.07</td>\n",
              "      <td>97.49</td>\n",
              "      <td>0.0</td>\n",
              "      <td>0</td>\n",
              "      <td>2015</td>\n",
              "      <td>0</td>\n",
              "      <td>12</td>\n",
              "      <td>20</td>\n",
              "    </tr>\n",
              "    <tr>\n",
              "      <th>2</th>\n",
              "      <td>2015-12-13</td>\n",
              "      <td>0.93</td>\n",
              "      <td>118220.22</td>\n",
              "      <td>794.70</td>\n",
              "      <td>109149.67</td>\n",
              "      <td>130.50</td>\n",
              "      <td>8145.35</td>\n",
              "      <td>8042.21</td>\n",
              "      <td>103.14</td>\n",
              "      <td>0.0</td>\n",
              "      <td>0</td>\n",
              "      <td>2015</td>\n",
              "      <td>0</td>\n",
              "      <td>12</td>\n",
              "      <td>13</td>\n",
              "    </tr>\n",
              "    <tr>\n",
              "      <th>3</th>\n",
              "      <td>2015-12-06</td>\n",
              "      <td>1.08</td>\n",
              "      <td>78992.15</td>\n",
              "      <td>1132.00</td>\n",
              "      <td>71976.41</td>\n",
              "      <td>72.58</td>\n",
              "      <td>5811.16</td>\n",
              "      <td>5677.40</td>\n",
              "      <td>133.76</td>\n",
              "      <td>0.0</td>\n",
              "      <td>0</td>\n",
              "      <td>2015</td>\n",
              "      <td>0</td>\n",
              "      <td>12</td>\n",
              "      <td>6</td>\n",
              "    </tr>\n",
              "    <tr>\n",
              "      <th>4</th>\n",
              "      <td>2015-11-29</td>\n",
              "      <td>1.28</td>\n",
              "      <td>51039.60</td>\n",
              "      <td>941.48</td>\n",
              "      <td>43838.39</td>\n",
              "      <td>75.78</td>\n",
              "      <td>6183.95</td>\n",
              "      <td>5986.26</td>\n",
              "      <td>197.69</td>\n",
              "      <td>0.0</td>\n",
              "      <td>0</td>\n",
              "      <td>2015</td>\n",
              "      <td>0</td>\n",
              "      <td>11</td>\n",
              "      <td>29</td>\n",
              "    </tr>\n",
              "    <tr>\n",
              "      <th>...</th>\n",
              "      <td>...</td>\n",
              "      <td>...</td>\n",
              "      <td>...</td>\n",
              "      <td>...</td>\n",
              "      <td>...</td>\n",
              "      <td>...</td>\n",
              "      <td>...</td>\n",
              "      <td>...</td>\n",
              "      <td>...</td>\n",
              "      <td>...</td>\n",
              "      <td>...</td>\n",
              "      <td>...</td>\n",
              "      <td>...</td>\n",
              "      <td>...</td>\n",
              "      <td>...</td>\n",
              "    </tr>\n",
              "    <tr>\n",
              "      <th>18244</th>\n",
              "      <td>2018-02-04</td>\n",
              "      <td>1.63</td>\n",
              "      <td>17074.83</td>\n",
              "      <td>2046.96</td>\n",
              "      <td>1529.20</td>\n",
              "      <td>0.00</td>\n",
              "      <td>13498.67</td>\n",
              "      <td>13066.82</td>\n",
              "      <td>431.85</td>\n",
              "      <td>0.0</td>\n",
              "      <td>1</td>\n",
              "      <td>2018</td>\n",
              "      <td>53</td>\n",
              "      <td>2</td>\n",
              "      <td>4</td>\n",
              "    </tr>\n",
              "    <tr>\n",
              "      <th>18245</th>\n",
              "      <td>2018-01-28</td>\n",
              "      <td>1.71</td>\n",
              "      <td>13888.04</td>\n",
              "      <td>1191.70</td>\n",
              "      <td>3431.50</td>\n",
              "      <td>0.00</td>\n",
              "      <td>9264.84</td>\n",
              "      <td>8940.04</td>\n",
              "      <td>324.80</td>\n",
              "      <td>0.0</td>\n",
              "      <td>1</td>\n",
              "      <td>2018</td>\n",
              "      <td>53</td>\n",
              "      <td>1</td>\n",
              "      <td>28</td>\n",
              "    </tr>\n",
              "    <tr>\n",
              "      <th>18246</th>\n",
              "      <td>2018-01-21</td>\n",
              "      <td>1.87</td>\n",
              "      <td>13766.76</td>\n",
              "      <td>1191.92</td>\n",
              "      <td>2452.79</td>\n",
              "      <td>727.94</td>\n",
              "      <td>9394.11</td>\n",
              "      <td>9351.80</td>\n",
              "      <td>42.31</td>\n",
              "      <td>0.0</td>\n",
              "      <td>1</td>\n",
              "      <td>2018</td>\n",
              "      <td>53</td>\n",
              "      <td>1</td>\n",
              "      <td>21</td>\n",
              "    </tr>\n",
              "    <tr>\n",
              "      <th>18247</th>\n",
              "      <td>2018-01-14</td>\n",
              "      <td>1.93</td>\n",
              "      <td>16205.22</td>\n",
              "      <td>1527.63</td>\n",
              "      <td>2981.04</td>\n",
              "      <td>727.01</td>\n",
              "      <td>10969.54</td>\n",
              "      <td>10919.54</td>\n",
              "      <td>50.00</td>\n",
              "      <td>0.0</td>\n",
              "      <td>1</td>\n",
              "      <td>2018</td>\n",
              "      <td>53</td>\n",
              "      <td>1</td>\n",
              "      <td>14</td>\n",
              "    </tr>\n",
              "    <tr>\n",
              "      <th>18248</th>\n",
              "      <td>2018-01-07</td>\n",
              "      <td>1.62</td>\n",
              "      <td>17489.58</td>\n",
              "      <td>2894.77</td>\n",
              "      <td>2356.13</td>\n",
              "      <td>224.53</td>\n",
              "      <td>12014.15</td>\n",
              "      <td>11988.14</td>\n",
              "      <td>26.01</td>\n",
              "      <td>0.0</td>\n",
              "      <td>1</td>\n",
              "      <td>2018</td>\n",
              "      <td>53</td>\n",
              "      <td>1</td>\n",
              "      <td>7</td>\n",
              "    </tr>\n",
              "  </tbody>\n",
              "</table>\n",
              "<p>18249 rows × 15 columns</p>\n",
              "</div>\n",
              "    <div class=\"colab-df-buttons\">\n",
              "\n",
              "  <div class=\"colab-df-container\">\n",
              "    <button class=\"colab-df-convert\" onclick=\"convertToInteractive('df-10a5beb6-c2ef-4f11-8709-b89c2b879215')\"\n",
              "            title=\"Convert this dataframe to an interactive table.\"\n",
              "            style=\"display:none;\">\n",
              "\n",
              "  <svg xmlns=\"http://www.w3.org/2000/svg\" height=\"24px\" viewBox=\"0 -960 960 960\">\n",
              "    <path d=\"M120-120v-720h720v720H120Zm60-500h600v-160H180v160Zm220 220h160v-160H400v160Zm0 220h160v-160H400v160ZM180-400h160v-160H180v160Zm440 0h160v-160H620v160ZM180-180h160v-160H180v160Zm440 0h160v-160H620v160Z\"/>\n",
              "  </svg>\n",
              "    </button>\n",
              "\n",
              "  <style>\n",
              "    .colab-df-container {\n",
              "      display:flex;\n",
              "      gap: 12px;\n",
              "    }\n",
              "\n",
              "    .colab-df-convert {\n",
              "      background-color: #E8F0FE;\n",
              "      border: none;\n",
              "      border-radius: 50%;\n",
              "      cursor: pointer;\n",
              "      display: none;\n",
              "      fill: #1967D2;\n",
              "      height: 32px;\n",
              "      padding: 0 0 0 0;\n",
              "      width: 32px;\n",
              "    }\n",
              "\n",
              "    .colab-df-convert:hover {\n",
              "      background-color: #E2EBFA;\n",
              "      box-shadow: 0px 1px 2px rgba(60, 64, 67, 0.3), 0px 1px 3px 1px rgba(60, 64, 67, 0.15);\n",
              "      fill: #174EA6;\n",
              "    }\n",
              "\n",
              "    .colab-df-buttons div {\n",
              "      margin-bottom: 4px;\n",
              "    }\n",
              "\n",
              "    [theme=dark] .colab-df-convert {\n",
              "      background-color: #3B4455;\n",
              "      fill: #D2E3FC;\n",
              "    }\n",
              "\n",
              "    [theme=dark] .colab-df-convert:hover {\n",
              "      background-color: #434B5C;\n",
              "      box-shadow: 0px 1px 3px 1px rgba(0, 0, 0, 0.15);\n",
              "      filter: drop-shadow(0px 1px 2px rgba(0, 0, 0, 0.3));\n",
              "      fill: #FFFFFF;\n",
              "    }\n",
              "  </style>\n",
              "\n",
              "    <script>\n",
              "      const buttonEl =\n",
              "        document.querySelector('#df-10a5beb6-c2ef-4f11-8709-b89c2b879215 button.colab-df-convert');\n",
              "      buttonEl.style.display =\n",
              "        google.colab.kernel.accessAllowed ? 'block' : 'none';\n",
              "\n",
              "      async function convertToInteractive(key) {\n",
              "        const element = document.querySelector('#df-10a5beb6-c2ef-4f11-8709-b89c2b879215');\n",
              "        const dataTable =\n",
              "          await google.colab.kernel.invokeFunction('convertToInteractive',\n",
              "                                                    [key], {});\n",
              "        if (!dataTable) return;\n",
              "\n",
              "        const docLinkHtml = 'Like what you see? Visit the ' +\n",
              "          '<a target=\"_blank\" href=https://colab.research.google.com/notebooks/data_table.ipynb>data table notebook</a>'\n",
              "          + ' to learn more about interactive tables.';\n",
              "        element.innerHTML = '';\n",
              "        dataTable['output_type'] = 'display_data';\n",
              "        await google.colab.output.renderOutput(dataTable, element);\n",
              "        const docLink = document.createElement('div');\n",
              "        docLink.innerHTML = docLinkHtml;\n",
              "        element.appendChild(docLink);\n",
              "      }\n",
              "    </script>\n",
              "  </div>\n",
              "\n",
              "\n",
              "<div id=\"df-133500e6-7d55-40c4-b4ed-856fae2dbd13\">\n",
              "  <button class=\"colab-df-quickchart\" onclick=\"quickchart('df-133500e6-7d55-40c4-b4ed-856fae2dbd13')\"\n",
              "            title=\"Suggest charts\"\n",
              "            style=\"display:none;\">\n",
              "\n",
              "<svg xmlns=\"http://www.w3.org/2000/svg\" height=\"24px\"viewBox=\"0 0 24 24\"\n",
              "     width=\"24px\">\n",
              "    <g>\n",
              "        <path d=\"M19 3H5c-1.1 0-2 .9-2 2v14c0 1.1.9 2 2 2h14c1.1 0 2-.9 2-2V5c0-1.1-.9-2-2-2zM9 17H7v-7h2v7zm4 0h-2V7h2v10zm4 0h-2v-4h2v4z\"/>\n",
              "    </g>\n",
              "</svg>\n",
              "  </button>\n",
              "\n",
              "<style>\n",
              "  .colab-df-quickchart {\n",
              "      --bg-color: #E8F0FE;\n",
              "      --fill-color: #1967D2;\n",
              "      --hover-bg-color: #E2EBFA;\n",
              "      --hover-fill-color: #174EA6;\n",
              "      --disabled-fill-color: #AAA;\n",
              "      --disabled-bg-color: #DDD;\n",
              "  }\n",
              "\n",
              "  [theme=dark] .colab-df-quickchart {\n",
              "      --bg-color: #3B4455;\n",
              "      --fill-color: #D2E3FC;\n",
              "      --hover-bg-color: #434B5C;\n",
              "      --hover-fill-color: #FFFFFF;\n",
              "      --disabled-bg-color: #3B4455;\n",
              "      --disabled-fill-color: #666;\n",
              "  }\n",
              "\n",
              "  .colab-df-quickchart {\n",
              "    background-color: var(--bg-color);\n",
              "    border: none;\n",
              "    border-radius: 50%;\n",
              "    cursor: pointer;\n",
              "    display: none;\n",
              "    fill: var(--fill-color);\n",
              "    height: 32px;\n",
              "    padding: 0;\n",
              "    width: 32px;\n",
              "  }\n",
              "\n",
              "  .colab-df-quickchart:hover {\n",
              "    background-color: var(--hover-bg-color);\n",
              "    box-shadow: 0 1px 2px rgba(60, 64, 67, 0.3), 0 1px 3px 1px rgba(60, 64, 67, 0.15);\n",
              "    fill: var(--button-hover-fill-color);\n",
              "  }\n",
              "\n",
              "  .colab-df-quickchart-complete:disabled,\n",
              "  .colab-df-quickchart-complete:disabled:hover {\n",
              "    background-color: var(--disabled-bg-color);\n",
              "    fill: var(--disabled-fill-color);\n",
              "    box-shadow: none;\n",
              "  }\n",
              "\n",
              "  .colab-df-spinner {\n",
              "    border: 2px solid var(--fill-color);\n",
              "    border-color: transparent;\n",
              "    border-bottom-color: var(--fill-color);\n",
              "    animation:\n",
              "      spin 1s steps(1) infinite;\n",
              "  }\n",
              "\n",
              "  @keyframes spin {\n",
              "    0% {\n",
              "      border-color: transparent;\n",
              "      border-bottom-color: var(--fill-color);\n",
              "      border-left-color: var(--fill-color);\n",
              "    }\n",
              "    20% {\n",
              "      border-color: transparent;\n",
              "      border-left-color: var(--fill-color);\n",
              "      border-top-color: var(--fill-color);\n",
              "    }\n",
              "    30% {\n",
              "      border-color: transparent;\n",
              "      border-left-color: var(--fill-color);\n",
              "      border-top-color: var(--fill-color);\n",
              "      border-right-color: var(--fill-color);\n",
              "    }\n",
              "    40% {\n",
              "      border-color: transparent;\n",
              "      border-right-color: var(--fill-color);\n",
              "      border-top-color: var(--fill-color);\n",
              "    }\n",
              "    60% {\n",
              "      border-color: transparent;\n",
              "      border-right-color: var(--fill-color);\n",
              "    }\n",
              "    80% {\n",
              "      border-color: transparent;\n",
              "      border-right-color: var(--fill-color);\n",
              "      border-bottom-color: var(--fill-color);\n",
              "    }\n",
              "    90% {\n",
              "      border-color: transparent;\n",
              "      border-bottom-color: var(--fill-color);\n",
              "    }\n",
              "  }\n",
              "</style>\n",
              "\n",
              "  <script>\n",
              "    async function quickchart(key) {\n",
              "      const quickchartButtonEl =\n",
              "        document.querySelector('#' + key + ' button');\n",
              "      quickchartButtonEl.disabled = true;  // To prevent multiple clicks.\n",
              "      quickchartButtonEl.classList.add('colab-df-spinner');\n",
              "      try {\n",
              "        const charts = await google.colab.kernel.invokeFunction(\n",
              "            'suggestCharts', [key], {});\n",
              "      } catch (error) {\n",
              "        console.error('Error during call to suggestCharts:', error);\n",
              "      }\n",
              "      quickchartButtonEl.classList.remove('colab-df-spinner');\n",
              "      quickchartButtonEl.classList.add('colab-df-quickchart-complete');\n",
              "    }\n",
              "    (() => {\n",
              "      let quickchartButtonEl =\n",
              "        document.querySelector('#df-133500e6-7d55-40c4-b4ed-856fae2dbd13 button');\n",
              "      quickchartButtonEl.style.display =\n",
              "        google.colab.kernel.accessAllowed ? 'block' : 'none';\n",
              "    })();\n",
              "  </script>\n",
              "</div>\n",
              "    </div>\n",
              "  </div>\n"
            ]
          },
          "metadata": {},
          "execution_count": 54
        }
      ],
      "source": [
        "df['type']=df2\n",
        "df"
      ]
    },
    {
      "cell_type": "code",
      "execution_count": 55,
      "id": "b4604fa3",
      "metadata": {
        "colab": {
          "base_uri": "https://localhost:8080/",
          "height": 919
        },
        "id": "b4604fa3",
        "outputId": "80753ece-fdb4-40c2-c9f3-9e6c3c288c8a"
      },
      "outputs": [
        {
          "output_type": "execute_result",
          "data": {
            "text/plain": [
              "AveragePrice       Axes(0.125,0.712609;0.133621x0.167391)\n",
              "Total Volume    Axes(0.285345,0.712609;0.133621x0.167391)\n",
              "4046             Axes(0.44569,0.712609;0.133621x0.167391)\n",
              "4225            Axes(0.606034,0.712609;0.133621x0.167391)\n",
              "4770            Axes(0.766379,0.712609;0.133621x0.167391)\n",
              "Total Bags         Axes(0.125,0.511739;0.133621x0.167391)\n",
              "Small Bags      Axes(0.285345,0.511739;0.133621x0.167391)\n",
              "Large Bags       Axes(0.44569,0.511739;0.133621x0.167391)\n",
              "XLarge Bags     Axes(0.606034,0.511739;0.133621x0.167391)\n",
              "type            Axes(0.766379,0.511739;0.133621x0.167391)\n",
              "year                Axes(0.125,0.31087;0.133621x0.167391)\n",
              "region           Axes(0.285345,0.31087;0.133621x0.167391)\n",
              "Month             Axes(0.44569,0.31087;0.133621x0.167391)\n",
              "Day              Axes(0.606034,0.31087;0.133621x0.167391)\n",
              "dtype: object"
            ]
          },
          "metadata": {},
          "execution_count": 55
        },
        {
          "output_type": "display_data",
          "data": {
            "text/plain": [
              "<Figure size 1500x1000 with 20 Axes>"
            ],
            "image/png": "[encoded data removed]"
          },
          "metadata": {}
        }
      ],
      "source": [
        "#pLotting the boxplot of each column to check the outliers\n",
        "df.plot (kind='box', subplots= True, layout=(4,5),figsize= (15, 10))"
      ]
    },
    {
      "cell_type": "markdown",
      "id": "4a92ba2e",
      "metadata": {
        "id": "4a92ba2e"
      },
      "source": [
        "yes we can see there are many outlirs in my model but firstly i wabt to check the correlation of features"
      ]
    },
    {
      "cell_type": "code",
      "execution_count": 56,
      "id": "841c6ff6",
      "metadata": {
        "colab": {
          "base_uri": "https://localhost:8080/",
          "height": 623
        },
        "id": "841c6ff6",
        "outputId": "87f57e9c-2473-4c9f-ba11-59b58433b5ee"
      },
      "outputs": [
        {
          "output_type": "execute_result",
          "data": {
            "text/plain": [
              "<Axes: >"
            ]
          },
          "metadata": {},
          "execution_count": 56
        },
        {
          "output_type": "display_data",
          "data": {
            "text/plain": [
              "<Figure size 1200x600 with 2 Axes>"
            ],
            "image/png": "[encoded data removed]"
          },
          "metadata": {}
        }
      ],
      "source": [
        "# plot heat map\n",
        "plt.figure(figsize=(12,6))\n",
        "sns.heatmap(df.corr(),cmap='coolwarm',annot=True)"
      ]
    },
    {
      "cell_type": "markdown",
      "id": "6dc7e006",
      "metadata": {
        "id": "6dc7e006"
      },
      "source": [
        "As we can from the heatmap above, all the Features are not correleted with the Average Price column, instead most of them\n",
        "are correlated with each other. So now I am bit worried because that will not help us get a good model. Lets try and see.\n",
        "\n",
        "First we have to do some Feature Engineering on the categorical Features : region and type"
      ]
    },
    {
      "cell_type": "code",
      "execution_count": 57,
      "id": "4184cec0",
      "metadata": {
        "colab": {
          "base_uri": "https://localhost:8080/"
        },
        "id": "4184cec0",
        "outputId": "069ced31-0717-4d13-abdb-07d7b759671d"
      },
      "outputs": [
        {
          "output_type": "execute_result",
          "data": {
            "text/plain": [
              "54"
            ]
          },
          "metadata": {},
          "execution_count": 57
        }
      ],
      "source": [
        "df['region'].nunique()"
      ]
    },
    {
      "cell_type": "code",
      "execution_count": 58,
      "id": "a14387c4",
      "metadata": {
        "colab": {
          "base_uri": "https://localhost:8080/"
        },
        "id": "a14387c4",
        "outputId": "767cccba-42b8-4a12-e2bb-51be465bbdfa"
      },
      "outputs": [
        {
          "output_type": "execute_result",
          "data": {
            "text/plain": [
              "2"
            ]
          },
          "metadata": {},
          "execution_count": 58
        }
      ],
      "source": [
        "df['type'].nunique()"
      ]
    },
    {
      "cell_type": "markdown",
      "id": "d83ef707",
      "metadata": {
        "id": "d83ef707"
      },
      "source": [
        "I will drop the Date Feature as well because I already have 3 other columns for the Year, Month and Day."
      ]
    },
    {
      "cell_type": "code",
      "execution_count": 59,
      "id": "91800d21",
      "metadata": {
        "id": "91800d21"
      },
      "outputs": [],
      "source": [
        "# drop unnessary column\n",
        "df.drop('Date',inplace=True,axis=1)"
      ]
    },
    {
      "cell_type": "code",
      "execution_count": 60,
      "id": "2090e132",
      "metadata": {
        "colab": {
          "base_uri": "https://localhost:8080/",
          "height": 206
        },
        "id": "2090e132",
        "outputId": "8a2dbb76-9a52-489c-ff12-b71d879a3623"
      },
      "outputs": [
        {
          "output_type": "execute_result",
          "data": {
            "text/plain": [
              "   AveragePrice  Total Volume     4046       4225    4770  Total Bags  \\\n",
              "0          1.33      64236.62  1036.74   54454.85   48.16     8696.87   \n",
              "1          1.35      54876.98   674.28   44638.81   58.33     9505.56   \n",
              "2          0.93     118220.22   794.70  109149.67  130.50     8145.35   \n",
              "3          1.08      78992.15  1132.00   71976.41   72.58     5811.16   \n",
              "4          1.28      51039.60   941.48   43838.39   75.78     6183.95   \n",
              "\n",
              "   Small Bags  Large Bags  XLarge Bags  type  year  region  Month  Day  \n",
              "0     8603.62       93.25          0.0     0  2015       0     12   27  \n",
              "1     9408.07       97.49          0.0     0  2015       0     12   20  \n",
              "2     8042.21      103.14          0.0     0  2015       0     12   13  \n",
              "3     5677.40      133.76          0.0     0  2015       0     12    6  \n",
              "4     5986.26      197.69          0.0     0  2015       0     11   29  "
            ],
            "text/html": [
              "\n",
              "  <div id=\"df-4a15d9f6-9ccd-4201-8a4c-2bce65abd43f\" class=\"colab-df-container\">\n",
              "    <div>\n",
              "<style scoped>\n",
              "    .dataframe tbody tr th:only-of-type {\n",
              "        vertical-align: middle;\n",
              "    }\n",
              "\n",
              "    .dataframe tbody tr th {\n",
              "        vertical-align: top;\n",
              "    }\n",
              "\n",
              "    .dataframe thead th {\n",
              "        text-align: right;\n",
              "    }\n",
              "</style>\n",
              "<table border=\"1\" class=\"dataframe\">\n",
              "  <thead>\n",
              "    <tr style=\"text-align: right;\">\n",
              "      <th></th>\n",
              "      <th>AveragePrice</th>\n",
              "      <th>Total Volume</th>\n",
              "      <th>4046</th>\n",
              "      <th>4225</th>\n",
              "      <th>4770</th>\n",
              "      <th>Total Bags</th>\n",
              "      <th>Small Bags</th>\n",
              "      <th>Large Bags</th>\n",
              "      <th>XLarge Bags</th>\n",
              "      <th>type</th>\n",
              "      <th>year</th>\n",
              "      <th>region</th>\n",
              "      <th>Month</th>\n",
              "      <th>Day</th>\n",
              "    </tr>\n",
              "  </thead>\n",
              "  <tbody>\n",
              "    <tr>\n",
              "      <th>0</th>\n",
              "      <td>1.33</td>\n",
              "      <td>64236.62</td>\n",
              "      <td>1036.74</td>\n",
              "      <td>54454.85</td>\n",
              "      <td>48.16</td>\n",
              "      <td>8696.87</td>\n",
              "      <td>8603.62</td>\n",
              "      <td>93.25</td>\n",
              "      <td>0.0</td>\n",
              "      <td>0</td>\n",
              "      <td>2015</td>\n",
              "      <td>0</td>\n",
              "      <td>12</td>\n",
              "      <td>27</td>\n",
              "    </tr>\n",
              "    <tr>\n",
              "      <th>1</th>\n",
              "      <td>1.35</td>\n",
              "      <td>54876.98</td>\n",
              "      <td>674.28</td>\n",
              "      <td>44638.81</td>\n",
              "      <td>58.33</td>\n",
              "      <td>9505.56</td>\n",
              "      <td>9408.07</td>\n",
              "      <td>97.49</td>\n",
              "      <td>0.0</td>\n",
              "      <td>0</td>\n",
              "      <td>2015</td>\n",
              "      <td>0</td>\n",
              "      <td>12</td>\n",
              "      <td>20</td>\n",
              "    </tr>\n",
              "    <tr>\n",
              "      <th>2</th>\n",
              "      <td>0.93</td>\n",
              "      <td>118220.22</td>\n",
              "      <td>794.70</td>\n",
              "      <td>109149.67</td>\n",
              "      <td>130.50</td>\n",
              "      <td>8145.35</td>\n",
              "      <td>8042.21</td>\n",
              "      <td>103.14</td>\n",
              "      <td>0.0</td>\n",
              "      <td>0</td>\n",
              "      <td>2015</td>\n",
              "      <td>0</td>\n",
              "      <td>12</td>\n",
              "      <td>13</td>\n",
              "    </tr>\n",
              "    <tr>\n",
              "      <th>3</th>\n",
              "      <td>1.08</td>\n",
              "      <td>78992.15</td>\n",
              "      <td>1132.00</td>\n",
              "      <td>71976.41</td>\n",
              "      <td>72.58</td>\n",
              "      <td>5811.16</td>\n",
              "      <td>5677.40</td>\n",
              "      <td>133.76</td>\n",
              "      <td>0.0</td>\n",
              "      <td>0</td>\n",
              "      <td>2015</td>\n",
              "      <td>0</td>\n",
              "      <td>12</td>\n",
              "      <td>6</td>\n",
              "    </tr>\n",
              "    <tr>\n",
              "      <th>4</th>\n",
              "      <td>1.28</td>\n",
              "      <td>51039.60</td>\n",
              "      <td>941.48</td>\n",
              "      <td>43838.39</td>\n",
              "      <td>75.78</td>\n",
              "      <td>6183.95</td>\n",
              "      <td>5986.26</td>\n",
              "      <td>197.69</td>\n",
              "      <td>0.0</td>\n",
              "      <td>0</td>\n",
              "      <td>2015</td>\n",
              "      <td>0</td>\n",
              "      <td>11</td>\n",
              "      <td>29</td>\n",
              "    </tr>\n",
              "  </tbody>\n",
              "</table>\n",
              "</div>\n",
              "    <div class=\"colab-df-buttons\">\n",
              "\n",
              "  <div class=\"colab-df-container\">\n",
              "    <button class=\"colab-df-convert\" onclick=\"convertToInteractive('df-4a15d9f6-9ccd-4201-8a4c-2bce65abd43f')\"\n",
              "            title=\"Convert this dataframe to an interactive table.\"\n",
              "            style=\"display:none;\">\n",
              "\n",
              "  <svg xmlns=\"http://www.w3.org/2000/svg\" height=\"24px\" viewBox=\"0 -960 960 960\">\n",
              "    <path d=\"M120-120v-720h720v720H120Zm60-500h600v-160H180v160Zm220 220h160v-160H400v160Zm0 220h160v-160H400v160ZM180-400h160v-160H180v160Zm440 0h160v-160H620v160ZM180-180h160v-160H180v160Zm440 0h160v-160H620v160Z\"/>\n",
              "  </svg>\n",
              "    </button>\n",
              "\n",
              "  <style>\n",
              "    .colab-df-container {\n",
              "      display:flex;\n",
              "      gap: 12px;\n",
              "    }\n",
              "\n",
              "    .colab-df-convert {\n",
              "      background-color: #E8F0FE;\n",
              "      border: none;\n",
              "      border-radius: 50%;\n",
              "      cursor: pointer;\n",
              "      display: none;\n",
              "      fill: #1967D2;\n",
              "      height: 32px;\n",
              "      padding: 0 0 0 0;\n",
              "      width: 32px;\n",
              "    }\n",
              "\n",
              "    .colab-df-convert:hover {\n",
              "      background-color: #E2EBFA;\n",
              "      box-shadow: 0px 1px 2px rgba(60, 64, 67, 0.3), 0px 1px 3px 1px rgba(60, 64, 67, 0.15);\n",
              "      fill: #174EA6;\n",
              "    }\n",
              "\n",
              "    .colab-df-buttons div {\n",
              "      margin-bottom: 4px;\n",
              "    }\n",
              "\n",
              "    [theme=dark] .colab-df-convert {\n",
              "      background-color: #3B4455;\n",
              "      fill: #D2E3FC;\n",
              "    }\n",
              "\n",
              "    [theme=dark] .colab-df-convert:hover {\n",
              "      background-color: #434B5C;\n",
              "      box-shadow: 0px 1px 3px 1px rgba(0, 0, 0, 0.15);\n",
              "      filter: drop-shadow(0px 1px 2px rgba(0, 0, 0, 0.3));\n",
              "      fill: #FFFFFF;\n",
              "    }\n",
              "  </style>\n",
              "\n",
              "    <script>\n",
              "      const buttonEl =\n",
              "        document.querySelector('#df-4a15d9f6-9ccd-4201-8a4c-2bce65abd43f button.colab-df-convert');\n",
              "      buttonEl.style.display =\n",
              "        google.colab.kernel.accessAllowed ? 'block' : 'none';\n",
              "\n",
              "      async function convertToInteractive(key) {\n",
              "        const element = document.querySelector('#df-4a15d9f6-9ccd-4201-8a4c-2bce65abd43f');\n",
              "        const dataTable =\n",
              "          await google.colab.kernel.invokeFunction('convertToInteractive',\n",
              "                                                    [key], {});\n",
              "        if (!dataTable) return;\n",
              "\n",
              "        const docLinkHtml = 'Like what you see? Visit the ' +\n",
              "          '<a target=\"_blank\" href=https://colab.research.google.com/notebooks/data_table.ipynb>data table notebook</a>'\n",
              "          + ' to learn more about interactive tables.';\n",
              "        element.innerHTML = '';\n",
              "        dataTable['output_type'] = 'display_data';\n",
              "        await google.colab.output.renderOutput(dataTable, element);\n",
              "        const docLink = document.createElement('div');\n",
              "        docLink.innerHTML = docLinkHtml;\n",
              "        element.appendChild(docLink);\n",
              "      }\n",
              "    </script>\n",
              "  </div>\n",
              "\n",
              "\n",
              "<div id=\"df-b4461339-177c-411e-aab4-9586c4e26cfe\">\n",
              "  <button class=\"colab-df-quickchart\" onclick=\"quickchart('df-b4461339-177c-411e-aab4-9586c4e26cfe')\"\n",
              "            title=\"Suggest charts\"\n",
              "            style=\"display:none;\">\n",
              "\n",
              "<svg xmlns=\"http://www.w3.org/2000/svg\" height=\"24px\"viewBox=\"0 0 24 24\"\n",
              "     width=\"24px\">\n",
              "    <g>\n",
              "        <path d=\"M19 3H5c-1.1 0-2 .9-2 2v14c0 1.1.9 2 2 2h14c1.1 0 2-.9 2-2V5c0-1.1-.9-2-2-2zM9 17H7v-7h2v7zm4 0h-2V7h2v10zm4 0h-2v-4h2v4z\"/>\n",
              "    </g>\n",
              "</svg>\n",
              "  </button>\n",
              "\n",
              "<style>\n",
              "  .colab-df-quickchart {\n",
              "      --bg-color: #E8F0FE;\n",
              "      --fill-color: #1967D2;\n",
              "      --hover-bg-color: #E2EBFA;\n",
              "      --hover-fill-color: #174EA6;\n",
              "      --disabled-fill-color: #AAA;\n",
              "      --disabled-bg-color: #DDD;\n",
              "  }\n",
              "\n",
              "  [theme=dark] .colab-df-quickchart {\n",
              "      --bg-color: #3B4455;\n",
              "      --fill-color: #D2E3FC;\n",
              "      --hover-bg-color: #434B5C;\n",
              "      --hover-fill-color: #FFFFFF;\n",
              "      --disabled-bg-color: #3B4455;\n",
              "      --disabled-fill-color: #666;\n",
              "  }\n",
              "\n",
              "  .colab-df-quickchart {\n",
              "    background-color: var(--bg-color);\n",
              "    border: none;\n",
              "    border-radius: 50%;\n",
              "    cursor: pointer;\n",
              "    display: none;\n",
              "    fill: var(--fill-color);\n",
              "    height: 32px;\n",
              "    padding: 0;\n",
              "    width: 32px;\n",
              "  }\n",
              "\n",
              "  .colab-df-quickchart:hover {\n",
              "    background-color: var(--hover-bg-color);\n",
              "    box-shadow: 0 1px 2px rgba(60, 64, 67, 0.3), 0 1px 3px 1px rgba(60, 64, 67, 0.15);\n",
              "    fill: var(--button-hover-fill-color);\n",
              "  }\n",
              "\n",
              "  .colab-df-quickchart-complete:disabled,\n",
              "  .colab-df-quickchart-complete:disabled:hover {\n",
              "    background-color: var(--disabled-bg-color);\n",
              "    fill: var(--disabled-fill-color);\n",
              "    box-shadow: none;\n",
              "  }\n",
              "\n",
              "  .colab-df-spinner {\n",
              "    border: 2px solid var(--fill-color);\n",
              "    border-color: transparent;\n",
              "    border-bottom-color: var(--fill-color);\n",
              "    animation:\n",
              "      spin 1s steps(1) infinite;\n",
              "  }\n",
              "\n",
              "  @keyframes spin {\n",
              "    0% {\n",
              "      border-color: transparent;\n",
              "      border-bottom-color: var(--fill-color);\n",
              "      border-left-color: var(--fill-color);\n",
              "    }\n",
              "    20% {\n",
              "      border-color: transparent;\n",
              "      border-left-color: var(--fill-color);\n",
              "      border-top-color: var(--fill-color);\n",
              "    }\n",
              "    30% {\n",
              "      border-color: transparent;\n",
              "      border-left-color: var(--fill-color);\n",
              "      border-top-color: var(--fill-color);\n",
              "      border-right-color: var(--fill-color);\n",
              "    }\n",
              "    40% {\n",
              "      border-color: transparent;\n",
              "      border-right-color: var(--fill-color);\n",
              "      border-top-color: var(--fill-color);\n",
              "    }\n",
              "    60% {\n",
              "      border-color: transparent;\n",
              "      border-right-color: var(--fill-color);\n",
              "    }\n",
              "    80% {\n",
              "      border-color: transparent;\n",
              "      border-right-color: var(--fill-color);\n",
              "      border-bottom-color: var(--fill-color);\n",
              "    }\n",
              "    90% {\n",
              "      border-color: transparent;\n",
              "      border-bottom-color: var(--fill-color);\n",
              "    }\n",
              "  }\n",
              "</style>\n",
              "\n",
              "  <script>\n",
              "    async function quickchart(key) {\n",
              "      const quickchartButtonEl =\n",
              "        document.querySelector('#' + key + ' button');\n",
              "      quickchartButtonEl.disabled = true;  // To prevent multiple clicks.\n",
              "      quickchartButtonEl.classList.add('colab-df-spinner');\n",
              "      try {\n",
              "        const charts = await google.colab.kernel.invokeFunction(\n",
              "            'suggestCharts', [key], {});\n",
              "      } catch (error) {\n",
              "        console.error('Error during call to suggestCharts:', error);\n",
              "      }\n",
              "      quickchartButtonEl.classList.remove('colab-df-spinner');\n",
              "      quickchartButtonEl.classList.add('colab-df-quickchart-complete');\n",
              "    }\n",
              "    (() => {\n",
              "      let quickchartButtonEl =\n",
              "        document.querySelector('#df-b4461339-177c-411e-aab4-9586c4e26cfe button');\n",
              "      quickchartButtonEl.style.display =\n",
              "        google.colab.kernel.accessAllowed ? 'block' : 'none';\n",
              "    })();\n",
              "  </script>\n",
              "</div>\n",
              "    </div>\n",
              "  </div>\n"
            ]
          },
          "metadata": {},
          "execution_count": 60
        }
      ],
      "source": [
        "df.head()"
      ]
    },
    {
      "cell_type": "markdown",
      "id": "4f5a61e1",
      "metadata": {
        "id": "4f5a61e1"
      },
      "source": [
        "# Model selection/predictions"
      ]
    },
    {
      "cell_type": "markdown",
      "id": "4219dfae",
      "metadata": {
        "id": "4219dfae"
      },
      "source": [
        "Now our data are ready! lets apply our model which is going to be the Linear Regression $ Logistic Regression because our\n",
        "Target variable 'AveragePrice' is continuous and region is catagorical."
      ]
    },
    {
      "cell_type": "code",
      "execution_count": 61,
      "id": "bf00ee86",
      "metadata": {
        "id": "bf00ee86"
      },
      "outputs": [],
      "source": [
        "x=df.drop(columns=['AveragePrice','region'])# here in x we keep only features and drop label,we will drop region bcoz it is\n",
        "# also a label which i will use later.\n",
        "y_continous=df['AveragePrice']  #here in y we keep only labels"
      ]
    },
    {
      "cell_type": "code",
      "execution_count": 62,
      "id": "665c927f",
      "metadata": {
        "colab": {
          "base_uri": "https://localhost:8080/"
        },
        "id": "665c927f",
        "outputId": "4d77a6c8-004c-4ef5-8b62-10a97efacbd5"
      },
      "outputs": [
        {
          "output_type": "execute_result",
          "data": {
            "text/plain": [
              "array([[-0.22771641, -0.23081597, -0.1999022 , ..., -1.22128204,\n",
              "         1.64763162,  1.29185687],\n",
              "       [-0.23042664, -0.23110251, -0.20805446, ..., -1.22128204,\n",
              "         1.64763162,  0.49423066],\n",
              "       [-0.21208462, -0.23100731, -0.1544779 , ..., -1.22128204,\n",
              "         1.64763162, -0.30339555],\n",
              "       ...,\n",
              "       [-0.24233073, -0.2306933 , -0.24309014, ...,  1.97050371,\n",
              "        -1.46495942,  0.60817726],\n",
              "       [-0.24162464, -0.2304279 , -0.24265143, ...,  1.97050371,\n",
              "        -1.46495942, -0.18944895],\n",
              "       [-0.24125273, -0.22934712, -0.24317042, ...,  1.97050371,\n",
              "        -1.46495942, -0.98707516]])"
            ]
          },
          "metadata": {},
          "execution_count": 62
        }
      ],
      "source": [
        "# data scaleing,    formula z=(x-mean)/std\n",
        "scaler=StandardScaler()\n",
        "x_scale=scaler.fit_transform(x)# we can use scaler only for features\n",
        "x_scale"
      ]
    },
    {
      "cell_type": "code",
      "execution_count": 63,
      "id": "ad44b3dd",
      "metadata": {
        "id": "ad44b3dd"
      },
      "outputs": [],
      "source": [
        "#split data into train and test model and model will be build on trained and tested data\n",
        "x_train,x_test,y_train,y_test=train_test_split(x_scale,y_continous,test_size=.25,random_state=348)\n",
        "#by default test_size is .25 and we can give any no in random_state."
      ]
    },
    {
      "cell_type": "markdown",
      "id": "0196ad55",
      "metadata": {
        "id": "0196ad55"
      },
      "source": [
        "linear regression model"
      ]
    },
    {
      "cell_type": "code",
      "execution_count": 64,
      "id": "52e6bcff",
      "metadata": {
        "colab": {
          "base_uri": "https://localhost:8080/",
          "height": 74
        },
        "id": "52e6bcff",
        "outputId": "76762b0c-d4a2-418f-def3-c84a8fa986f2"
      },
      "outputs": [
        {
          "output_type": "execute_result",
          "data": {
            "text/plain": [
              "LinearRegression()"
            ],
            "text/html": [
              "<style>#sk-container-id-1 {color: black;background-color: white;}#sk-container-id-1 pre{padding: 0;}#sk-container-id-1 div.sk-toggleable {background-color: white;}#sk-container-id-1 label.sk-toggleable__label {cursor: pointer;display: block;width: 100%;margin-bottom: 0;padding: 0.3em;box-sizing: border-box;text-align: center;}#sk-container-id-1 label.sk-toggleable__label-arrow:before {content: \"▸\";float: left;margin-right: 0.25em;color: #696969;}#sk-container-id-1 label.sk-toggleable__label-arrow:hover:before {color: black;}#sk-container-id-1 div.sk-estimator:hover label.sk-toggleable__label-arrow:before {color: black;}#sk-container-id-1 div.sk-toggleable__content {max-height: 0;max-width: 0;overflow: hidden;text-align: left;background-color: #f0f8ff;}#sk-container-id-1 div.sk-toggleable__content pre {margin: 0.2em;color: black;border-radius: 0.25em;background-color: #f0f8ff;}#sk-container-id-1 input.sk-toggleable__control:checked~div.sk-toggleable__content {max-height: 200px;max-width: 100%;overflow: auto;}#sk-container-id-1 input.sk-toggleable__control:checked~label.sk-toggleable__label-arrow:before {content: \"▾\";}#sk-container-id-1 div.sk-estimator input.sk-toggleable__control:checked~label.sk-toggleable__label {background-color: #d4ebff;}#sk-container-id-1 div.sk-label input.sk-toggleable__control:checked~label.sk-toggleable__label {background-color: #d4ebff;}#sk-container-id-1 input.sk-hidden--visually {border: 0;clip: rect(1px 1px 1px 1px);clip: rect(1px, 1px, 1px, 1px);height: 1px;margin: -1px;overflow: hidden;padding: 0;position: absolute;width: 1px;}#sk-container-id-1 div.sk-estimator {font-family: monospace;background-color: #f0f8ff;border: 1px dotted black;border-radius: 0.25em;box-sizing: border-box;margin-bottom: 0.5em;}#sk-container-id-1 div.sk-estimator:hover {background-color: #d4ebff;}#sk-container-id-1 div.sk-parallel-item::after {content: \"\";width: 100%;border-bottom: 1px solid gray;flex-grow: 1;}#sk-container-id-1 div.sk-label:hover label.sk-toggleable__label {background-color: #d4ebff;}#sk-container-id-1 div.sk-serial::before {content: \"\";position: absolute;border-left: 1px solid gray;box-sizing: border-box;top: 0;bottom: 0;left: 50%;z-index: 0;}#sk-container-id-1 div.sk-serial {display: flex;flex-direction: column;align-items: center;background-color: white;padding-right: 0.2em;padding-left: 0.2em;position: relative;}#sk-container-id-1 div.sk-item {position: relative;z-index: 1;}#sk-container-id-1 div.sk-parallel {display: flex;align-items: stretch;justify-content: center;background-color: white;position: relative;}#sk-container-id-1 div.sk-item::before, #sk-container-id-1 div.sk-parallel-item::before {content: \"\";position: absolute;border-left: 1px solid gray;box-sizing: border-box;top: 0;bottom: 0;left: 50%;z-index: -1;}#sk-container-id-1 div.sk-parallel-item {display: flex;flex-direction: column;z-index: 1;position: relative;background-color: white;}#sk-container-id-1 div.sk-parallel-item:first-child::after {align-self: flex-end;width: 50%;}#sk-container-id-1 div.sk-parallel-item:last-child::after {align-self: flex-start;width: 50%;}#sk-container-id-1 div.sk-parallel-item:only-child::after {width: 0;}#sk-container-id-1 div.sk-dashed-wrapped {border: 1px dashed gray;margin: 0 0.4em 0.5em 0.4em;box-sizing: border-box;padding-bottom: 0.4em;background-color: white;}#sk-container-id-1 div.sk-label label {font-family: monospace;font-weight: bold;display: inline-block;line-height: 1.2em;}#sk-container-id-1 div.sk-label-container {text-align: center;}#sk-container-id-1 div.sk-container {/* jupyter's `normalize.less` sets `[hidden] { display: none; }` but bootstrap.min.css set `[hidden] { display: none !important; }` so we also need the `!important` here to be able to override the default hidden behavior on the sphinx rendered scikit-learn.org. See: https://github.com/scikit-learn/scikit-learn/issues/21755 */display: inline-block !important;position: relative;}#sk-container-id-1 div.sk-text-repr-fallback {display: none;}</style><div id=\"sk-container-id-1\" class=\"sk-top-container\"><div class=\"sk-text-repr-fallback\"><pre>LinearRegression()</pre><b>In a Jupyter environment, please rerun this cell to show the HTML representation or trust the notebook. <br />On GitHub, the HTML representation is unable to render, please try loading this page with nbviewer.org.</b></div><div class=\"sk-container\" hidden><div class=\"sk-item\"><div class=\"sk-estimator sk-toggleable\"><input class=\"sk-toggleable__control sk-hidden--visually\" id=\"sk-estimator-id-1\" type=\"checkbox\" checked><label for=\"sk-estimator-id-1\" class=\"sk-toggleable__label sk-toggleable__label-arrow\">LinearRegression</label><div class=\"sk-toggleable__content\"><pre>LinearRegression()</pre></div></div></div></div></div>"
            ]
          },
          "metadata": {},
          "execution_count": 64
        }
      ],
      "source": [
        "lm = LinearRegression()\n",
        "lm.fit(x_train, y_train)"
      ]
    },
    {
      "cell_type": "code",
      "source": [
        "from google.colab import drive\n",
        "drive.mount('/content/drive')"
      ],
      "metadata": {
        "id": "mXaczLzpRGqG"
      },
      "id": "mXaczLzpRGqG",
      "execution_count": null,
      "outputs": []
    },
    {
      "cell_type": "code",
      "execution_count": 65,
      "id": "fec35823",
      "metadata": {
        "id": "fec35823"
      },
      "outputs": [],
      "source": [
        "lm.fit(x_train,y_train)\n",
        "pred=lm.predict(x_test)"
      ]
    },
    {
      "cell_type": "code",
      "execution_count": 66,
      "id": "311cfd91",
      "metadata": {
        "colab": {
          "base_uri": "https://localhost:8080/"
        },
        "id": "311cfd91",
        "outputId": "dace4345-3ee9-48a3-d3df-8d60fb83d2e7"
      },
      "outputs": [
        {
          "output_type": "stream",
          "name": "stdout",
          "text": [
            "MAE: 0.23256184212147496\n",
            "MSE: 0.09238982072853338\n",
            "RMSE: 0.3039569389379578\n"
          ]
        }
      ],
      "source": [
        "from sklearn import metrics\n",
        "print('MAE:', metrics.mean_absolute_error(y_test, pred))\n",
        "print('MSE:', metrics.mean_squared_error(y_test, pred))\n",
        "print('RMSE:', np.sqrt(metrics.mean_squared_error(y_test, pred)))"
      ]
    },
    {
      "cell_type": "markdown",
      "id": "7ff5f702",
      "metadata": {
        "id": "7ff5f702"
      },
      "source": [
        "The RMSE is low so we can say that we do have a good model, but lets check to be more sure.\n",
        "Lets plot the y_test vs the predictions"
      ]
    },
    {
      "cell_type": "code",
      "execution_count": 67,
      "id": "62ae7b7e",
      "metadata": {
        "colab": {
          "base_uri": "https://localhost:8080/",
          "height": 448
        },
        "id": "62ae7b7e",
        "outputId": "f3dd48f0-cfbc-4ec1-d043-43901f1f6664"
      },
      "outputs": [
        {
          "output_type": "execute_result",
          "data": {
            "text/plain": [
              "<matplotlib.collections.PathCollection at 0x7ed7a475e860>"
            ]
          },
          "metadata": {},
          "execution_count": 67
        },
        {
          "output_type": "display_data",
          "data": {
            "text/plain": [
              "<Figure size 640x480 with 1 Axes>"
            ],
            "image/png": "[encoded data removed]"
          },
          "metadata": {}
        }
      ],
      "source": [
        "plt.scatter(x=y_test,y=pred)"
      ]
    },
    {
      "cell_type": "markdown",
      "id": "5e28bb94",
      "metadata": {
        "id": "5e28bb94"
      },
      "source": [
        "As we can see that we don't have a straight line so I am not sure that this is the best model we can apply on our data"
      ]
    },
    {
      "cell_type": "markdown",
      "id": "b904eb15",
      "metadata": {
        "id": "b904eb15"
      },
      "source": [
        "Lets try working with the Decision Tree Regression model"
      ]
    },
    {
      "cell_type": "code",
      "execution_count": 68,
      "id": "51a0df11",
      "metadata": {
        "id": "51a0df11"
      },
      "outputs": [],
      "source": [
        "from sklearn.tree import DecisionTreeRegressor\n",
        "dtr=DecisionTreeRegressor()\n",
        "dtr.fit(x_train,y_train)\n",
        "pred=dtr.predict(x_test)"
      ]
    },
    {
      "cell_type": "code",
      "execution_count": 69,
      "id": "2871bc77",
      "metadata": {
        "colab": {
          "base_uri": "https://localhost:8080/",
          "height": 467
        },
        "id": "2871bc77",
        "outputId": "33ddd8df-baad-4fec-8224-e820868f26e3"
      },
      "outputs": [
        {
          "output_type": "execute_result",
          "data": {
            "text/plain": [
              "Text(0, 0.5, 'Predicted Y')"
            ]
          },
          "metadata": {},
          "execution_count": 69
        },
        {
          "output_type": "display_data",
          "data": {
            "text/plain": [
              "<Figure size 640x480 with 1 Axes>"
            ],
            "image/png": "[encoded data removed]"
          },
          "metadata": {}
        }
      ],
      "source": [
        "plt.scatter(x=y_test,y=pred)\n",
        "plt.xlabel('Y Test')\n",
        "plt.ylabel('Predicted Y')"
      ]
    },
    {
      "cell_type": "markdown",
      "id": "d40df54d",
      "metadata": {
        "id": "d40df54d"
      },
      "source": [
        "Nice, here we can see that we nearly have a straight line, in other words its better than the Linear regression model, and to\n",
        "be more sure lets check the RMSE"
      ]
    },
    {
      "cell_type": "code",
      "execution_count": 70,
      "id": "0750d689",
      "metadata": {
        "colab": {
          "base_uri": "https://localhost:8080/"
        },
        "id": "0750d689",
        "outputId": "e1a11c06-b9cf-4ff3-fd08-bab485d8cc1e"
      },
      "outputs": [
        {
          "output_type": "stream",
          "name": "stdout",
          "text": [
            "MAE: 0.1380495288187596\n",
            "MSE: 0.045501555993863685\n",
            "RMSE: 0.21331093735170656\n"
          ]
        }
      ],
      "source": [
        "print('MAE:', metrics.mean_absolute_error(y_test, pred))\n",
        "print('MSE:', metrics.mean_squared_error(y_test, pred))\n",
        "print('RMSE:', np.sqrt(metrics.mean_squared_error(y_test, pred)))"
      ]
    },
    {
      "cell_type": "markdown",
      "id": "5be54513",
      "metadata": {
        "id": "5be54513"
      },
      "source": [
        "Very Nice, our RMSE is lower than the previous one we got with Linear Regression. Now I am going to try one last model to see if I can improve my predictions for this data which is the\n",
        "RandomForestRegressor"
      ]
    },
    {
      "cell_type": "code",
      "execution_count": 71,
      "id": "cc4bf2fe",
      "metadata": {
        "id": "cc4bf2fe"
      },
      "outputs": [],
      "source": [
        "from sklearn.ensemble import RandomForestRegressor\n",
        "rdr = RandomForestRegressor()\n",
        "rdr.fit(x_train,y_train)\n",
        "pred=rdr.predict(x_test)"
      ]
    },
    {
      "cell_type": "code",
      "execution_count": 72,
      "id": "0eed9a7d",
      "metadata": {
        "colab": {
          "base_uri": "https://localhost:8080/"
        },
        "id": "0eed9a7d",
        "outputId": "a463ebac-003b-44ca-8ff5-bfa8e8d91495"
      },
      "outputs": [
        {
          "output_type": "stream",
          "name": "stdout",
          "text": [
            "MAE: 0.10238380451457374\n",
            "MSE: 0.02177532060705676\n",
            "RMSE: 0.14756463196530786\n"
          ]
        }
      ],
      "source": [
        "print('MAE:', metrics.mean_absolute_error(y_test, pred))\n",
        "print('MSE:', metrics.mean_squared_error(y_test, pred))\n",
        "print('RMSE:', np.sqrt(metrics.mean_squared_error(y_test, pred)))"
      ]
    },
    {
      "cell_type": "code",
      "execution_count": 73,
      "id": "0b43315b",
      "metadata": {
        "colab": {
          "base_uri": "https://localhost:8080/",
          "height": 206
        },
        "id": "0b43315b",
        "outputId": "3f4ec48f-0bb9-4b3b-ab48-700bea9c628d"
      },
      "outputs": [
        {
          "output_type": "execute_result",
          "data": {
            "text/plain": [
              "   AveragePrice  Total Volume     4046       4225    4770  Total Bags  \\\n",
              "0          1.33      64236.62  1036.74   54454.85   48.16     8696.87   \n",
              "1          1.35      54876.98   674.28   44638.81   58.33     9505.56   \n",
              "2          0.93     118220.22   794.70  109149.67  130.50     8145.35   \n",
              "3          1.08      78992.15  1132.00   71976.41   72.58     5811.16   \n",
              "4          1.28      51039.60   941.48   43838.39   75.78     6183.95   \n",
              "\n",
              "   Small Bags  Large Bags  XLarge Bags  type  year  region  Month  Day  \n",
              "0     8603.62       93.25          0.0     0  2015       0     12   27  \n",
              "1     9408.07       97.49          0.0     0  2015       0     12   20  \n",
              "2     8042.21      103.14          0.0     0  2015       0     12   13  \n",
              "3     5677.40      133.76          0.0     0  2015       0     12    6  \n",
              "4     5986.26      197.69          0.0     0  2015       0     11   29  "
            ],
            "text/html": [
              "\n",
              "  <div id=\"df-83129ef7-8ecd-47e1-8ac5-2b298b743ff9\" class=\"colab-df-container\">\n",
              "    <div>\n",
              "<style scoped>\n",
              "    .dataframe tbody tr th:only-of-type {\n",
              "        vertical-align: middle;\n",
              "    }\n",
              "\n",
              "    .dataframe tbody tr th {\n",
              "        vertical-align: top;\n",
              "    }\n",
              "\n",
              "    .dataframe thead th {\n",
              "        text-align: right;\n",
              "    }\n",
              "</style>\n",
              "<table border=\"1\" class=\"dataframe\">\n",
              "  <thead>\n",
              "    <tr style=\"text-align: right;\">\n",
              "      <th></th>\n",
              "      <th>AveragePrice</th>\n",
              "      <th>Total Volume</th>\n",
              "      <th>4046</th>\n",
              "      <th>4225</th>\n",
              "      <th>4770</th>\n",
              "      <th>Total Bags</th>\n",
              "      <th>Small Bags</th>\n",
              "      <th>Large Bags</th>\n",
              "      <th>XLarge Bags</th>\n",
              "      <th>type</th>\n",
              "      <th>year</th>\n",
              "      <th>region</th>\n",
              "      <th>Month</th>\n",
              "      <th>Day</th>\n",
              "    </tr>\n",
              "  </thead>\n",
              "  <tbody>\n",
              "    <tr>\n",
              "      <th>0</th>\n",
              "      <td>1.33</td>\n",
              "      <td>64236.62</td>\n",
              "      <td>1036.74</td>\n",
              "      <td>54454.85</td>\n",
              "      <td>48.16</td>\n",
              "      <td>8696.87</td>\n",
              "      <td>8603.62</td>\n",
              "      <td>93.25</td>\n",
              "      <td>0.0</td>\n",
              "      <td>0</td>\n",
              "      <td>2015</td>\n",
              "      <td>0</td>\n",
              "      <td>12</td>\n",
              "      <td>27</td>\n",
              "    </tr>\n",
              "    <tr>\n",
              "      <th>1</th>\n",
              "      <td>1.35</td>\n",
              "      <td>54876.98</td>\n",
              "      <td>674.28</td>\n",
              "      <td>44638.81</td>\n",
              "      <td>58.33</td>\n",
              "      <td>9505.56</td>\n",
              "      <td>9408.07</td>\n",
              "      <td>97.49</td>\n",
              "      <td>0.0</td>\n",
              "      <td>0</td>\n",
              "      <td>2015</td>\n",
              "      <td>0</td>\n",
              "      <td>12</td>\n",
              "      <td>20</td>\n",
              "    </tr>\n",
              "    <tr>\n",
              "      <th>2</th>\n",
              "      <td>0.93</td>\n",
              "      <td>118220.22</td>\n",
              "      <td>794.70</td>\n",
              "      <td>109149.67</td>\n",
              "      <td>130.50</td>\n",
              "      <td>8145.35</td>\n",
              "      <td>8042.21</td>\n",
              "      <td>103.14</td>\n",
              "      <td>0.0</td>\n",
              "      <td>0</td>\n",
              "      <td>2015</td>\n",
              "      <td>0</td>\n",
              "      <td>12</td>\n",
              "      <td>13</td>\n",
              "    </tr>\n",
              "    <tr>\n",
              "      <th>3</th>\n",
              "      <td>1.08</td>\n",
              "      <td>78992.15</td>\n",
              "      <td>1132.00</td>\n",
              "      <td>71976.41</td>\n",
              "      <td>72.58</td>\n",
              "      <td>5811.16</td>\n",
              "      <td>5677.40</td>\n",
              "      <td>133.76</td>\n",
              "      <td>0.0</td>\n",
              "      <td>0</td>\n",
              "      <td>2015</td>\n",
              "      <td>0</td>\n",
              "      <td>12</td>\n",
              "      <td>6</td>\n",
              "    </tr>\n",
              "    <tr>\n",
              "      <th>4</th>\n",
              "      <td>1.28</td>\n",
              "      <td>51039.60</td>\n",
              "      <td>941.48</td>\n",
              "      <td>43838.39</td>\n",
              "      <td>75.78</td>\n",
              "      <td>6183.95</td>\n",
              "      <td>5986.26</td>\n",
              "      <td>197.69</td>\n",
              "      <td>0.0</td>\n",
              "      <td>0</td>\n",
              "      <td>2015</td>\n",
              "      <td>0</td>\n",
              "      <td>11</td>\n",
              "      <td>29</td>\n",
              "    </tr>\n",
              "  </tbody>\n",
              "</table>\n",
              "</div>\n",
              "    <div class=\"colab-df-buttons\">\n",
              "\n",
              "  <div class=\"colab-df-container\">\n",
              "    <button class=\"colab-df-convert\" onclick=\"convertToInteractive('df-83129ef7-8ecd-47e1-8ac5-2b298b743ff9')\"\n",
              "            title=\"Convert this dataframe to an interactive table.\"\n",
              "            style=\"display:none;\">\n",
              "\n",
              "  <svg xmlns=\"http://www.w3.org/2000/svg\" height=\"24px\" viewBox=\"0 -960 960 960\">\n",
              "    <path d=\"M120-120v-720h720v720H120Zm60-500h600v-160H180v160Zm220 220h160v-160H400v160Zm0 220h160v-160H400v160ZM180-400h160v-160H180v160Zm440 0h160v-160H620v160ZM180-180h160v-160H180v160Zm440 0h160v-160H620v160Z\"/>\n",
              "  </svg>\n",
              "    </button>\n",
              "\n",
              "  <style>\n",
              "    .colab-df-container {\n",
              "      display:flex;\n",
              "      gap: 12px;\n",
              "    }\n",
              "\n",
              "    .colab-df-convert {\n",
              "      background-color: #E8F0FE;\n",
              "      border: none;\n",
              "      border-radius: 50%;\n",
              "      cursor: pointer;\n",
              "      display: none;\n",
              "      fill: #1967D2;\n",
              "      height: 32px;\n",
              "      padding: 0 0 0 0;\n",
              "      width: 32px;\n",
              "    }\n",
              "\n",
              "    .colab-df-convert:hover {\n",
              "      background-color: #E2EBFA;\n",
              "      box-shadow: 0px 1px 2px rgba(60, 64, 67, 0.3), 0px 1px 3px 1px rgba(60, 64, 67, 0.15);\n",
              "      fill: #174EA6;\n",
              "    }\n",
              "\n",
              "    .colab-df-buttons div {\n",
              "      margin-bottom: 4px;\n",
              "    }\n",
              "\n",
              "    [theme=dark] .colab-df-convert {\n",
              "      background-color: #3B4455;\n",
              "      fill: #D2E3FC;\n",
              "    }\n",
              "\n",
              "    [theme=dark] .colab-df-convert:hover {\n",
              "      background-color: #434B5C;\n",
              "      box-shadow: 0px 1px 3px 1px rgba(0, 0, 0, 0.15);\n",
              "      filter: drop-shadow(0px 1px 2px rgba(0, 0, 0, 0.3));\n",
              "      fill: #FFFFFF;\n",
              "    }\n",
              "  </style>\n",
              "\n",
              "    <script>\n",
              "      const buttonEl =\n",
              "        document.querySelector('#df-83129ef7-8ecd-47e1-8ac5-2b298b743ff9 button.colab-df-convert');\n",
              "      buttonEl.style.display =\n",
              "        google.colab.kernel.accessAllowed ? 'block' : 'none';\n",
              "\n",
              "      async function convertToInteractive(key) {\n",
              "        const element = document.querySelector('#df-83129ef7-8ecd-47e1-8ac5-2b298b743ff9');\n",
              "        const dataTable =\n",
              "          await google.colab.kernel.invokeFunction('convertToInteractive',\n",
              "                                                    [key], {});\n",
              "        if (!dataTable) return;\n",
              "\n",
              "        const docLinkHtml = 'Like what you see? Visit the ' +\n",
              "          '<a target=\"_blank\" href=https://colab.research.google.com/notebooks/data_table.ipynb>data table notebook</a>'\n",
              "          + ' to learn more about interactive tables.';\n",
              "        element.innerHTML = '';\n",
              "        dataTable['output_type'] = 'display_data';\n",
              "        await google.colab.output.renderOutput(dataTable, element);\n",
              "        const docLink = document.createElement('div');\n",
              "        docLink.innerHTML = docLinkHtml;\n",
              "        element.appendChild(docLink);\n",
              "      }\n",
              "    </script>\n",
              "  </div>\n",
              "\n",
              "\n",
              "<div id=\"df-1e33feec-f324-4507-8732-c5ebb905d565\">\n",
              "  <button class=\"colab-df-quickchart\" onclick=\"quickchart('df-1e33feec-f324-4507-8732-c5ebb905d565')\"\n",
              "            title=\"Suggest charts\"\n",
              "            style=\"display:none;\">\n",
              "\n",
              "<svg xmlns=\"http://www.w3.org/2000/svg\" height=\"24px\"viewBox=\"0 0 24 24\"\n",
              "     width=\"24px\">\n",
              "    <g>\n",
              "        <path d=\"M19 3H5c-1.1 0-2 .9-2 2v14c0 1.1.9 2 2 2h14c1.1 0 2-.9 2-2V5c0-1.1-.9-2-2-2zM9 17H7v-7h2v7zm4 0h-2V7h2v10zm4 0h-2v-4h2v4z\"/>\n",
              "    </g>\n",
              "</svg>\n",
              "  </button>\n",
              "\n",
              "<style>\n",
              "  .colab-df-quickchart {\n",
              "      --bg-color: #E8F0FE;\n",
              "      --fill-color: #1967D2;\n",
              "      --hover-bg-color: #E2EBFA;\n",
              "      --hover-fill-color: #174EA6;\n",
              "      --disabled-fill-color: #AAA;\n",
              "      --disabled-bg-color: #DDD;\n",
              "  }\n",
              "\n",
              "  [theme=dark] .colab-df-quickchart {\n",
              "      --bg-color: #3B4455;\n",
              "      --fill-color: #D2E3FC;\n",
              "      --hover-bg-color: #434B5C;\n",
              "      --hover-fill-color: #FFFFFF;\n",
              "      --disabled-bg-color: #3B4455;\n",
              "      --disabled-fill-color: #666;\n",
              "  }\n",
              "\n",
              "  .colab-df-quickchart {\n",
              "    background-color: var(--bg-color);\n",
              "    border: none;\n",
              "    border-radius: 50%;\n",
              "    cursor: pointer;\n",
              "    display: none;\n",
              "    fill: var(--fill-color);\n",
              "    height: 32px;\n",
              "    padding: 0;\n",
              "    width: 32px;\n",
              "  }\n",
              "\n",
              "  .colab-df-quickchart:hover {\n",
              "    background-color: var(--hover-bg-color);\n",
              "    box-shadow: 0 1px 2px rgba(60, 64, 67, 0.3), 0 1px 3px 1px rgba(60, 64, 67, 0.15);\n",
              "    fill: var(--button-hover-fill-color);\n",
              "  }\n",
              "\n",
              "  .colab-df-quickchart-complete:disabled,\n",
              "  .colab-df-quickchart-complete:disabled:hover {\n",
              "    background-color: var(--disabled-bg-color);\n",
              "    fill: var(--disabled-fill-color);\n",
              "    box-shadow: none;\n",
              "  }\n",
              "\n",
              "  .colab-df-spinner {\n",
              "    border: 2px solid var(--fill-color);\n",
              "    border-color: transparent;\n",
              "    border-bottom-color: var(--fill-color);\n",
              "    animation:\n",
              "      spin 1s steps(1) infinite;\n",
              "  }\n",
              "\n",
              "  @keyframes spin {\n",
              "    0% {\n",
              "      border-color: transparent;\n",
              "      border-bottom-color: var(--fill-color);\n",
              "      border-left-color: var(--fill-color);\n",
              "    }\n",
              "    20% {\n",
              "      border-color: transparent;\n",
              "      border-left-color: var(--fill-color);\n",
              "      border-top-color: var(--fill-color);\n",
              "    }\n",
              "    30% {\n",
              "      border-color: transparent;\n",
              "      border-left-color: var(--fill-color);\n",
              "      border-top-color: var(--fill-color);\n",
              "      border-right-color: var(--fill-color);\n",
              "    }\n",
              "    40% {\n",
              "      border-color: transparent;\n",
              "      border-right-color: var(--fill-color);\n",
              "      border-top-color: var(--fill-color);\n",
              "    }\n",
              "    60% {\n",
              "      border-color: transparent;\n",
              "      border-right-color: var(--fill-color);\n",
              "    }\n",
              "    80% {\n",
              "      border-color: transparent;\n",
              "      border-right-color: var(--fill-color);\n",
              "      border-bottom-color: var(--fill-color);\n",
              "    }\n",
              "    90% {\n",
              "      border-color: transparent;\n",
              "      border-bottom-color: var(--fill-color);\n",
              "    }\n",
              "  }\n",
              "</style>\n",
              "\n",
              "  <script>\n",
              "    async function quickchart(key) {\n",
              "      const quickchartButtonEl =\n",
              "        document.querySelector('#' + key + ' button');\n",
              "      quickchartButtonEl.disabled = true;  // To prevent multiple clicks.\n",
              "      quickchartButtonEl.classList.add('colab-df-spinner');\n",
              "      try {\n",
              "        const charts = await google.colab.kernel.invokeFunction(\n",
              "            'suggestCharts', [key], {});\n",
              "      } catch (error) {\n",
              "        console.error('Error during call to suggestCharts:', error);\n",
              "      }\n",
              "      quickchartButtonEl.classList.remove('colab-df-spinner');\n",
              "      quickchartButtonEl.classList.add('colab-df-quickchart-complete');\n",
              "    }\n",
              "    (() => {\n",
              "      let quickchartButtonEl =\n",
              "        document.querySelector('#df-1e33feec-f324-4507-8732-c5ebb905d565 button');\n",
              "      quickchartButtonEl.style.display =\n",
              "        google.colab.kernel.accessAllowed ? 'block' : 'none';\n",
              "    })();\n",
              "  </script>\n",
              "</div>\n",
              "    </div>\n",
              "  </div>\n"
            ]
          },
          "metadata": {},
          "execution_count": 73
        }
      ],
      "source": [
        "df.head()"
      ]
    },
    {
      "cell_type": "markdown",
      "id": "68b84a2e",
      "metadata": {
        "id": "68b84a2e"
      },
      "source": [
        "Well as we can see the RMSE is lower than the two previous models, so the RandomForest Regressor is the best model in\n",
        "this case."
      ]
    },
    {
      "cell_type": "markdown",
      "id": "382b5adf",
      "metadata": {
        "id": "382b5adf"
      },
      "source": [
        "# bcoz randamforest is best choic so we will select radomforest to predict the Avrage Price"
      ]
    },
    {
      "cell_type": "code",
      "execution_count": 74,
      "id": "59a4826d",
      "metadata": {
        "id": "59a4826d"
      },
      "outputs": [],
      "source": [
        "# save the model\n",
        "# now save the model\n",
        "pickle.dump(rdr,open('up_avocada','wb'))# lm_avocada model is the new name of file and wb is for write"
      ]
    },
    {
      "cell_type": "markdown",
      "id": "cb4b4f77",
      "metadata": {
        "id": "cb4b4f77"
      },
      "source": [
        "till now we completed our regression model now i am goin to build my classifier model"
      ]
    },
    {
      "cell_type": "code",
      "execution_count": 75,
      "id": "a095b436",
      "metadata": {
        "id": "a095b436"
      },
      "outputs": [],
      "source": [
        "x=df.drop(columns=['AveragePrice','region'])# here in x we keep only features and drop label,we will drop region bcoz it is\n",
        "# also a label which i will use later.\n",
        "y_catagorical=df['region']  #here in y we keep only labels"
      ]
    },
    {
      "cell_type": "code",
      "execution_count": 76,
      "id": "5d39b27b",
      "metadata": {
        "colab": {
          "base_uri": "https://localhost:8080/"
        },
        "id": "5d39b27b",
        "outputId": "570bd702-a0f1-42f3-c276-c3617336f814"
      },
      "outputs": [
        {
          "output_type": "execute_result",
          "data": {
            "text/plain": [
              "array([[-0.22771641, -0.23081597, -0.1999022 , ..., -1.22128204,\n",
              "         1.64763162,  1.29185687],\n",
              "       [-0.23042664, -0.23110251, -0.20805446, ..., -1.22128204,\n",
              "         1.64763162,  0.49423066],\n",
              "       [-0.21208462, -0.23100731, -0.1544779 , ..., -1.22128204,\n",
              "         1.64763162, -0.30339555],\n",
              "       ...,\n",
              "       [-0.24233073, -0.2306933 , -0.24309014, ...,  1.97050371,\n",
              "        -1.46495942,  0.60817726],\n",
              "       [-0.24162464, -0.2304279 , -0.24265143, ...,  1.97050371,\n",
              "        -1.46495942, -0.18944895],\n",
              "       [-0.24125273, -0.22934712, -0.24317042, ...,  1.97050371,\n",
              "        -1.46495942, -0.98707516]])"
            ]
          },
          "metadata": {},
          "execution_count": 76
        }
      ],
      "source": [
        "# data scaleing,    formula z=(x-mean)/std\n",
        "scaler=StandardScaler()\n",
        "x_scale=scaler.fit_transform(x)# we can use scaler only for features\n",
        "x_scale"
      ]
    },
    {
      "cell_type": "code",
      "execution_count": 77,
      "id": "4df202f3",
      "metadata": {
        "id": "4df202f3"
      },
      "outputs": [],
      "source": [
        "#split data into train and test model and model will be build on trained and tested data\n",
        "x_train,x_test,y_train,y_test=train_test_split(x_scale,y_catagorical,test_size=.25,random_state=348)\n",
        "#by default test_size is .25 and we can give any no in random_state."
      ]
    },
    {
      "cell_type": "markdown",
      "id": "5341ca54",
      "metadata": {
        "id": "5341ca54"
      },
      "source": [
        "logistic regression"
      ]
    },
    {
      "cell_type": "code",
      "execution_count": 78,
      "id": "c24ff4cf",
      "metadata": {
        "colab": {
          "base_uri": "https://localhost:8080/",
          "height": 74
        },
        "id": "c24ff4cf",
        "outputId": "c0236740-2b06-4838-ce0b-8f4a2b6c5b2e"
      },
      "outputs": [
        {
          "output_type": "execute_result",
          "data": {
            "text/plain": [
              "LogisticRegression()"
            ],
            "text/html": [
              "<style>#sk-container-id-2 {color: black;background-color: white;}#sk-container-id-2 pre{padding: 0;}#sk-container-id-2 div.sk-toggleable {background-color: white;}#sk-container-id-2 label.sk-toggleable__label {cursor: pointer;display: block;width: 100%;margin-bottom: 0;padding: 0.3em;box-sizing: border-box;text-align: center;}#sk-container-id-2 label.sk-toggleable__label-arrow:before {content: \"▸\";float: left;margin-right: 0.25em;color: #696969;}#sk-container-id-2 label.sk-toggleable__label-arrow:hover:before {color: black;}#sk-container-id-2 div.sk-estimator:hover label.sk-toggleable__label-arrow:before {color: black;}#sk-container-id-2 div.sk-toggleable__content {max-height: 0;max-width: 0;overflow: hidden;text-align: left;background-color: #f0f8ff;}#sk-container-id-2 div.sk-toggleable__content pre {margin: 0.2em;color: black;border-radius: 0.25em;background-color: #f0f8ff;}#sk-container-id-2 input.sk-toggleable__control:checked~div.sk-toggleable__content {max-height: 200px;max-width: 100%;overflow: auto;}#sk-container-id-2 input.sk-toggleable__control:checked~label.sk-toggleable__label-arrow:before {content: \"▾\";}#sk-container-id-2 div.sk-estimator input.sk-toggleable__control:checked~label.sk-toggleable__label {background-color: #d4ebff;}#sk-container-id-2 div.sk-label input.sk-toggleable__control:checked~label.sk-toggleable__label {background-color: #d4ebff;}#sk-container-id-2 input.sk-hidden--visually {border: 0;clip: rect(1px 1px 1px 1px);clip: rect(1px, 1px, 1px, 1px);height: 1px;margin: -1px;overflow: hidden;padding: 0;position: absolute;width: 1px;}#sk-container-id-2 div.sk-estimator {font-family: monospace;background-color: #f0f8ff;border: 1px dotted black;border-radius: 0.25em;box-sizing: border-box;margin-bottom: 0.5em;}#sk-container-id-2 div.sk-estimator:hover {background-color: #d4ebff;}#sk-container-id-2 div.sk-parallel-item::after {content: \"\";width: 100%;border-bottom: 1px solid gray;flex-grow: 1;}#sk-container-id-2 div.sk-label:hover label.sk-toggleable__label {background-color: #d4ebff;}#sk-container-id-2 div.sk-serial::before {content: \"\";position: absolute;border-left: 1px solid gray;box-sizing: border-box;top: 0;bottom: 0;left: 50%;z-index: 0;}#sk-container-id-2 div.sk-serial {display: flex;flex-direction: column;align-items: center;background-color: white;padding-right: 0.2em;padding-left: 0.2em;position: relative;}#sk-container-id-2 div.sk-item {position: relative;z-index: 1;}#sk-container-id-2 div.sk-parallel {display: flex;align-items: stretch;justify-content: center;background-color: white;position: relative;}#sk-container-id-2 div.sk-item::before, #sk-container-id-2 div.sk-parallel-item::before {content: \"\";position: absolute;border-left: 1px solid gray;box-sizing: border-box;top: 0;bottom: 0;left: 50%;z-index: -1;}#sk-container-id-2 div.sk-parallel-item {display: flex;flex-direction: column;z-index: 1;position: relative;background-color: white;}#sk-container-id-2 div.sk-parallel-item:first-child::after {align-self: flex-end;width: 50%;}#sk-container-id-2 div.sk-parallel-item:last-child::after {align-self: flex-start;width: 50%;}#sk-container-id-2 div.sk-parallel-item:only-child::after {width: 0;}#sk-container-id-2 div.sk-dashed-wrapped {border: 1px dashed gray;margin: 0 0.4em 0.5em 0.4em;box-sizing: border-box;padding-bottom: 0.4em;background-color: white;}#sk-container-id-2 div.sk-label label {font-family: monospace;font-weight: bold;display: inline-block;line-height: 1.2em;}#sk-container-id-2 div.sk-label-container {text-align: center;}#sk-container-id-2 div.sk-container {/* jupyter's `normalize.less` sets `[hidden] { display: none; }` but bootstrap.min.css set `[hidden] { display: none !important; }` so we also need the `!important` here to be able to override the default hidden behavior on the sphinx rendered scikit-learn.org. See: https://github.com/scikit-learn/scikit-learn/issues/21755 */display: inline-block !important;position: relative;}#sk-container-id-2 div.sk-text-repr-fallback {display: none;}</style><div id=\"sk-container-id-2\" class=\"sk-top-container\"><div class=\"sk-text-repr-fallback\"><pre>LogisticRegression()</pre><b>In a Jupyter environment, please rerun this cell to show the HTML representation or trust the notebook. <br />On GitHub, the HTML representation is unable to render, please try loading this page with nbviewer.org.</b></div><div class=\"sk-container\" hidden><div class=\"sk-item\"><div class=\"sk-estimator sk-toggleable\"><input class=\"sk-toggleable__control sk-hidden--visually\" id=\"sk-estimator-id-2\" type=\"checkbox\" checked><label for=\"sk-estimator-id-2\" class=\"sk-toggleable__label sk-toggleable__label-arrow\">LogisticRegression</label><div class=\"sk-toggleable__content\"><pre>LogisticRegression()</pre></div></div></div></div></div>"
            ]
          },
          "metadata": {},
          "execution_count": 78
        }
      ],
      "source": [
        "log_reg = LogisticRegression()\n",
        "log_reg.fit(x_train,y_train)"
      ]
    },
    {
      "cell_type": "code",
      "execution_count": 79,
      "id": "ab5962e8",
      "metadata": {
        "id": "ab5962e8"
      },
      "outputs": [],
      "source": [
        "y_pred = log_reg.predict(x_test)"
      ]
    },
    {
      "cell_type": "code",
      "execution_count": 80,
      "id": "01f614a8",
      "metadata": {
        "colab": {
          "base_uri": "https://localhost:8080/"
        },
        "id": "01f614a8",
        "outputId": "58bb07e6-fe81-4b06-c05f-97a0ece76507"
      },
      "outputs": [
        {
          "output_type": "execute_result",
          "data": {
            "text/plain": [
              "0.32018408941485865"
            ]
          },
          "metadata": {},
          "execution_count": 80
        }
      ],
      "source": [
        "# check model accuracy\n",
        "accuracy = accuracy_score(y_test,y_pred)\n",
        "accuracy"
      ]
    },
    {
      "cell_type": "code",
      "execution_count": 81,
      "id": "69fb1e08",
      "metadata": {
        "colab": {
          "base_uri": "https://localhost:8080/"
        },
        "id": "69fb1e08",
        "outputId": "b1939f4f-bc43-4a34-b968-ac3c68c0847b"
      },
      "outputs": [
        {
          "output_type": "execute_result",
          "data": {
            "text/plain": [
              "array([[34,  0,  0, ...,  0,  0,  0],\n",
              "       [ 7, 22,  0, ...,  0,  0,  1],\n",
              "       [ 2,  0, 38, ...,  0,  0,  0],\n",
              "       ...,\n",
              "       [ 0,  0,  0, ..., 80,  0,  0],\n",
              "       [ 0,  0,  0, ...,  1, 59,  0],\n",
              "       [ 2,  2,  0, ...,  0,  0, 24]])"
            ]
          },
          "metadata": {},
          "execution_count": 81
        }
      ],
      "source": [
        "# confusion matrix\n",
        "conf_mat=confusion_matrix(y_test,y_pred)\n",
        "conf_mat"
      ]
    },
    {
      "cell_type": "code",
      "execution_count": 82,
      "id": "9122d764",
      "metadata": {
        "colab": {
          "base_uri": "https://localhost:8080/"
        },
        "id": "9122d764",
        "outputId": "9dc7bdc4-4877-4a8d-dc48-cbd1c67b1d2a"
      },
      "outputs": [
        {
          "output_type": "stream",
          "name": "stdout",
          "text": [
            "              precision    recall  f1-score   support\n",
            "\n",
            "           0       0.08      0.40      0.14        86\n",
            "           1       0.52      0.28      0.36        79\n",
            "           2       0.69      0.38      0.49       100\n",
            "           3       0.42      0.33      0.37        96\n",
            "           4       0.44      0.37      0.40        79\n",
            "           5       0.30      0.18      0.23        83\n",
            "           6       0.51      0.68      0.59        76\n",
            "           7       0.20      0.33      0.25        87\n",
            "           8       0.16      0.57      0.25        92\n",
            "           9       0.41      0.58      0.48        79\n",
            "          10       0.71      0.06      0.11        86\n",
            "          11       0.16      0.20      0.18        75\n",
            "          12       0.13      0.47      0.20        79\n",
            "          13       0.83      0.34      0.48        85\n",
            "          14       0.46      0.30      0.37        82\n",
            "          15       0.71      0.52      0.60        92\n",
            "          16       0.55      0.13      0.21        94\n",
            "          17       0.57      0.40      0.47        89\n",
            "          18       0.39      0.14      0.21        85\n",
            "          19       0.09      0.10      0.09        83\n",
            "          20       0.35      0.29      0.32        83\n",
            "          21       0.64      0.21      0.31       101\n",
            "          22       0.67      0.42      0.52        90\n",
            "          23       0.16      0.44      0.24        70\n",
            "          24       0.39      0.35      0.36        78\n",
            "          25       0.67      0.42      0.52        74\n",
            "          26       0.06      0.01      0.02        81\n",
            "          27       0.20      0.32      0.24        76\n",
            "          28       0.93      0.47      0.62        83\n",
            "          29       0.50      0.74      0.59        72\n",
            "          30       0.48      0.19      0.27        74\n",
            "          31       0.25      0.03      0.05       110\n",
            "          32       0.74      0.33      0.45        89\n",
            "          33       0.36      0.33      0.34        95\n",
            "          34       0.00      0.00      0.00        84\n",
            "          35       0.79      0.47      0.59        79\n",
            "          36       0.54      0.30      0.38        84\n",
            "          37       0.17      0.22      0.19        73\n",
            "          38       0.00      0.00      0.00        99\n",
            "          39       0.00      0.00      0.00        83\n",
            "          40       0.52      0.45      0.48        87\n",
            "          41       0.47      0.18      0.26        78\n",
            "          42       0.47      0.53      0.50        81\n",
            "          43       0.13      0.39      0.20        79\n",
            "          44       1.00      0.02      0.04       100\n",
            "          45       0.70      0.55      0.62        85\n",
            "          46       0.32      0.56      0.41        88\n",
            "          47       0.36      0.04      0.08        94\n",
            "          48       0.06      0.09      0.07        82\n",
            "          49       0.12      0.39      0.19        84\n",
            "          50       0.25      0.12      0.16        75\n",
            "          51       0.98      0.99      0.98        81\n",
            "          52       0.77      0.80      0.78        74\n",
            "          53       0.65      0.27      0.38        90\n",
            "\n",
            "    accuracy                           0.32      4563\n",
            "   macro avg       0.43      0.33      0.33      4563\n",
            "weighted avg       0.43      0.32      0.32      4563\n",
            "\n"
          ]
        }
      ],
      "source": [
        "from sklearn.metrics import classification_report\n",
        "print(classification_report(y_test,y_pred))"
      ]
    },
    {
      "cell_type": "markdown",
      "id": "a73a6be9",
      "metadata": {
        "id": "a73a6be9"
      },
      "source": [
        "As we can see that we don't have a good accuracy. so I am not sure that this is the best model we can apply on our data.\n",
        "so we will use decision tree"
      ]
    },
    {
      "cell_type": "markdown",
      "id": "d8d811da",
      "metadata": {
        "id": "d8d811da"
      },
      "source": [
        "Lets try working with the Decision Tree classifier model"
      ]
    },
    {
      "cell_type": "code",
      "execution_count": 83,
      "id": "6d5d87cd",
      "metadata": {
        "id": "6d5d87cd"
      },
      "outputs": [],
      "source": [
        "dtr=DecisionTreeClassifier()\n",
        "dtr.fit(x_train,y_train)\n",
        "pred=dtr.predict(x_test)"
      ]
    },
    {
      "cell_type": "code",
      "execution_count": 84,
      "id": "3b2baeb6",
      "metadata": {
        "colab": {
          "base_uri": "https://localhost:8080/"
        },
        "id": "3b2baeb6",
        "outputId": "9fed8903-cf36-4498-de3b-abf0adfa7725"
      },
      "outputs": [
        {
          "output_type": "execute_result",
          "data": {
            "text/plain": [
              "0.7823800131492439"
            ]
          },
          "metadata": {},
          "execution_count": 84
        }
      ],
      "source": [
        "# check model accuracy\n",
        "accuracy = accuracy_score(y_test,pred)\n",
        "accuracy"
      ]
    },
    {
      "cell_type": "code",
      "execution_count": 85,
      "id": "6ca2a734",
      "metadata": {
        "colab": {
          "base_uri": "https://localhost:8080/"
        },
        "id": "6ca2a734",
        "outputId": "a06d8951-cf63-443b-deba-968ef006d397"
      },
      "outputs": [
        {
          "output_type": "execute_result",
          "data": {
            "text/plain": [
              "array([[65,  0,  0, ...,  0,  0,  0],\n",
              "       [ 0, 65,  0, ...,  0,  0,  1],\n",
              "       [ 0,  0, 93, ...,  0,  0,  0],\n",
              "       ...,\n",
              "       [ 0,  0,  0, ..., 81,  0,  0],\n",
              "       [ 0,  0,  0, ...,  1, 68,  0],\n",
              "       [ 0,  1,  3, ...,  0,  0, 60]])"
            ]
          },
          "metadata": {},
          "execution_count": 85
        }
      ],
      "source": [
        "# confusion matrix\n",
        "conf_mat=confusion_matrix(y_test,pred)\n",
        "conf_mat"
      ]
    },
    {
      "cell_type": "code",
      "execution_count": 86,
      "id": "b1028270",
      "metadata": {
        "colab": {
          "base_uri": "https://localhost:8080/"
        },
        "id": "b1028270",
        "outputId": "0561d467-eaa1-40f9-f20d-ea82cfe116c0"
      },
      "outputs": [
        {
          "output_type": "stream",
          "name": "stdout",
          "text": [
            "              precision    recall  f1-score   support\n",
            "\n",
            "           0       0.82      0.76      0.79        86\n",
            "           1       0.74      0.82      0.78        79\n",
            "           2       0.92      0.93      0.93       100\n",
            "           3       0.88      0.78      0.83        96\n",
            "           4       0.82      0.85      0.83        79\n",
            "           5       0.68      0.83      0.75        83\n",
            "           6       0.96      0.96      0.96        76\n",
            "           7       0.79      0.80      0.80        87\n",
            "           8       0.90      0.90      0.90        92\n",
            "           9       0.80      0.84      0.81        79\n",
            "          10       0.59      0.59      0.59        86\n",
            "          11       0.79      0.83      0.81        75\n",
            "          12       0.88      0.87      0.88        79\n",
            "          13       0.75      0.69      0.72        85\n",
            "          14       0.85      0.74      0.79        82\n",
            "          15       0.97      0.93      0.95        92\n",
            "          16       0.85      0.87      0.86        94\n",
            "          17       0.76      0.72      0.74        89\n",
            "          18       0.84      0.80      0.82        85\n",
            "          19       0.70      0.75      0.73        83\n",
            "          20       0.79      0.81      0.80        83\n",
            "          21       0.60      0.52      0.56       101\n",
            "          22       0.94      0.92      0.93        90\n",
            "          23       0.72      0.80      0.76        70\n",
            "          24       0.52      0.58      0.55        78\n",
            "          25       0.94      0.91      0.92        74\n",
            "          26       0.62      0.77      0.69        81\n",
            "          27       0.81      0.78      0.79        76\n",
            "          28       0.89      0.69      0.78        83\n",
            "          29       0.87      0.92      0.89        72\n",
            "          30       0.86      0.86      0.86        74\n",
            "          31       0.66      0.57      0.61       110\n",
            "          32       0.81      0.62      0.70        89\n",
            "          33       0.70      0.75      0.72        95\n",
            "          34       0.85      0.81      0.83        84\n",
            "          35       0.77      0.87      0.82        79\n",
            "          36       0.73      0.68      0.70        84\n",
            "          37       0.71      0.64      0.68        73\n",
            "          38       0.75      0.78      0.76        99\n",
            "          39       0.87      0.75      0.81        83\n",
            "          40       0.86      0.86      0.86        87\n",
            "          41       0.70      0.81      0.75        78\n",
            "          42       0.80      0.84      0.82        81\n",
            "          43       0.76      0.81      0.79        79\n",
            "          44       0.74      0.74      0.74       100\n",
            "          45       0.88      0.87      0.88        85\n",
            "          46       0.89      0.90      0.89        88\n",
            "          47       0.75      0.72      0.74        94\n",
            "          48       0.66      0.73      0.69        82\n",
            "          49       0.81      0.76      0.79        84\n",
            "          50       0.39      0.45      0.42        75\n",
            "          51       0.98      1.00      0.99        81\n",
            "          52       0.87      0.92      0.89        74\n",
            "          53       0.67      0.67      0.67        90\n",
            "\n",
            "    accuracy                           0.78      4563\n",
            "   macro avg       0.79      0.78      0.78      4563\n",
            "weighted avg       0.79      0.78      0.78      4563\n",
            "\n"
          ]
        }
      ],
      "source": [
        "from sklearn.metrics import classification_report\n",
        "print(classification_report(y_test,pred))"
      ]
    },
    {
      "cell_type": "code",
      "execution_count": 87,
      "id": "f78d223d",
      "metadata": {
        "id": "f78d223d"
      },
      "outputs": [],
      "source": [
        "# save the model\n",
        "# now save the model\n",
        "pickle.dump(dtr,open('up_avocada','wb'))# up_avocada model is the new name of file and wb is for write"
      ]
    }
  ],
  "metadata": {
    "kernelspec": {
      "display_name": "Python 3 (ipykernel)",
      "language": "python",
      "name": "python3"
    },
    "language_info": {
      "codemirror_mode": {
        "name": "ipython",
        "version": 3
      },
      "file_extension": ".py",
      "mimetype": "text/x-python",
      "name": "python",
      "nbconvert_exporter": "python",
      "pygments_lexer": "ipython3",
      "version": "3.9.12"
    },
    "colab": {
      "provenance": []
    }
  },
  "nbformat": 4,
  "nbformat_minor": 5
}